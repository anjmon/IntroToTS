{
 "cells": [
  {
   "cell_type": "code",
   "id": "initial_id",
   "metadata": {
    "collapsed": true,
    "ExecuteTime": {
     "end_time": "2024-09-08T21:15:10.603817Z",
     "start_time": "2024-09-08T21:15:09.159536Z"
    }
   },
   "source": [
    "import pandas as pd\n",
    "\n",
    "df = pd.read_csv(\"Warehouse_and_Retail_Sales.csv\")\n",
    "\n",
    "df.head()"
   ],
   "outputs": [
    {
     "data": {
      "text/plain": [
       "   YEAR  MONTH                           SUPPLIER ITEM CODE  \\\n",
       "0  2020      1  REPUBLIC NATIONAL DISTRIBUTING CO    100009   \n",
       "1  2020      1                          PWSWN INC    100024   \n",
       "2  2020      1            RELIABLE CHURCHILL LLLP      1001   \n",
       "3  2020      1          LANTERNA DISTRIBUTORS INC    100145   \n",
       "4  2020      1               DIONYSOS IMPORTS INC    100293   \n",
       "\n",
       "                      ITEM DESCRIPTION ITEM TYPE  RETAIL SALES  \\\n",
       "0                  BOOTLEG RED - 750ML      WINE          0.00   \n",
       "1            MOMENT DE PLAISIR - 750ML      WINE          0.00   \n",
       "2  S SMITH ORGANIC PEAR CIDER - 18.7OZ      BEER          0.00   \n",
       "3        SCHLINK HAUS KABINETT - 750ML      WINE          0.00   \n",
       "4       SANTORINI GAVALA WHITE - 750ML      WINE          0.82   \n",
       "\n",
       "   RETAIL TRANSFERS  WAREHOUSE SALES  \n",
       "0               0.0              2.0  \n",
       "1               1.0              4.0  \n",
       "2               0.0              1.0  \n",
       "3               0.0              1.0  \n",
       "4               0.0              0.0  "
      ],
      "text/html": [
       "<div>\n",
       "<style scoped>\n",
       "    .dataframe tbody tr th:only-of-type {\n",
       "        vertical-align: middle;\n",
       "    }\n",
       "\n",
       "    .dataframe tbody tr th {\n",
       "        vertical-align: top;\n",
       "    }\n",
       "\n",
       "    .dataframe thead th {\n",
       "        text-align: right;\n",
       "    }\n",
       "</style>\n",
       "<table border=\"1\" class=\"dataframe\">\n",
       "  <thead>\n",
       "    <tr style=\"text-align: right;\">\n",
       "      <th></th>\n",
       "      <th>YEAR</th>\n",
       "      <th>MONTH</th>\n",
       "      <th>SUPPLIER</th>\n",
       "      <th>ITEM CODE</th>\n",
       "      <th>ITEM DESCRIPTION</th>\n",
       "      <th>ITEM TYPE</th>\n",
       "      <th>RETAIL SALES</th>\n",
       "      <th>RETAIL TRANSFERS</th>\n",
       "      <th>WAREHOUSE SALES</th>\n",
       "    </tr>\n",
       "  </thead>\n",
       "  <tbody>\n",
       "    <tr>\n",
       "      <th>0</th>\n",
       "      <td>2020</td>\n",
       "      <td>1</td>\n",
       "      <td>REPUBLIC NATIONAL DISTRIBUTING CO</td>\n",
       "      <td>100009</td>\n",
       "      <td>BOOTLEG RED - 750ML</td>\n",
       "      <td>WINE</td>\n",
       "      <td>0.00</td>\n",
       "      <td>0.0</td>\n",
       "      <td>2.0</td>\n",
       "    </tr>\n",
       "    <tr>\n",
       "      <th>1</th>\n",
       "      <td>2020</td>\n",
       "      <td>1</td>\n",
       "      <td>PWSWN INC</td>\n",
       "      <td>100024</td>\n",
       "      <td>MOMENT DE PLAISIR - 750ML</td>\n",
       "      <td>WINE</td>\n",
       "      <td>0.00</td>\n",
       "      <td>1.0</td>\n",
       "      <td>4.0</td>\n",
       "    </tr>\n",
       "    <tr>\n",
       "      <th>2</th>\n",
       "      <td>2020</td>\n",
       "      <td>1</td>\n",
       "      <td>RELIABLE CHURCHILL LLLP</td>\n",
       "      <td>1001</td>\n",
       "      <td>S SMITH ORGANIC PEAR CIDER - 18.7OZ</td>\n",
       "      <td>BEER</td>\n",
       "      <td>0.00</td>\n",
       "      <td>0.0</td>\n",
       "      <td>1.0</td>\n",
       "    </tr>\n",
       "    <tr>\n",
       "      <th>3</th>\n",
       "      <td>2020</td>\n",
       "      <td>1</td>\n",
       "      <td>LANTERNA DISTRIBUTORS INC</td>\n",
       "      <td>100145</td>\n",
       "      <td>SCHLINK HAUS KABINETT - 750ML</td>\n",
       "      <td>WINE</td>\n",
       "      <td>0.00</td>\n",
       "      <td>0.0</td>\n",
       "      <td>1.0</td>\n",
       "    </tr>\n",
       "    <tr>\n",
       "      <th>4</th>\n",
       "      <td>2020</td>\n",
       "      <td>1</td>\n",
       "      <td>DIONYSOS IMPORTS INC</td>\n",
       "      <td>100293</td>\n",
       "      <td>SANTORINI GAVALA WHITE - 750ML</td>\n",
       "      <td>WINE</td>\n",
       "      <td>0.82</td>\n",
       "      <td>0.0</td>\n",
       "      <td>0.0</td>\n",
       "    </tr>\n",
       "  </tbody>\n",
       "</table>\n",
       "</div>"
      ]
     },
     "execution_count": 2,
     "metadata": {},
     "output_type": "execute_result"
    }
   ],
   "execution_count": 2
  },
  {
   "metadata": {
    "ExecuteTime": {
     "end_time": "2024-09-08T21:28:10.922364Z",
     "start_time": "2024-09-08T21:28:10.523222Z"
    }
   },
   "cell_type": "code",
   "source": [
    "df['DATE'] = pd.to_datetime(df[['YEAR', 'MONTH']].assign(DAY=1))\n",
    "print(df['DATE'].unique())\n",
    "df_grouped = df.groupby(['DATE']).agg({'RETAIL SALES':'sum'}).reset_index()\n",
    "df_grouped.head(24)"
   ],
   "id": "9f51bc9fe6e92e24",
   "outputs": [
    {
     "name": "stdout",
     "output_type": "stream",
     "text": [
      "<DatetimeArray>\n",
      "['2020-01-01 00:00:00', '2020-07-01 00:00:00', '2020-03-01 00:00:00',\n",
      " '2020-09-01 00:00:00', '2017-06-01 00:00:00', '2017-07-01 00:00:00',\n",
      " '2017-08-01 00:00:00', '2017-12-01 00:00:00', '2017-09-01 00:00:00',\n",
      " '2017-10-01 00:00:00', '2017-11-01 00:00:00', '2018-01-01 00:00:00',\n",
      " '2018-02-01 00:00:00', '2019-01-01 00:00:00', '2019-11-01 00:00:00',\n",
      " '2019-02-01 00:00:00', '2019-03-01 00:00:00', '2019-04-01 00:00:00',\n",
      " '2019-05-01 00:00:00', '2019-06-01 00:00:00', '2019-07-01 00:00:00',\n",
      " '2019-08-01 00:00:00', '2019-09-01 00:00:00', '2019-10-01 00:00:00']\n",
      "Length: 24, dtype: datetime64[ns]\n"
     ]
    },
    {
     "data": {
      "text/plain": [
       "         DATE  RETAIL SALES\n",
       "0  2017-06-01      97357.26\n",
       "1  2017-07-01      92625.29\n",
       "2  2017-08-01      87111.78\n",
       "3  2017-09-01      90452.60\n",
       "4  2017-10-01      89236.96\n",
       "5  2017-11-01      98316.19\n",
       "6  2017-12-01     131634.49\n",
       "7  2018-01-01      75791.77\n",
       "8  2018-02-01      77804.13\n",
       "9  2019-01-01      76100.53\n",
       "10 2019-02-01      80113.54\n",
       "11 2019-03-01      84441.04\n",
       "12 2019-04-01      80342.58\n",
       "13 2019-05-01      94953.10\n",
       "14 2019-06-01      90860.39\n",
       "15 2019-07-01      90763.48\n",
       "16 2019-08-01      90628.61\n",
       "17 2019-09-01      82126.21\n",
       "18 2019-10-01      88230.41\n",
       "19 2019-11-01     101631.31\n",
       "20 2020-01-01      74318.77\n",
       "21 2020-03-01     109411.29\n",
       "22 2020-07-01      94538.96\n",
       "23 2020-09-01      82108.68"
      ],
      "text/html": [
       "<div>\n",
       "<style scoped>\n",
       "    .dataframe tbody tr th:only-of-type {\n",
       "        vertical-align: middle;\n",
       "    }\n",
       "\n",
       "    .dataframe tbody tr th {\n",
       "        vertical-align: top;\n",
       "    }\n",
       "\n",
       "    .dataframe thead th {\n",
       "        text-align: right;\n",
       "    }\n",
       "</style>\n",
       "<table border=\"1\" class=\"dataframe\">\n",
       "  <thead>\n",
       "    <tr style=\"text-align: right;\">\n",
       "      <th></th>\n",
       "      <th>DATE</th>\n",
       "      <th>RETAIL SALES</th>\n",
       "    </tr>\n",
       "  </thead>\n",
       "  <tbody>\n",
       "    <tr>\n",
       "      <th>0</th>\n",
       "      <td>2017-06-01</td>\n",
       "      <td>97357.26</td>\n",
       "    </tr>\n",
       "    <tr>\n",
       "      <th>1</th>\n",
       "      <td>2017-07-01</td>\n",
       "      <td>92625.29</td>\n",
       "    </tr>\n",
       "    <tr>\n",
       "      <th>2</th>\n",
       "      <td>2017-08-01</td>\n",
       "      <td>87111.78</td>\n",
       "    </tr>\n",
       "    <tr>\n",
       "      <th>3</th>\n",
       "      <td>2017-09-01</td>\n",
       "      <td>90452.60</td>\n",
       "    </tr>\n",
       "    <tr>\n",
       "      <th>4</th>\n",
       "      <td>2017-10-01</td>\n",
       "      <td>89236.96</td>\n",
       "    </tr>\n",
       "    <tr>\n",
       "      <th>5</th>\n",
       "      <td>2017-11-01</td>\n",
       "      <td>98316.19</td>\n",
       "    </tr>\n",
       "    <tr>\n",
       "      <th>6</th>\n",
       "      <td>2017-12-01</td>\n",
       "      <td>131634.49</td>\n",
       "    </tr>\n",
       "    <tr>\n",
       "      <th>7</th>\n",
       "      <td>2018-01-01</td>\n",
       "      <td>75791.77</td>\n",
       "    </tr>\n",
       "    <tr>\n",
       "      <th>8</th>\n",
       "      <td>2018-02-01</td>\n",
       "      <td>77804.13</td>\n",
       "    </tr>\n",
       "    <tr>\n",
       "      <th>9</th>\n",
       "      <td>2019-01-01</td>\n",
       "      <td>76100.53</td>\n",
       "    </tr>\n",
       "    <tr>\n",
       "      <th>10</th>\n",
       "      <td>2019-02-01</td>\n",
       "      <td>80113.54</td>\n",
       "    </tr>\n",
       "    <tr>\n",
       "      <th>11</th>\n",
       "      <td>2019-03-01</td>\n",
       "      <td>84441.04</td>\n",
       "    </tr>\n",
       "    <tr>\n",
       "      <th>12</th>\n",
       "      <td>2019-04-01</td>\n",
       "      <td>80342.58</td>\n",
       "    </tr>\n",
       "    <tr>\n",
       "      <th>13</th>\n",
       "      <td>2019-05-01</td>\n",
       "      <td>94953.10</td>\n",
       "    </tr>\n",
       "    <tr>\n",
       "      <th>14</th>\n",
       "      <td>2019-06-01</td>\n",
       "      <td>90860.39</td>\n",
       "    </tr>\n",
       "    <tr>\n",
       "      <th>15</th>\n",
       "      <td>2019-07-01</td>\n",
       "      <td>90763.48</td>\n",
       "    </tr>\n",
       "    <tr>\n",
       "      <th>16</th>\n",
       "      <td>2019-08-01</td>\n",
       "      <td>90628.61</td>\n",
       "    </tr>\n",
       "    <tr>\n",
       "      <th>17</th>\n",
       "      <td>2019-09-01</td>\n",
       "      <td>82126.21</td>\n",
       "    </tr>\n",
       "    <tr>\n",
       "      <th>18</th>\n",
       "      <td>2019-10-01</td>\n",
       "      <td>88230.41</td>\n",
       "    </tr>\n",
       "    <tr>\n",
       "      <th>19</th>\n",
       "      <td>2019-11-01</td>\n",
       "      <td>101631.31</td>\n",
       "    </tr>\n",
       "    <tr>\n",
       "      <th>20</th>\n",
       "      <td>2020-01-01</td>\n",
       "      <td>74318.77</td>\n",
       "    </tr>\n",
       "    <tr>\n",
       "      <th>21</th>\n",
       "      <td>2020-03-01</td>\n",
       "      <td>109411.29</td>\n",
       "    </tr>\n",
       "    <tr>\n",
       "      <th>22</th>\n",
       "      <td>2020-07-01</td>\n",
       "      <td>94538.96</td>\n",
       "    </tr>\n",
       "    <tr>\n",
       "      <th>23</th>\n",
       "      <td>2020-09-01</td>\n",
       "      <td>82108.68</td>\n",
       "    </tr>\n",
       "  </tbody>\n",
       "</table>\n",
       "</div>"
      ]
     },
     "execution_count": 15,
     "metadata": {},
     "output_type": "execute_result"
    }
   ],
   "execution_count": 15
  },
  {
   "metadata": {
    "ExecuteTime": {
     "end_time": "2024-09-08T21:29:13.108410Z",
     "start_time": "2024-09-08T21:29:12.993351Z"
    }
   },
   "cell_type": "code",
   "source": [
    "import plotly.express as px\n",
    "\n",
    "fig = px.line(df_grouped, x='DATE', y='RETAIL SALES', title=\"\", markers=True)\n",
    "\n",
    "# Show the plot\n",
    "fig.show()"
   ],
   "id": "34d9902f02539311",
   "outputs": [
    {
     "data": {
      "application/vnd.plotly.v1+json": {
       "data": [
        {
         "hovertemplate": "DATE=%{x}<br>RETAIL SALES=%{y}<extra></extra>",
         "legendgroup": "",
         "line": {
          "color": "#636efa",
          "dash": "solid"
         },
         "marker": {
          "symbol": "circle"
         },
         "mode": "lines+markers",
         "name": "",
         "orientation": "v",
         "showlegend": false,
         "x": [
          "2017-06-01T00:00:00",
          "2017-07-01T00:00:00",
          "2017-08-01T00:00:00",
          "2017-09-01T00:00:00",
          "2017-10-01T00:00:00",
          "2017-11-01T00:00:00",
          "2017-12-01T00:00:00",
          "2018-01-01T00:00:00",
          "2018-02-01T00:00:00",
          "2019-01-01T00:00:00",
          "2019-02-01T00:00:00",
          "2019-03-01T00:00:00",
          "2019-04-01T00:00:00",
          "2019-05-01T00:00:00",
          "2019-06-01T00:00:00",
          "2019-07-01T00:00:00",
          "2019-08-01T00:00:00",
          "2019-09-01T00:00:00",
          "2019-10-01T00:00:00",
          "2019-11-01T00:00:00",
          "2020-01-01T00:00:00",
          "2020-03-01T00:00:00",
          "2020-07-01T00:00:00",
          "2020-09-01T00:00:00"
         ],
         "xaxis": "x",
         "y": [
          97357.26,
          92625.29,
          87111.78,
          90452.6,
          89236.96,
          98316.19,
          131634.49,
          75791.77,
          77804.13,
          76100.53,
          80113.54,
          84441.04,
          80342.58,
          94953.1,
          90860.39,
          90763.48,
          90628.61,
          82126.21,
          88230.41,
          101631.31,
          74318.77,
          109411.29,
          94538.96,
          82108.68
         ],
         "yaxis": "y",
         "type": "scatter"
        }
       ],
       "layout": {
        "template": {
         "data": {
          "histogram2dcontour": [
           {
            "type": "histogram2dcontour",
            "colorbar": {
             "outlinewidth": 0,
             "ticks": ""
            },
            "colorscale": [
             [
              0.0,
              "#0d0887"
             ],
             [
              0.1111111111111111,
              "#46039f"
             ],
             [
              0.2222222222222222,
              "#7201a8"
             ],
             [
              0.3333333333333333,
              "#9c179e"
             ],
             [
              0.4444444444444444,
              "#bd3786"
             ],
             [
              0.5555555555555556,
              "#d8576b"
             ],
             [
              0.6666666666666666,
              "#ed7953"
             ],
             [
              0.7777777777777778,
              "#fb9f3a"
             ],
             [
              0.8888888888888888,
              "#fdca26"
             ],
             [
              1.0,
              "#f0f921"
             ]
            ]
           }
          ],
          "choropleth": [
           {
            "type": "choropleth",
            "colorbar": {
             "outlinewidth": 0,
             "ticks": ""
            }
           }
          ],
          "histogram2d": [
           {
            "type": "histogram2d",
            "colorbar": {
             "outlinewidth": 0,
             "ticks": ""
            },
            "colorscale": [
             [
              0.0,
              "#0d0887"
             ],
             [
              0.1111111111111111,
              "#46039f"
             ],
             [
              0.2222222222222222,
              "#7201a8"
             ],
             [
              0.3333333333333333,
              "#9c179e"
             ],
             [
              0.4444444444444444,
              "#bd3786"
             ],
             [
              0.5555555555555556,
              "#d8576b"
             ],
             [
              0.6666666666666666,
              "#ed7953"
             ],
             [
              0.7777777777777778,
              "#fb9f3a"
             ],
             [
              0.8888888888888888,
              "#fdca26"
             ],
             [
              1.0,
              "#f0f921"
             ]
            ]
           }
          ],
          "heatmap": [
           {
            "type": "heatmap",
            "colorbar": {
             "outlinewidth": 0,
             "ticks": ""
            },
            "colorscale": [
             [
              0.0,
              "#0d0887"
             ],
             [
              0.1111111111111111,
              "#46039f"
             ],
             [
              0.2222222222222222,
              "#7201a8"
             ],
             [
              0.3333333333333333,
              "#9c179e"
             ],
             [
              0.4444444444444444,
              "#bd3786"
             ],
             [
              0.5555555555555556,
              "#d8576b"
             ],
             [
              0.6666666666666666,
              "#ed7953"
             ],
             [
              0.7777777777777778,
              "#fb9f3a"
             ],
             [
              0.8888888888888888,
              "#fdca26"
             ],
             [
              1.0,
              "#f0f921"
             ]
            ]
           }
          ],
          "heatmapgl": [
           {
            "type": "heatmapgl",
            "colorbar": {
             "outlinewidth": 0,
             "ticks": ""
            },
            "colorscale": [
             [
              0.0,
              "#0d0887"
             ],
             [
              0.1111111111111111,
              "#46039f"
             ],
             [
              0.2222222222222222,
              "#7201a8"
             ],
             [
              0.3333333333333333,
              "#9c179e"
             ],
             [
              0.4444444444444444,
              "#bd3786"
             ],
             [
              0.5555555555555556,
              "#d8576b"
             ],
             [
              0.6666666666666666,
              "#ed7953"
             ],
             [
              0.7777777777777778,
              "#fb9f3a"
             ],
             [
              0.8888888888888888,
              "#fdca26"
             ],
             [
              1.0,
              "#f0f921"
             ]
            ]
           }
          ],
          "contourcarpet": [
           {
            "type": "contourcarpet",
            "colorbar": {
             "outlinewidth": 0,
             "ticks": ""
            }
           }
          ],
          "contour": [
           {
            "type": "contour",
            "colorbar": {
             "outlinewidth": 0,
             "ticks": ""
            },
            "colorscale": [
             [
              0.0,
              "#0d0887"
             ],
             [
              0.1111111111111111,
              "#46039f"
             ],
             [
              0.2222222222222222,
              "#7201a8"
             ],
             [
              0.3333333333333333,
              "#9c179e"
             ],
             [
              0.4444444444444444,
              "#bd3786"
             ],
             [
              0.5555555555555556,
              "#d8576b"
             ],
             [
              0.6666666666666666,
              "#ed7953"
             ],
             [
              0.7777777777777778,
              "#fb9f3a"
             ],
             [
              0.8888888888888888,
              "#fdca26"
             ],
             [
              1.0,
              "#f0f921"
             ]
            ]
           }
          ],
          "surface": [
           {
            "type": "surface",
            "colorbar": {
             "outlinewidth": 0,
             "ticks": ""
            },
            "colorscale": [
             [
              0.0,
              "#0d0887"
             ],
             [
              0.1111111111111111,
              "#46039f"
             ],
             [
              0.2222222222222222,
              "#7201a8"
             ],
             [
              0.3333333333333333,
              "#9c179e"
             ],
             [
              0.4444444444444444,
              "#bd3786"
             ],
             [
              0.5555555555555556,
              "#d8576b"
             ],
             [
              0.6666666666666666,
              "#ed7953"
             ],
             [
              0.7777777777777778,
              "#fb9f3a"
             ],
             [
              0.8888888888888888,
              "#fdca26"
             ],
             [
              1.0,
              "#f0f921"
             ]
            ]
           }
          ],
          "mesh3d": [
           {
            "type": "mesh3d",
            "colorbar": {
             "outlinewidth": 0,
             "ticks": ""
            }
           }
          ],
          "scatter": [
           {
            "fillpattern": {
             "fillmode": "overlay",
             "size": 10,
             "solidity": 0.2
            },
            "type": "scatter"
           }
          ],
          "parcoords": [
           {
            "type": "parcoords",
            "line": {
             "colorbar": {
              "outlinewidth": 0,
              "ticks": ""
             }
            }
           }
          ],
          "scatterpolargl": [
           {
            "type": "scatterpolargl",
            "marker": {
             "colorbar": {
              "outlinewidth": 0,
              "ticks": ""
             }
            }
           }
          ],
          "bar": [
           {
            "error_x": {
             "color": "#2a3f5f"
            },
            "error_y": {
             "color": "#2a3f5f"
            },
            "marker": {
             "line": {
              "color": "#E5ECF6",
              "width": 0.5
             },
             "pattern": {
              "fillmode": "overlay",
              "size": 10,
              "solidity": 0.2
             }
            },
            "type": "bar"
           }
          ],
          "scattergeo": [
           {
            "type": "scattergeo",
            "marker": {
             "colorbar": {
              "outlinewidth": 0,
              "ticks": ""
             }
            }
           }
          ],
          "scatterpolar": [
           {
            "type": "scatterpolar",
            "marker": {
             "colorbar": {
              "outlinewidth": 0,
              "ticks": ""
             }
            }
           }
          ],
          "histogram": [
           {
            "marker": {
             "pattern": {
              "fillmode": "overlay",
              "size": 10,
              "solidity": 0.2
             }
            },
            "type": "histogram"
           }
          ],
          "scattergl": [
           {
            "type": "scattergl",
            "marker": {
             "colorbar": {
              "outlinewidth": 0,
              "ticks": ""
             }
            }
           }
          ],
          "scatter3d": [
           {
            "type": "scatter3d",
            "line": {
             "colorbar": {
              "outlinewidth": 0,
              "ticks": ""
             }
            },
            "marker": {
             "colorbar": {
              "outlinewidth": 0,
              "ticks": ""
             }
            }
           }
          ],
          "scattermapbox": [
           {
            "type": "scattermapbox",
            "marker": {
             "colorbar": {
              "outlinewidth": 0,
              "ticks": ""
             }
            }
           }
          ],
          "scatterternary": [
           {
            "type": "scatterternary",
            "marker": {
             "colorbar": {
              "outlinewidth": 0,
              "ticks": ""
             }
            }
           }
          ],
          "scattercarpet": [
           {
            "type": "scattercarpet",
            "marker": {
             "colorbar": {
              "outlinewidth": 0,
              "ticks": ""
             }
            }
           }
          ],
          "carpet": [
           {
            "aaxis": {
             "endlinecolor": "#2a3f5f",
             "gridcolor": "white",
             "linecolor": "white",
             "minorgridcolor": "white",
             "startlinecolor": "#2a3f5f"
            },
            "baxis": {
             "endlinecolor": "#2a3f5f",
             "gridcolor": "white",
             "linecolor": "white",
             "minorgridcolor": "white",
             "startlinecolor": "#2a3f5f"
            },
            "type": "carpet"
           }
          ],
          "table": [
           {
            "cells": {
             "fill": {
              "color": "#EBF0F8"
             },
             "line": {
              "color": "white"
             }
            },
            "header": {
             "fill": {
              "color": "#C8D4E3"
             },
             "line": {
              "color": "white"
             }
            },
            "type": "table"
           }
          ],
          "barpolar": [
           {
            "marker": {
             "line": {
              "color": "#E5ECF6",
              "width": 0.5
             },
             "pattern": {
              "fillmode": "overlay",
              "size": 10,
              "solidity": 0.2
             }
            },
            "type": "barpolar"
           }
          ],
          "pie": [
           {
            "automargin": true,
            "type": "pie"
           }
          ]
         },
         "layout": {
          "autotypenumbers": "strict",
          "colorway": [
           "#636efa",
           "#EF553B",
           "#00cc96",
           "#ab63fa",
           "#FFA15A",
           "#19d3f3",
           "#FF6692",
           "#B6E880",
           "#FF97FF",
           "#FECB52"
          ],
          "font": {
           "color": "#2a3f5f"
          },
          "hovermode": "closest",
          "hoverlabel": {
           "align": "left"
          },
          "paper_bgcolor": "white",
          "plot_bgcolor": "#E5ECF6",
          "polar": {
           "bgcolor": "#E5ECF6",
           "angularaxis": {
            "gridcolor": "white",
            "linecolor": "white",
            "ticks": ""
           },
           "radialaxis": {
            "gridcolor": "white",
            "linecolor": "white",
            "ticks": ""
           }
          },
          "ternary": {
           "bgcolor": "#E5ECF6",
           "aaxis": {
            "gridcolor": "white",
            "linecolor": "white",
            "ticks": ""
           },
           "baxis": {
            "gridcolor": "white",
            "linecolor": "white",
            "ticks": ""
           },
           "caxis": {
            "gridcolor": "white",
            "linecolor": "white",
            "ticks": ""
           }
          },
          "coloraxis": {
           "colorbar": {
            "outlinewidth": 0,
            "ticks": ""
           }
          },
          "colorscale": {
           "sequential": [
            [
             0.0,
             "#0d0887"
            ],
            [
             0.1111111111111111,
             "#46039f"
            ],
            [
             0.2222222222222222,
             "#7201a8"
            ],
            [
             0.3333333333333333,
             "#9c179e"
            ],
            [
             0.4444444444444444,
             "#bd3786"
            ],
            [
             0.5555555555555556,
             "#d8576b"
            ],
            [
             0.6666666666666666,
             "#ed7953"
            ],
            [
             0.7777777777777778,
             "#fb9f3a"
            ],
            [
             0.8888888888888888,
             "#fdca26"
            ],
            [
             1.0,
             "#f0f921"
            ]
           ],
           "sequentialminus": [
            [
             0.0,
             "#0d0887"
            ],
            [
             0.1111111111111111,
             "#46039f"
            ],
            [
             0.2222222222222222,
             "#7201a8"
            ],
            [
             0.3333333333333333,
             "#9c179e"
            ],
            [
             0.4444444444444444,
             "#bd3786"
            ],
            [
             0.5555555555555556,
             "#d8576b"
            ],
            [
             0.6666666666666666,
             "#ed7953"
            ],
            [
             0.7777777777777778,
             "#fb9f3a"
            ],
            [
             0.8888888888888888,
             "#fdca26"
            ],
            [
             1.0,
             "#f0f921"
            ]
           ],
           "diverging": [
            [
             0,
             "#8e0152"
            ],
            [
             0.1,
             "#c51b7d"
            ],
            [
             0.2,
             "#de77ae"
            ],
            [
             0.3,
             "#f1b6da"
            ],
            [
             0.4,
             "#fde0ef"
            ],
            [
             0.5,
             "#f7f7f7"
            ],
            [
             0.6,
             "#e6f5d0"
            ],
            [
             0.7,
             "#b8e186"
            ],
            [
             0.8,
             "#7fbc41"
            ],
            [
             0.9,
             "#4d9221"
            ],
            [
             1,
             "#276419"
            ]
           ]
          },
          "xaxis": {
           "gridcolor": "white",
           "linecolor": "white",
           "ticks": "",
           "title": {
            "standoff": 15
           },
           "zerolinecolor": "white",
           "automargin": true,
           "zerolinewidth": 2
          },
          "yaxis": {
           "gridcolor": "white",
           "linecolor": "white",
           "ticks": "",
           "title": {
            "standoff": 15
           },
           "zerolinecolor": "white",
           "automargin": true,
           "zerolinewidth": 2
          },
          "scene": {
           "xaxis": {
            "backgroundcolor": "#E5ECF6",
            "gridcolor": "white",
            "linecolor": "white",
            "showbackground": true,
            "ticks": "",
            "zerolinecolor": "white",
            "gridwidth": 2
           },
           "yaxis": {
            "backgroundcolor": "#E5ECF6",
            "gridcolor": "white",
            "linecolor": "white",
            "showbackground": true,
            "ticks": "",
            "zerolinecolor": "white",
            "gridwidth": 2
           },
           "zaxis": {
            "backgroundcolor": "#E5ECF6",
            "gridcolor": "white",
            "linecolor": "white",
            "showbackground": true,
            "ticks": "",
            "zerolinecolor": "white",
            "gridwidth": 2
           }
          },
          "shapedefaults": {
           "line": {
            "color": "#2a3f5f"
           }
          },
          "annotationdefaults": {
           "arrowcolor": "#2a3f5f",
           "arrowhead": 0,
           "arrowwidth": 1
          },
          "geo": {
           "bgcolor": "white",
           "landcolor": "#E5ECF6",
           "subunitcolor": "white",
           "showland": true,
           "showlakes": true,
           "lakecolor": "white"
          },
          "title": {
           "x": 0.05
          },
          "mapbox": {
           "style": "light"
          }
         }
        },
        "xaxis": {
         "anchor": "y",
         "domain": [
          0.0,
          1.0
         ],
         "title": {
          "text": "DATE"
         }
        },
        "yaxis": {
         "anchor": "x",
         "domain": [
          0.0,
          1.0
         ],
         "title": {
          "text": "RETAIL SALES"
         }
        },
        "legend": {
         "tracegroupgap": 0
        },
        "margin": {
         "t": 60
        }
       },
       "config": {
        "plotlyServerURL": "https://plot.ly"
       }
      },
      "text/html": [
       "<div>                            <div id=\"758179d8-9d31-4ca6-8d4d-0788078b3600\" class=\"plotly-graph-div\" style=\"height:525px; width:100%;\"></div>            <script type=\"text/javascript\">                require([\"plotly\"], function(Plotly) {                    window.PLOTLYENV=window.PLOTLYENV || {};                                    if (document.getElementById(\"758179d8-9d31-4ca6-8d4d-0788078b3600\")) {                    Plotly.newPlot(                        \"758179d8-9d31-4ca6-8d4d-0788078b3600\",                        [{\"hovertemplate\":\"DATE=%{x}\\u003cbr\\u003eRETAIL SALES=%{y}\\u003cextra\\u003e\\u003c\\u002fextra\\u003e\",\"legendgroup\":\"\",\"line\":{\"color\":\"#636efa\",\"dash\":\"solid\"},\"marker\":{\"symbol\":\"circle\"},\"mode\":\"lines+markers\",\"name\":\"\",\"orientation\":\"v\",\"showlegend\":false,\"x\":[\"2017-06-01T00:00:00\",\"2017-07-01T00:00:00\",\"2017-08-01T00:00:00\",\"2017-09-01T00:00:00\",\"2017-10-01T00:00:00\",\"2017-11-01T00:00:00\",\"2017-12-01T00:00:00\",\"2018-01-01T00:00:00\",\"2018-02-01T00:00:00\",\"2019-01-01T00:00:00\",\"2019-02-01T00:00:00\",\"2019-03-01T00:00:00\",\"2019-04-01T00:00:00\",\"2019-05-01T00:00:00\",\"2019-06-01T00:00:00\",\"2019-07-01T00:00:00\",\"2019-08-01T00:00:00\",\"2019-09-01T00:00:00\",\"2019-10-01T00:00:00\",\"2019-11-01T00:00:00\",\"2020-01-01T00:00:00\",\"2020-03-01T00:00:00\",\"2020-07-01T00:00:00\",\"2020-09-01T00:00:00\"],\"xaxis\":\"x\",\"y\":[97357.26,92625.29,87111.78,90452.6,89236.96,98316.19,131634.49,75791.77,77804.13,76100.53,80113.54,84441.04,80342.58,94953.1,90860.39,90763.48,90628.61,82126.21,88230.41,101631.31,74318.77,109411.29,94538.96,82108.68],\"yaxis\":\"y\",\"type\":\"scatter\"}],                        {\"template\":{\"data\":{\"histogram2dcontour\":[{\"type\":\"histogram2dcontour\",\"colorbar\":{\"outlinewidth\":0,\"ticks\":\"\"},\"colorscale\":[[0.0,\"#0d0887\"],[0.1111111111111111,\"#46039f\"],[0.2222222222222222,\"#7201a8\"],[0.3333333333333333,\"#9c179e\"],[0.4444444444444444,\"#bd3786\"],[0.5555555555555556,\"#d8576b\"],[0.6666666666666666,\"#ed7953\"],[0.7777777777777778,\"#fb9f3a\"],[0.8888888888888888,\"#fdca26\"],[1.0,\"#f0f921\"]]}],\"choropleth\":[{\"type\":\"choropleth\",\"colorbar\":{\"outlinewidth\":0,\"ticks\":\"\"}}],\"histogram2d\":[{\"type\":\"histogram2d\",\"colorbar\":{\"outlinewidth\":0,\"ticks\":\"\"},\"colorscale\":[[0.0,\"#0d0887\"],[0.1111111111111111,\"#46039f\"],[0.2222222222222222,\"#7201a8\"],[0.3333333333333333,\"#9c179e\"],[0.4444444444444444,\"#bd3786\"],[0.5555555555555556,\"#d8576b\"],[0.6666666666666666,\"#ed7953\"],[0.7777777777777778,\"#fb9f3a\"],[0.8888888888888888,\"#fdca26\"],[1.0,\"#f0f921\"]]}],\"heatmap\":[{\"type\":\"heatmap\",\"colorbar\":{\"outlinewidth\":0,\"ticks\":\"\"},\"colorscale\":[[0.0,\"#0d0887\"],[0.1111111111111111,\"#46039f\"],[0.2222222222222222,\"#7201a8\"],[0.3333333333333333,\"#9c179e\"],[0.4444444444444444,\"#bd3786\"],[0.5555555555555556,\"#d8576b\"],[0.6666666666666666,\"#ed7953\"],[0.7777777777777778,\"#fb9f3a\"],[0.8888888888888888,\"#fdca26\"],[1.0,\"#f0f921\"]]}],\"heatmapgl\":[{\"type\":\"heatmapgl\",\"colorbar\":{\"outlinewidth\":0,\"ticks\":\"\"},\"colorscale\":[[0.0,\"#0d0887\"],[0.1111111111111111,\"#46039f\"],[0.2222222222222222,\"#7201a8\"],[0.3333333333333333,\"#9c179e\"],[0.4444444444444444,\"#bd3786\"],[0.5555555555555556,\"#d8576b\"],[0.6666666666666666,\"#ed7953\"],[0.7777777777777778,\"#fb9f3a\"],[0.8888888888888888,\"#fdca26\"],[1.0,\"#f0f921\"]]}],\"contourcarpet\":[{\"type\":\"contourcarpet\",\"colorbar\":{\"outlinewidth\":0,\"ticks\":\"\"}}],\"contour\":[{\"type\":\"contour\",\"colorbar\":{\"outlinewidth\":0,\"ticks\":\"\"},\"colorscale\":[[0.0,\"#0d0887\"],[0.1111111111111111,\"#46039f\"],[0.2222222222222222,\"#7201a8\"],[0.3333333333333333,\"#9c179e\"],[0.4444444444444444,\"#bd3786\"],[0.5555555555555556,\"#d8576b\"],[0.6666666666666666,\"#ed7953\"],[0.7777777777777778,\"#fb9f3a\"],[0.8888888888888888,\"#fdca26\"],[1.0,\"#f0f921\"]]}],\"surface\":[{\"type\":\"surface\",\"colorbar\":{\"outlinewidth\":0,\"ticks\":\"\"},\"colorscale\":[[0.0,\"#0d0887\"],[0.1111111111111111,\"#46039f\"],[0.2222222222222222,\"#7201a8\"],[0.3333333333333333,\"#9c179e\"],[0.4444444444444444,\"#bd3786\"],[0.5555555555555556,\"#d8576b\"],[0.6666666666666666,\"#ed7953\"],[0.7777777777777778,\"#fb9f3a\"],[0.8888888888888888,\"#fdca26\"],[1.0,\"#f0f921\"]]}],\"mesh3d\":[{\"type\":\"mesh3d\",\"colorbar\":{\"outlinewidth\":0,\"ticks\":\"\"}}],\"scatter\":[{\"fillpattern\":{\"fillmode\":\"overlay\",\"size\":10,\"solidity\":0.2},\"type\":\"scatter\"}],\"parcoords\":[{\"type\":\"parcoords\",\"line\":{\"colorbar\":{\"outlinewidth\":0,\"ticks\":\"\"}}}],\"scatterpolargl\":[{\"type\":\"scatterpolargl\",\"marker\":{\"colorbar\":{\"outlinewidth\":0,\"ticks\":\"\"}}}],\"bar\":[{\"error_x\":{\"color\":\"#2a3f5f\"},\"error_y\":{\"color\":\"#2a3f5f\"},\"marker\":{\"line\":{\"color\":\"#E5ECF6\",\"width\":0.5},\"pattern\":{\"fillmode\":\"overlay\",\"size\":10,\"solidity\":0.2}},\"type\":\"bar\"}],\"scattergeo\":[{\"type\":\"scattergeo\",\"marker\":{\"colorbar\":{\"outlinewidth\":0,\"ticks\":\"\"}}}],\"scatterpolar\":[{\"type\":\"scatterpolar\",\"marker\":{\"colorbar\":{\"outlinewidth\":0,\"ticks\":\"\"}}}],\"histogram\":[{\"marker\":{\"pattern\":{\"fillmode\":\"overlay\",\"size\":10,\"solidity\":0.2}},\"type\":\"histogram\"}],\"scattergl\":[{\"type\":\"scattergl\",\"marker\":{\"colorbar\":{\"outlinewidth\":0,\"ticks\":\"\"}}}],\"scatter3d\":[{\"type\":\"scatter3d\",\"line\":{\"colorbar\":{\"outlinewidth\":0,\"ticks\":\"\"}},\"marker\":{\"colorbar\":{\"outlinewidth\":0,\"ticks\":\"\"}}}],\"scattermapbox\":[{\"type\":\"scattermapbox\",\"marker\":{\"colorbar\":{\"outlinewidth\":0,\"ticks\":\"\"}}}],\"scatterternary\":[{\"type\":\"scatterternary\",\"marker\":{\"colorbar\":{\"outlinewidth\":0,\"ticks\":\"\"}}}],\"scattercarpet\":[{\"type\":\"scattercarpet\",\"marker\":{\"colorbar\":{\"outlinewidth\":0,\"ticks\":\"\"}}}],\"carpet\":[{\"aaxis\":{\"endlinecolor\":\"#2a3f5f\",\"gridcolor\":\"white\",\"linecolor\":\"white\",\"minorgridcolor\":\"white\",\"startlinecolor\":\"#2a3f5f\"},\"baxis\":{\"endlinecolor\":\"#2a3f5f\",\"gridcolor\":\"white\",\"linecolor\":\"white\",\"minorgridcolor\":\"white\",\"startlinecolor\":\"#2a3f5f\"},\"type\":\"carpet\"}],\"table\":[{\"cells\":{\"fill\":{\"color\":\"#EBF0F8\"},\"line\":{\"color\":\"white\"}},\"header\":{\"fill\":{\"color\":\"#C8D4E3\"},\"line\":{\"color\":\"white\"}},\"type\":\"table\"}],\"barpolar\":[{\"marker\":{\"line\":{\"color\":\"#E5ECF6\",\"width\":0.5},\"pattern\":{\"fillmode\":\"overlay\",\"size\":10,\"solidity\":0.2}},\"type\":\"barpolar\"}],\"pie\":[{\"automargin\":true,\"type\":\"pie\"}]},\"layout\":{\"autotypenumbers\":\"strict\",\"colorway\":[\"#636efa\",\"#EF553B\",\"#00cc96\",\"#ab63fa\",\"#FFA15A\",\"#19d3f3\",\"#FF6692\",\"#B6E880\",\"#FF97FF\",\"#FECB52\"],\"font\":{\"color\":\"#2a3f5f\"},\"hovermode\":\"closest\",\"hoverlabel\":{\"align\":\"left\"},\"paper_bgcolor\":\"white\",\"plot_bgcolor\":\"#E5ECF6\",\"polar\":{\"bgcolor\":\"#E5ECF6\",\"angularaxis\":{\"gridcolor\":\"white\",\"linecolor\":\"white\",\"ticks\":\"\"},\"radialaxis\":{\"gridcolor\":\"white\",\"linecolor\":\"white\",\"ticks\":\"\"}},\"ternary\":{\"bgcolor\":\"#E5ECF6\",\"aaxis\":{\"gridcolor\":\"white\",\"linecolor\":\"white\",\"ticks\":\"\"},\"baxis\":{\"gridcolor\":\"white\",\"linecolor\":\"white\",\"ticks\":\"\"},\"caxis\":{\"gridcolor\":\"white\",\"linecolor\":\"white\",\"ticks\":\"\"}},\"coloraxis\":{\"colorbar\":{\"outlinewidth\":0,\"ticks\":\"\"}},\"colorscale\":{\"sequential\":[[0.0,\"#0d0887\"],[0.1111111111111111,\"#46039f\"],[0.2222222222222222,\"#7201a8\"],[0.3333333333333333,\"#9c179e\"],[0.4444444444444444,\"#bd3786\"],[0.5555555555555556,\"#d8576b\"],[0.6666666666666666,\"#ed7953\"],[0.7777777777777778,\"#fb9f3a\"],[0.8888888888888888,\"#fdca26\"],[1.0,\"#f0f921\"]],\"sequentialminus\":[[0.0,\"#0d0887\"],[0.1111111111111111,\"#46039f\"],[0.2222222222222222,\"#7201a8\"],[0.3333333333333333,\"#9c179e\"],[0.4444444444444444,\"#bd3786\"],[0.5555555555555556,\"#d8576b\"],[0.6666666666666666,\"#ed7953\"],[0.7777777777777778,\"#fb9f3a\"],[0.8888888888888888,\"#fdca26\"],[1.0,\"#f0f921\"]],\"diverging\":[[0,\"#8e0152\"],[0.1,\"#c51b7d\"],[0.2,\"#de77ae\"],[0.3,\"#f1b6da\"],[0.4,\"#fde0ef\"],[0.5,\"#f7f7f7\"],[0.6,\"#e6f5d0\"],[0.7,\"#b8e186\"],[0.8,\"#7fbc41\"],[0.9,\"#4d9221\"],[1,\"#276419\"]]},\"xaxis\":{\"gridcolor\":\"white\",\"linecolor\":\"white\",\"ticks\":\"\",\"title\":{\"standoff\":15},\"zerolinecolor\":\"white\",\"automargin\":true,\"zerolinewidth\":2},\"yaxis\":{\"gridcolor\":\"white\",\"linecolor\":\"white\",\"ticks\":\"\",\"title\":{\"standoff\":15},\"zerolinecolor\":\"white\",\"automargin\":true,\"zerolinewidth\":2},\"scene\":{\"xaxis\":{\"backgroundcolor\":\"#E5ECF6\",\"gridcolor\":\"white\",\"linecolor\":\"white\",\"showbackground\":true,\"ticks\":\"\",\"zerolinecolor\":\"white\",\"gridwidth\":2},\"yaxis\":{\"backgroundcolor\":\"#E5ECF6\",\"gridcolor\":\"white\",\"linecolor\":\"white\",\"showbackground\":true,\"ticks\":\"\",\"zerolinecolor\":\"white\",\"gridwidth\":2},\"zaxis\":{\"backgroundcolor\":\"#E5ECF6\",\"gridcolor\":\"white\",\"linecolor\":\"white\",\"showbackground\":true,\"ticks\":\"\",\"zerolinecolor\":\"white\",\"gridwidth\":2}},\"shapedefaults\":{\"line\":{\"color\":\"#2a3f5f\"}},\"annotationdefaults\":{\"arrowcolor\":\"#2a3f5f\",\"arrowhead\":0,\"arrowwidth\":1},\"geo\":{\"bgcolor\":\"white\",\"landcolor\":\"#E5ECF6\",\"subunitcolor\":\"white\",\"showland\":true,\"showlakes\":true,\"lakecolor\":\"white\"},\"title\":{\"x\":0.05},\"mapbox\":{\"style\":\"light\"}}},\"xaxis\":{\"anchor\":\"y\",\"domain\":[0.0,1.0],\"title\":{\"text\":\"DATE\"}},\"yaxis\":{\"anchor\":\"x\",\"domain\":[0.0,1.0],\"title\":{\"text\":\"RETAIL SALES\"}},\"legend\":{\"tracegroupgap\":0},\"margin\":{\"t\":60}},                        {\"responsive\": true}                    ).then(function(){\n",
       "                            \n",
       "var gd = document.getElementById('758179d8-9d31-4ca6-8d4d-0788078b3600');\n",
       "var x = new MutationObserver(function (mutations, observer) {{\n",
       "        var display = window.getComputedStyle(gd).display;\n",
       "        if (!display || display === 'none') {{\n",
       "            console.log([gd, 'removed!']);\n",
       "            Plotly.purge(gd);\n",
       "            observer.disconnect();\n",
       "        }}\n",
       "}});\n",
       "\n",
       "// Listen for the removal of the full notebook cells\n",
       "var notebookContainer = gd.closest('#notebook-container');\n",
       "if (notebookContainer) {{\n",
       "    x.observe(notebookContainer, {childList: true});\n",
       "}}\n",
       "\n",
       "// Listen for the clearing of the current output cell\n",
       "var outputEl = gd.closest('.output');\n",
       "if (outputEl) {{\n",
       "    x.observe(outputEl, {childList: true});\n",
       "}}\n",
       "\n",
       "                        })                };                });            </script>        </div>"
      ]
     },
     "metadata": {},
     "output_type": "display_data"
    }
   ],
   "execution_count": 17
  },
  {
   "metadata": {
    "ExecuteTime": {
     "end_time": "2024-09-08T21:27:27.840357Z",
     "start_time": "2024-09-08T21:27:27.776240Z"
    }
   },
   "cell_type": "code",
   "source": "print(df_grouped)",
   "id": "21d63c34164ce229",
   "outputs": [
    {
     "name": "stdout",
     "output_type": "stream",
     "text": [
      "            RETAIL SALES\n",
      "DATE                    \n",
      "2017-06-01      97357.26\n",
      "2017-07-01      92625.29\n",
      "2017-08-01      87111.78\n",
      "2017-09-01      90452.60\n",
      "2017-10-01      89236.96\n",
      "2017-11-01      98316.19\n",
      "2017-12-01     131634.49\n",
      "2018-01-01      75791.77\n",
      "2018-02-01      77804.13\n",
      "2019-01-01      76100.53\n",
      "2019-02-01      80113.54\n",
      "2019-03-01      84441.04\n",
      "2019-04-01      80342.58\n",
      "2019-05-01      94953.10\n",
      "2019-06-01      90860.39\n",
      "2019-07-01      90763.48\n",
      "2019-08-01      90628.61\n",
      "2019-09-01      82126.21\n",
      "2019-10-01      88230.41\n",
      "2019-11-01     101631.31\n",
      "2020-01-01      74318.77\n",
      "2020-03-01     109411.29\n",
      "2020-07-01      94538.96\n",
      "2020-09-01      82108.68\n"
     ]
    }
   ],
   "execution_count": 14
  },
  {
   "metadata": {},
   "cell_type": "markdown",
   "source": "# Signal Detection Problem",
   "id": "1d5104e34cf05893"
  },
  {
   "metadata": {
    "ExecuteTime": {
     "end_time": "2024-09-09T13:40:06.403611Z",
     "start_time": "2024-09-09T13:40:06.358439Z"
    }
   },
   "cell_type": "code",
   "source": [
    "import numpy as np\n",
    "import plotly.express as px\n",
    "import plotly.graph_objects as go\n",
    "\n",
    "x = np.linspace(0, 8 * np.pi, 500)\n",
    "\n",
    "y = np.cos(y)\n",
    "\n",
    "\n",
    "# Create the Plotly figure\n",
    "fig = go.Figure()\n",
    "\n",
    "# Add a scatter trace for cos(x) with points only\n",
    "fig.add_trace(go.Scatter(x=x, y=y, mode='markers', name='cos(x)', marker=dict(color='blue', size=1)))\n",
    "\n",
    "# Add titles and labels\n",
    "fig.update_layout(title='Cosine Function (Points Only)',\n",
    "                  xaxis_title='x',\n",
    "                  yaxis_title='cos(x)',\n",
    "                  template='plotly_white')\n",
    "\n",
    "# Show the plot\n",
    "fig.show()\n"
   ],
   "id": "a1004c9ff8edfa38",
   "outputs": [
    {
     "data": {
      "application/vnd.plotly.v1+json": {
       "data": [
        {
         "marker": {
          "color": "blue",
          "size": 1
         },
         "mode": "markers",
         "name": "cos(x)",
         "x": [
          0.0,
          0.05036621488721111,
          0.10073242977442222,
          0.15109864466163334,
          0.20146485954884444,
          0.25183107443605557,
          0.30219728932326667,
          0.3525635042104778,
          0.4029297190976889,
          0.4532959339849,
          0.5036621488721111,
          0.5540283637593222,
          0.6043945786465333,
          0.6547607935337444,
          0.7051270084209555,
          0.7554932233081666,
          0.8058594381953778,
          0.8562256530825889,
          0.9065918679698,
          0.9569580828570111,
          1.0073242977442223,
          1.0576905126314333,
          1.1080567275186444,
          1.1584229424058554,
          1.2087891572930667,
          1.2591553721802777,
          1.3095215870674888,
          1.3598878019547,
          1.410254016841911,
          1.4606202317291221,
          1.5109864466163332,
          1.5613526615035445,
          1.6117188763907555,
          1.6620850912779666,
          1.7124513061651778,
          1.7628175210523889,
          1.8131837359396,
          1.863549950826811,
          1.9139161657140222,
          1.9642823806012333,
          2.0146485954884445,
          2.0650148103756556,
          2.1153810252628666,
          2.1657472401500777,
          2.2161134550372887,
          2.2664796699245,
          2.316845884811711,
          2.3672120996989223,
          2.4175783145861334,
          2.4679445294733444,
          2.5183107443605555,
          2.5686769592477665,
          2.6190431741349776,
          2.6694093890221886,
          2.7197756039094,
          2.770141818796611,
          2.820508033683822,
          2.8708742485710332,
          2.9212404634582443,
          2.9716066783454553,
          3.0219728932326664,
          3.072339108119878,
          3.122705323007089,
          3.1730715378943,
          3.223437752781511,
          3.273803967668722,
          3.324170182555933,
          3.374536397443144,
          3.4249026123303556,
          3.4752688272175667,
          3.5256350421047777,
          3.576001256991989,
          3.6263674718792,
          3.676733686766411,
          3.727099901653622,
          3.7774661165408334,
          3.8278323314280445,
          3.8781985463152555,
          3.9285647612024666,
          3.9789309760896776,
          4.029297190976889,
          4.0796634058641,
          4.130029620751311,
          4.180395835638522,
          4.230762050525733,
          4.281128265412944,
          4.331494480300155,
          4.381860695187367,
          4.4322269100745775,
          4.482593124961789,
          4.532959339849,
          4.583325554736211,
          4.633691769623422,
          4.684057984510633,
          4.734424199397845,
          4.784790414285055,
          4.835156629172267,
          4.885522844059477,
          4.935889058946689,
          4.986255273833899,
          5.036621488721111,
          5.086987703608322,
          5.137353918495533,
          5.1877201333827445,
          5.238086348269955,
          5.288452563157167,
          5.338818778044377,
          5.389184992931589,
          5.4395512078188,
          5.489917422706011,
          5.540283637593222,
          5.590649852480433,
          5.641016067367644,
          5.691382282254855,
          5.7417484971420665,
          5.792114712029278,
          5.842480926916489,
          5.8928471418037,
          5.943213356690911,
          5.993579571578122,
          6.043945786465333,
          6.094312001352544,
          6.144678216239756,
          6.195044431126966,
          6.245410646014178,
          6.295776860901388,
          6.3461430757886,
          6.3965092906758105,
          6.446875505563022,
          6.4972417204502335,
          6.547607935337444,
          6.597974150224656,
          6.648340365111866,
          6.698706579999078,
          6.749072794886288,
          6.7994390097735,
          6.849805224660711,
          6.900171439547922,
          6.950537654435133,
          7.000903869322344,
          7.0512700842095555,
          7.101636299096766,
          7.152002513983978,
          7.202368728871189,
          7.2527349437584,
          7.303101158645611,
          7.353467373532822,
          7.403833588420033,
          7.454199803307244,
          7.504566018194455,
          7.554932233081667,
          7.605298447968877,
          7.655664662856089,
          7.7060308777432995,
          7.756397092630511,
          7.806763307517722,
          7.857129522404933,
          7.907495737292145,
          7.957861952179355,
          8.008228167066566,
          8.058594381953778,
          8.108960596840989,
          8.1593268117282,
          8.20969302661541,
          8.260059241502622,
          8.310425456389833,
          8.360791671277044,
          8.411157886164256,
          8.461524101051467,
          8.511890315938677,
          8.562256530825888,
          8.6126227457131,
          8.66298896060031,
          8.713355175487521,
          8.763721390374734,
          8.814087605261944,
          8.864453820149155,
          8.914820035036366,
          8.965186249923578,
          9.015552464810789,
          9.065918679698,
          9.116284894585212,
          9.166651109472422,
          9.217017324359633,
          9.267383539246843,
          9.317749754134056,
          9.368115969021266,
          9.418482183908477,
          9.46884839879569,
          9.5192146136829,
          9.56958082857011,
          9.619947043457321,
          9.670313258344533,
          9.720679473231744,
          9.771045688118955,
          9.821411903006167,
          9.871778117893378,
          9.922144332780588,
          9.972510547667799,
          10.022876762555011,
          10.073242977442222,
          10.123609192329432,
          10.173975407216645,
          10.224341622103855,
          10.274707836991066,
          10.325074051878277,
          10.375440266765489,
          10.4258064816527,
          10.47617269653991,
          10.526538911427123,
          10.576905126314333,
          10.627271341201544,
          10.677637556088754,
          10.728003770975967,
          10.778369985863177,
          10.828736200750388,
          10.8791024156376,
          10.929468630524811,
          10.979834845412022,
          11.030201060299232,
          11.080567275186445,
          11.130933490073655,
          11.181299704960866,
          11.231665919848078,
          11.282032134735289,
          11.3323983496225,
          11.38276456450971,
          11.433130779396922,
          11.483496994284133,
          11.533863209171344,
          11.584229424058556,
          11.634595638945767,
          11.684961853832977,
          11.735328068720188,
          11.7856942836074,
          11.83606049849461,
          11.886426713381821,
          11.936792928269034,
          11.987159143156244,
          12.037525358043455,
          12.087891572930666,
          12.138257787817878,
          12.188624002705089,
          12.238990217592299,
          12.289356432479511,
          12.339722647366722,
          12.390088862253933,
          12.440455077141143,
          12.490821292028356,
          12.541187506915566,
          12.591553721802777,
          12.64191993668999,
          12.6922861515772,
          12.74265236646441,
          12.793018581351621,
          12.843384796238833,
          12.893751011126044,
          12.944117226013255,
          12.994483440900467,
          13.044849655787678,
          13.095215870674888,
          13.145582085562099,
          13.195948300449311,
          13.246314515336522,
          13.296680730223732,
          13.347046945110945,
          13.397413159998155,
          13.447779374885366,
          13.498145589772577,
          13.548511804659789,
          13.598878019547,
          13.64924423443421,
          13.699610449321423,
          13.749976664208633,
          13.800342879095844,
          13.850709093983054,
          13.901075308870267,
          13.951441523757477,
          14.001807738644688,
          14.0521739535319,
          14.102540168419111,
          14.152906383306322,
          14.203272598193532,
          14.253638813080745,
          14.304005027967955,
          14.354371242855166,
          14.404737457742378,
          14.455103672629589,
          14.5054698875168,
          14.55583610240401,
          14.606202317291222,
          14.656568532178433,
          14.706934747065644,
          14.757300961952856,
          14.807667176840067,
          14.858033391727277,
          14.908399606614488,
          14.9587658215017,
          15.00913203638891,
          15.059498251276121,
          15.109864466163334,
          15.160230681050544,
          15.210596895937755,
          15.260963110824965,
          15.311329325712178,
          15.361695540599388,
          15.412061755486599,
          15.462427970373811,
          15.512794185261022,
          15.563160400148233,
          15.613526615035443,
          15.663892829922656,
          15.714259044809866,
          15.764625259697077,
          15.81499147458429,
          15.8653576894715,
          15.91572390435871,
          15.966090119245921,
          16.01645633413313,
          16.066822549020344,
          16.117188763907556,
          16.167554978794765,
          16.217921193681978,
          16.26828740856919,
          16.3186536234564,
          16.36901983834361,
          16.41938605323082,
          16.469752268118032,
          16.520118483005245,
          16.570484697892454,
          16.620850912779666,
          16.67121712766688,
          16.721583342554087,
          16.7719495574413,
          16.822315772328512,
          16.87268198721572,
          16.923048202102933,
          16.973414416990146,
          17.023780631877354,
          17.074146846764567,
          17.124513061651776,
          17.174879276538988,
          17.2252454914262,
          17.27561170631341,
          17.32597792120062,
          17.376344136087834,
          17.426710350975043,
          17.477076565862255,
          17.527442780749467,
          17.577808995636676,
          17.62817521052389,
          17.6785414254111,
          17.72890764029831,
          17.779273855185522,
          17.82964007007273,
          17.880006284959943,
          17.930372499847156,
          17.980738714734365,
          18.031104929621577,
          18.08147114450879,
          18.131837359396,
          18.18220357428321,
          18.232569789170423,
          18.282936004057632,
          18.333302218944844,
          18.383668433832057,
          18.434034648719265,
          18.484400863606478,
          18.534767078493687,
          18.5851332933809,
          18.63549950826811,
          18.68586572315532,
          18.736231938042533,
          18.786598152929745,
          18.836964367816954,
          18.887330582704166,
          18.93769679759138,
          18.988063012478587,
          19.0384292273658,
          19.088795442253012,
          19.13916165714022,
          19.189527872027433,
          19.239894086914642,
          19.290260301801855,
          19.340626516689067,
          19.390992731576276,
          19.441358946463488,
          19.4917251613507,
          19.54209137623791,
          19.59245759112512,
          19.642823806012334,
          19.693190020899543,
          19.743556235786755,
          19.793922450673968,
          19.844288665561177,
          19.89465488044839,
          19.945021095335598,
          19.99538731022281,
          20.045753525110023,
          20.09611973999723,
          20.146485954884444,
          20.196852169771656,
          20.247218384658865,
          20.297584599546077,
          20.34795081443329,
          20.3983170293205,
          20.44868324420771,
          20.499049459094923,
          20.549415673982132,
          20.599781888869344,
          20.650148103756553,
          20.700514318643766,
          20.750880533530978,
          20.801246748418187,
          20.8516129633054,
          20.90197917819261,
          20.95234539307982,
          21.002711607967033,
          21.053077822854245,
          21.103444037741454,
          21.153810252628666,
          21.20417646751588,
          21.254542682403088,
          21.3049088972903,
          21.35527511217751,
          21.40564132706472,
          21.456007541951934,
          21.506373756839142,
          21.556739971726355,
          21.607106186613567,
          21.657472401500776,
          21.70783861638799,
          21.7582048312752,
          21.80857104616241,
          21.858937261049622,
          21.909303475936834,
          21.959669690824043,
          22.010035905711256,
          22.060402120598464,
          22.110768335485677,
          22.16113455037289,
          22.211500765260098,
          22.26186698014731,
          22.312233195034523,
          22.36259940992173,
          22.412965624808944,
          22.463331839696156,
          22.513698054583365,
          22.564064269470578,
          22.61443048435779,
          22.664796699245,
          22.71516291413221,
          22.76552912901942,
          22.815895343906632,
          22.866261558793845,
          22.916627773681054,
          22.966993988568266,
          23.01736020345548,
          23.067726418342687,
          23.1180926332299,
          23.168458848117112,
          23.21882506300432,
          23.269191277891533,
          23.319557492778745,
          23.369923707665954,
          23.420289922553167,
          23.470656137440375,
          23.521022352327588,
          23.5713885672148,
          23.62175478210201,
          23.67212099698922,
          23.722487211876434,
          23.772853426763643,
          23.823219641650855,
          23.873585856538067,
          23.923952071425276,
          23.97431828631249,
          24.0246845011997,
          24.07505071608691,
          24.125416930974122,
          24.17578314586133,
          24.226149360748543,
          24.276515575635756,
          24.326881790522965,
          24.377248005410177,
          24.42761422029739,
          24.477980435184598,
          24.52834665007181,
          24.578712864959023,
          24.629079079846232,
          24.679445294733444,
          24.729811509620657,
          24.780177724507865,
          24.830543939395078,
          24.880910154282287,
          24.9312763691695,
          24.98164258405671,
          25.03200879894392,
          25.082375013831133,
          25.132741228718345
         ],
         "y": [
          1.0,
          0.9996835567465339,
          0.9987344272588006,
          0.9971532122280464,
          0.9949409123839288,
          0.9920989278611685,
          0.9886290573134227,
          0.984533496774942,
          0.9798148382707295,
          0.9744760681760832,
          0.9685205653265598,
          0.9619520988795548,
          0.9547748259288535,
          0.9469932888736633,
          0.9386124125437894,
          0.9296375010827771,
          0.9200742345909914,
          0.9099286655307568,
          0.8992072148958368,
          0.887916668147673,
          0.8760641709209582,
          0.8636572245012606,
          0.8507036810775614,
          0.8372117387727107,
          0.8231899364549453,
          0.8086471483337551,
          0.7935925783435149,
          0.7780357543184395,
          0.7619865219625451,
          0.7454550386184362,
          0.7284517668388609,
          0.7109874677651024,
          0.6930731943163971,
          0.6747202841946927,
          0.6559403527091677,
          0.6367452854250606,
          0.6171472306414553,
          0.5971585917027863,
          0.5767920191489297,
          0.5560604027088476,
          0.5349768631428518,
          0.5135547439386516,
          0.4918076028664418,
          0.4697492033983709,
          0.4473935059978269,
          0.42475465928404793,
          0.4018469910776512,
          0.3786849993327503,
          0.35528334296139374,
          0.3316568325561391,
          0.30782042101662793,
          0.28378919408609693,
          0.25957836080381586,
          0.23520324387949015,
          0.21067926999572642,
          0.18602196004469224,
          0.16124691930515242,
          0.1363698275661,
          0.11140642920322849,
          0.08637252321452853,
          0.06128395322131638,
          0.036156597441019206,
          0.011006358638064812,
          -0.014150845940761853,
          -0.03929909464013115,
          -0.06442247147276806,
          -0.08950507619246638,
          -0.11453103435714077,
          -0.1394845073755453,
          -0.16434970253130593,
          -0.18911088297791617,
          -0.21375237769837538,
          -0.23825859142316483,
          -0.2626140145002818,
          -0.28680323271109,
          -0.310810937025771,
          -0.33462193329220136,
          -0.3582211518521272,
          -0.38159365707854837,
          -0.40472465682827324,
          -0.42759951180366895,
          -0.450203744817673,
          -0.47252304995621186,
          -0.4945433016322186,
          -0.5162505635255284,
          -0.5376310974029872,
          -0.5586713718131919,
          -0.5793580706503667,
          -0.5996781015819448,
          -0.6196186043345285,
          -0.6391669588329847,
          -0.6583107931875185,
          -0.6770379915236763,
          -0.6953367016503177,
          -0.7131953425607098,
          -0.7306026117619886,
          -0.7475474924283534,
          -0.7640192603734691,
          -0.7800074908376582,
          -0.7955020650855897,
          -0.8104931768102919,
          -0.8249713383394301,
          -0.8389273866399272,
          -0.8523524891171238,
          -0.865238149204808,
          -0.8775762117425776,
          -0.8893588681371302,
          -0.9005786613042182,
          -0.9112284903881356,
          -0.9213016152557539,
          -0.9307916607622618,
          -0.9396926207859083,
          -0.9479988620291954,
          -0.9557051275841167,
          -0.9628065402591843,
          -0.9692986056661355,
          -0.975177215064372,
          -0.9804386479613267,
          -0.9850795744671115,
          -0.9890970574019613,
          -0.992488554155135,
          -0.9952519182940991,
          -0.9973854009229761,
          -0.9988876517893978,
          -0.9997577201390606,
          -0.9999950553174459,
          -0.9995995071183217,
          -0.9985713258788059,
          -0.996911162320932,
          -0.9946200671398149,
          -0.9916994903386808,
          -0.9881512803111796,
          -0.9839776826715616,
          -0.979181338833458,
          -0.9737652843381669,
          -0.967732946933499,
          -0.9610881444044029,
          -0.9538350821567405,
          -0.9459783505557425,
          -0.9375229220208277,
          -0.9284741478786258,
          -0.9188377549761962,
          -0.9086198420565822,
          -0.8978268758989992,
          -0.8864656872260989,
          -0.8745434663808944,
          -0.8620677587760915,
          -0.849046460118698,
          -0.8354878114129367,
          -0.8214003937446254,
          -0.8067931228503245,
          -0.7916752434746857,
          -0.7760563235195791,
          -0.7599462479886977,
          -0.7433552127314704,
          -0.7262937179902474,
          -0.7087725617548385,
          -0.6908028329286112,
          -0.6723959043104729,
          -0.6535634253971795,
          -0.634317315010528,
          -0.6146697537540928,
          -0.5946331763042871,
          -0.5742202635406243,
          -0.5534439345201586,
          -0.5323173383011922,
          -0.5108538456214089,
          -0.4890670404357173,
          -0.4669707113191486,
          -0.4445788427402534,
          -0.4219056062105194,
          -0.39896535131541655,
          -0.37577259663273255,
          -0.3523420205439648,
          -0.32868845194456947,
          -0.30482686085895394,
          -0.28077234896614933,
          -0.25654014004216524,
          -0.2321455703250619,
          -0.2076040788088557,
          -0.18293119747238726,
          -0.15814254144934156,
          -0.1332537991456406,
          -0.10828072231046196,
          -0.08323911606717305,
          -0.05814482891047624,
          -0.0330137426761141,
          -0.007861762489468911,
          0.01729519330057657,
          0.04244120319614822,
          0.06756035262687816,
          0.09263674402202696,
          0.11765450687183807,
          0.1425978077717702,
          0.16745086044324545,
          0.19219793572457194,
          0.21682337152571898,
          0.24131158274063894,
          0.2656470711108758,
          0.28981443503420057,
          0.31379837931207794,
          0.33758372482979143,
          0.361155418163101,
          0.3844985411053488,
          0.4075983201089958,
          0.4304401356355976,
          0.4530095314083134,
          0.4752922235610892,
          0.49727410967872326,
          0.5189412777220956,
          0.5402800148329067,
          0.5612768160123647,
          0.5819183926683146,
          0.6021916810254089,
          0.6220838503929953,
          0.6415823112854881,
          0.6606747233900812,
          0.6793490033767694,
          0.6975933325457224,
          0.7153961643071813,
          0.7327462314891391,
          0.7496325534681824,
          0.7660444431189778,
          0.7819715135780128,
          0.7974036848172986,
          0.8123311900238854,
          0.826744581781146,
          0.8406347380479176,
          0.8539928679317206,
          0.8668105172523927,
          0.8790795738926286,
          0.890792272932028,
          0.9019412015614092,
          0.9125193037742757,
          0.9225198848324686,
          0.9319366155031737,
          0.9407635360646108,
          0.9489950600778585,
          0.9566259779224375,
          0.9636514600934084,
          0.9700670602579007,
          0.975868718069136,
          0.981052761736168,
          0.9856159103477083,
          0.9895552759485718,
          0.9928683653674237,
          0.9955530817946745,
          0.9976077261095226,
          0.9990309979553044,
          0.9998219965624732,
          0.9999802213186832,
          0.9995055720856215,
          0.9983983492623831,
          0.9966592535953529,
          0.994289385734713,
          0.9912902455378555,
          0.9876637311201434,
          0.9834121376536189,
          0.9785381559144198,
          0.9730448705798241,
          0.9669357582759984,
          0.9602146853776896,
          0.952885905561247,
          0.9449540571125286,
          0.9364241599913926,
          0.9273016126546327,
          0.9175921886393666,
          0.9073020329090445,
          0.896437657964382,
          0.8850059397216877,
          0.8730141131611886,
          0.8604697677481082,
          0.8473808426293968,
          0.8337556216091518,
          0.8196027279059118,
          0.8049311186951352,
          0.7897500794403265,
          0.7740692180163913,
          0.7578984586289417,
          0.7412480355334005,
          0.7241284865578805,
          0.7065506464339328,
          0.6885256399393928,
          0.670064874857658,
          0.6511800347578566,
          0.6318830716004724,
          0.612186198173114,
          0.5921018803612016,
          0.5716428292584793,
          0.5508219931223347,
          0.5296525491790214,
          0.5081478952839703,
          0.48632164144246715,
          0.4641876011960666,
          0.4417597828801838,
          0.4190523807584107,
          0.39607976603915773,
          0.37285647778030967,
          0.3493972136876513,
          0.32571682081289105,
          0.3018302861571574,
          0.27775272718593136,
          0.25349938226140567,
          0.22908560099833106,
          0.20452683454945125,
          0.17983862582668034,
          0.15503659966419847,
          0.13013645292970846,
          0.1051539445900992,
          0.08010488573780816,
          0.05500512958419429,
          0.029870561426253633,
          0.004717088593032691,
          -0.020439369621910786,
          -0.045582892035610355,
          -0.07069756565199363,
          -0.09576749573300279,
          -0.12077681585816072,
          -0.14570969796621086,
          -0.17055036237248902,
          -0.1952830877556692,
          -0.2198922211075767,
          -0.24436218763976586,
          -0.2686775006405933,
          -0.29282277127654904,
          -0.3167827183316413,
          -0.340542177878672,
          -0.36408611287628373,
          -0.38739962268569283,
          -0.4104679525011135,
          -0.4332765026878681,
          -0.45581083802230066,
          -0.47805669682763535,
          -0.4999999999999992,
          -0.5216268599188969,
          -0.5429235892364983,
          -0.5638767095401768,
          -0.5844729598828138,
          -0.6046993051754741,
          -0.6245429444371375,
          -0.6439913188962683,
          -0.6630321199390865,
          -0.6816532968995326,
          -0.6998430646859649,
          -0.7175899112397873,
          -0.7348826048212753,
          -0.7517102011179926,
          -0.7680620501712989,
          -0.783927803116565,
          -0.7992974187328293,
          -0.8141611697977519,
          -0.8285096492438412,
          -0.8423337761120617,
          -0.8556248012990465,
          -0.8683743130942925,
          -0.8805742425038144,
          -0.8922168683569035,
          -0.903294822192752,
          -0.9138010929238529,
          -0.9237290312732221,
          -0.9330723539826369,
          -0.9418251477892244,
          -0.9499818731678866,
          -0.9575373678371905,
          -0.9644868500265066,
          -0.9708259215023276,
          -0.9765505703518492,
          -0.9816571735220581,
          -0.9861424991127113,
          -0.9900037084217637,
          -0.9932383577419429,
          -0.9958443999073395,
          -0.9978201855890306,
          -0.9991644643389177,
          -0.9998763853811183,
          -0.999955498150411,
          -0.9994017525773914,
          -0.9982154991201609,
          -0.9963974885425265,
          -0.9939488714388522,
          -0.9908711975058637,
          -0.9871664145618658,
          -0.9828368673139949,
          -0.9778852958742853,
          -0.9723148340254892,
          -0.9661290072377483,
          -0.9593317304373705,
          -0.951927305529127,
          -0.9439204186736335,
          -0.9353161373215435,
          -0.9261199070064267,
          -0.9163375478983632,
          -0.9059752511204401,
          -0.8950395748304681,
          -0.8835374400704156,
          -0.8714761263861728,
          -0.8588632672204265,
          -0.8457068450815567,
          -0.8320151864916143,
          -0.8177969567165785,
          -0.8030611542822266,
          -0.7878171052790878,
          -0.7720744574600873,
          -0.7558431741346133,
          -0.7391335278628713,
          -0.7219560939545248,
          -0.7043217437757168,
          -0.6862416378687342,
          -0.6677272188886492,
          -0.648790204361418,
          -0.6294425792680167,
          -0.609696588459308,
          -0.5895647289064406,
          -0.5690597417916851,
          -0.5481946044447112,
          -0.5269825221294112,
          -0.5054369196864662,
          -0.4835714330369447,
          -0.46139990055231767,
          -0.43893635429633115,
          -0.4161950111443084,
          -0.39319026378547983,
          -0.36993667161404425,
          -0.34644895151472466,
          -0.32274196854865056,
          -0.2988307265454612,
          -0.27473035860758444,
          -0.25045611753270025,
          -0.22602336616045093,
          -0.2014475676495055,
          -0.17674427569114207,
          -0.1519291246655162,
          -0.12701781974687945,
          -0.10202612696398496,
          -0.07696986322198038,
          -0.051864886292102175,
          -0.026727084775506123,
          -0.001572368047586014,
          0.02358334381085534,
          0.04872413008921046,
          0.0738340795230701,
          0.09889730036424782,
          0.12389793043845473,
          0.14882014718424852,
          0.17364817766692972,
          0.19836630856101212,
          0.2229588960949763,
          0.24741037595200138,
          0.27170527312041143,
          0.29582821168760115,
          0.31976392457124386,
          0.3434972631816217,
          0.3670132070089637,
          0.3902968731297237,
          0.41333352562578207,
          0.43610858491061066,
          0.45860763695649037,
          0.48081644241696414,
          0.502720945638721,
          0.5243072835572309,
          0.5455617944704909,
          0.5664710266853329,
          0.5870217470308174,
          0.6072009492333305,
          0.6269958621480771,
          0.6463939578417678,
          0.6653829595213778,
          0.6839508493039641,
          0.7020858758226222,
          0.719776561663763,
          0.7370117106310208,
          0.7537804148311689,
          0.7700720615775806,
          0.7858763401068541,
          0.8011832481043567,
          0.8159830980345537,
          0.8302665232721198,
          0.8440244840299495,
          0.8572482730803158,
          0.8699295212655587,
          0.8820602027948112,
          0.893632640323412,
          0.9046395098117977,
          0.9150738451607857,
          0.9249290426203247,
          0.9341988649689195,
          0.9428774454610838,
          0.9509592915403249,
          0.9584392883153082,
          0.9653127017970029,
          0.9715751818947599,
          0.9772227651694252,
          0.9822518773417477,
          0.9866593355544919,
          0.9904423503868245,
          0.9935985276197029,
          0.9961258697511428,
          0.9980227772604111,
          0.99928804962034,
          0.9999208860571255,
          0.9999208860571255,
          0.9992880496203401,
          0.9980227772604112,
          0.9961258697511431,
          0.9935985276197031,
          0.9904423503868249,
          0.986659335554492,
          0.9822518773417482,
          0.9772227651694257,
          0.9715751818947604,
          0.9653127017970037,
          0.958439288315309,
          0.9509592915403258,
          0.9428774454610847,
          0.9341988649689204,
          0.9249290426203257,
          0.9150738451607868,
          0.904639509811799,
          0.8936326403234133,
          0.8820602027948117,
          0.86992952126556,
          0.8572482730803173,
          0.8440244840299509,
          0.8302665232721214,
          0.8159830980345554,
          0.8011832481043584,
          0.7858763401068558,
          0.7700720615775822,
          0.7537804148311708,
          0.7370117106310226,
          0.7197765616637649,
          0.7020858758226242,
          0.6839508493039661,
          0.6653829595213799,
          0.6463939578417699,
          0.6269958621480792,
          0.6072009492333327,
          0.5870217470308198,
          0.5664710266853351,
          0.5455617944704932,
          0.5243072835572332,
          0.5027209456387234,
          0.4808164424169666,
          0.4586076369564928,
          0.43610858491061316,
          0.4133335256257846,
          0.3902968731297263,
          0.3670132070089663,
          0.3434972631816243,
          0.31976392457124647,
          0.29582821168760376,
          0.27170527312041404,
          0.24741037595200407,
          0.22295889609497896,
          0.19836630856101484,
          0.17364817766693244,
          0.14882014718425127,
          0.1238979304384557,
          0.09889730036425057,
          0.07383407952307285,
          0.04872413008921322,
          0.0235833438108581,
          -0.001572368047583258,
          -0.026727084775503368,
          -0.05186488629209942,
          -0.07696986322197763,
          -0.10202612696398221,
          -0.12701781974687673,
          -0.15192912466551348,
          -0.17674427569113935,
          -0.20144756764950453,
          -0.22602336616044824,
          -0.2504561175326976,
          -0.27473035860758177,
          -0.29883072654545856,
          -0.32274196854864795,
          -0.3464489515147221,
          -0.3699366716140417,
          -0.3931902637854773,
          -0.41619501114430585,
          -0.43893635429632866,
          -0.4613999005523152,
          -0.4835714330369423,
          -0.5054369196864639,
          -0.5269825221294089,
          -0.5481946044447089,
          -0.5690597417916828,
          -0.5895647289064384,
          -0.6096965884593057,
          -0.6294425792680146,
          -0.648790204361416,
          -0.6677272188886471,
          -0.6862416378687322,
          -0.7043217437757149,
          -0.7219560939545229,
          -0.7391335278628695,
          -0.7558431741346114,
          -0.7720744574600856,
          -0.7878171052790861,
          -0.8030611542822249,
          -0.8177969567165769,
          -0.8320151864916128,
          -0.8457068450815551,
          -0.8588632672204252,
          -0.8714761263861714,
          -0.8835374400704142,
          -0.8950395748304669,
          -0.9059752511204389,
          -0.9163375478983627,
          -0.9261199070064255,
          -0.9353161373215425,
          -0.9439204186736325,
          -0.9519273055291261,
          -0.9593317304373697,
          -0.9661290072377475,
          -0.9723148340254886,
          -0.9778852958742847,
          -0.9828368673139944,
          -0.9871664145618654,
          -0.9908711975058634,
          -0.993948871438852,
          -0.9963974885425264,
          -0.9982154991201608,
          -0.9994017525773913,
          -0.999955498150411,
          -0.9998763853811184,
          -0.9991644643389178,
          -0.9978201855890309,
          -0.9958443999073398,
          -0.9932383577419432,
          -0.9900037084217641,
          -0.9861424991127118,
          -0.9816571735220586,
          -0.9765505703518499,
          -0.9708259215023278,
          -0.9644868500265072,
          -0.9575373678371912,
          -0.949981873167888,
          -0.9418251477892253,
          -0.9330723539826385,
          -0.9237290312732233,
          -0.9138010929238533,
          -0.9032948221927531,
          -0.892216868356904,
          -0.8805742425038158,
          -0.868374313094293,
          -0.8556248012990479,
          -0.8423337761120623,
          -0.8285096492438437,
          -0.8141611697977535,
          -0.7992974187328321,
          -0.7839278031165666,
          -0.7680620501713018,
          -0.7517102011179944,
          -0.734882604821276,
          -0.7175899112397892,
          -0.6998430646859656,
          -0.6816532968995346,
          -0.6630321199390872,
          -0.6439913188962703,
          -0.6245429444371396,
          -0.6046993051754778,
          -0.584472959882816,
          -0.5638767095401805,
          -0.5429235892365006,
          -0.5216268599189007,
          -0.5000000000000016,
          -0.47805669682763624,
          -0.4558108380223031,
          -0.433276502687869,
          -0.41046795250111606,
          -0.3873996226856938,
          -0.3640861128762863,
          -0.34054217787867463,
          -0.31678271833164556,
          -0.29282277127655165,
          -0.2686775006405977,
          -0.24436218763976852,
          -0.21989222110758114,
          -0.19528308775567188,
          -0.17055036237248997,
          -0.14570969796621358,
          -0.12077681585816169,
          -0.09576749573300641,
          -0.07069756565199549,
          -0.045582892035614,
          -0.020439369621912656,
          0.004717088593029046,
          0.029870561426251767,
          0.055005129584189766,
          0.08010488573780541,
          0.10515394459009471,
          0.13013645292970574,
          0.15503659966419753,
          0.17983862582667764,
          0.20452683454945028,
          0.22908560099832753,
          0.2534993822614039,
          0.27775272718592786,
          0.3018302861571556,
          0.3257168208128876,
          0.34939721368764953,
          0.37285647778030545,
          0.39607976603915523,
          0.41905238075840984,
          0.4417597828801813,
          0.4641876011960657,
          0.48632164144246476,
          0.5081478952839688,
          0.5296525491790183,
          0.5508219931223332,
          0.5716428292584763,
          0.5921018803612002,
          0.6121861981731112,
          0.631883071600471,
          0.6511800347578531,
          0.670064874857656,
          0.688525639939392,
          0.7065506464339308,
          0.7241284865578799,
          0.7412480355333986,
          0.7578984586289405,
          0.774069218016389,
          0.7897500794403254,
          0.8049311186951331,
          0.8196027279059107,
          0.8337556216091498,
          0.8473808426293954,
          0.8604697677481059,
          0.8730141131611873,
          0.8850059397216873,
          0.8964376579643808,
          0.9073020329090441,
          0.9175921886393655,
          0.927301612654632,
          0.9364241599913914,
          0.944954057112528,
          0.9528859055612459,
          0.9602146853776891,
          0.9669357582759974,
          0.9730448705798235,
          0.978538155914419,
          0.9834121376536183,
          0.9876637311201433,
          0.9912902455378552,
          0.9942893857347129,
          0.9966592535953527,
          0.998398349262383,
          0.9995055720856214,
          0.9999802213186832,
          0.9998219965624732,
          0.9990309979553045,
          0.9976077261095229,
          0.9955530817946747,
          0.9928683653674242,
          0.9895552759485722,
          0.9856159103477086,
          0.9810527617361685,
          0.9758687180691362,
          0.9700670602579013,
          0.963651460093409,
          0.9566259779224386,
          0.9489950600778592,
          0.940763536064612,
          0.9319366155031744,
          0.9225198848324699,
          0.9125193037742769,
          0.9019412015614111,
          0.8907922729320293,
          0.879079573892629,
          0.866810517252394,
          0.8539928679317211,
          0.8406347380479195,
          0.826744581781147,
          0.8123311900238877,
          0.7974036848172997,
          0.781971513578015,
          0.766044443118979,
          0.7496325534681848,
          0.732746231489141,
          0.7153961643071846,
          0.6975933325457244,
          0.6793490033767701,
          0.6606747233900833,
          0.6415823112854888,
          0.6220838503929982,
          0.6021916810254103,
          0.5819183926683175,
          0.5612768160123662,
          0.5402800148329097,
          0.5189412777220972,
          0.4972741096787272,
          0.47529222356109163,
          0.45300953140831746,
          0.4304401356356001,
          0.4075983201089967,
          0.3844985411053513,
          0.3611554181631019,
          0.3375837248297949,
          0.3137983793120797,
          0.28981443503420407,
          0.26564707111087765,
          0.2413115827406425,
          0.21682337152572081,
          0.1921979357245764,
          0.16745086044324817,
          0.1425978077717747,
          0.1176545068718408,
          0.09263674402202793,
          0.06756035262688091,
          0.0424412031961492,
          0.017295193300580214,
          -0.007861762489467043,
          -0.03301374267611046,
          -0.05814482891047437,
          -0.08323911606716941,
          -0.10828072231046011,
          -0.1332537991456361,
          -0.15814254144933884,
          -0.1829311974723828,
          -0.207604078808853,
          -0.23214557032506095,
          -0.2565401400421626,
          -0.2807723489661484,
          -0.30482686085895044,
          -0.3286884519445677,
          -0.35234202054396135,
          -0.3757725966327308,
          -0.39896535131541316,
          -0.42190560621051776,
          -0.44457884274024934,
          -0.4669707113191462,
          -0.48906704043571336,
          -0.5108538456214066,
          -0.5323173383011914,
          -0.5534439345201563,
          -0.5742202635406227,
          -0.5946331763042842,
          -0.6146697537540913,
          -0.6343173150105251,
          -0.653563425397178,
          -0.6723959043104698,
          -0.6908028329286096,
          -0.7087725617548356,
          -0.7262937179902456,
          -0.7433552127314698,
          -0.7599462479886959,
          -0.7760563235195784,
          -0.7916752434746838,
          -0.8067931228503236,
          -0.8214003937446236,
          -0.8354878114129357,
          -0.8490464601186961,
          -0.8620677587760907,
          -0.8745434663808925,
          -0.8864656872260978,
          -0.8978268758989975,
          -0.908619842056581,
          -0.9188377549761958,
          -0.9284741478786248,
          -0.9375229220208271,
          -0.9459783505557414,
          -0.9538350821567401,
          -0.9610881444044019,
          -0.9677329469334984,
          -0.973765284338166,
          -0.9791813388334576,
          -0.9839776826715608,
          -0.9881512803111793,
          -0.9916994903386802,
          -0.9946200671398147,
          -0.9969111623209319,
          -0.9985713258788058,
          -0.9995995071183216,
          -0.9999950553174458,
          -0.9997577201390606,
          -0.998887651789398,
          -0.9973854009229763,
          -0.9952519182940994,
          -0.9924885541551353,
          -0.989097057401962,
          -0.9850795744671118,
          -0.9804386479613275,
          -0.9751772150643727,
          -0.9692986056661357,
          -0.9628065402591851,
          -0.9557051275841172,
          -0.9479988620291964,
          -0.9396926207859089,
          -0.9307916607622632,
          -0.9213016152557546,
          -0.9112284903881371,
          -0.9005786613042192,
          -0.889358868137132,
          -0.8775762117425787,
          -0.8652381492048103,
          -0.8523524891171252,
          -0.8389273866399277,
          -0.8249713383394317,
          -0.8104931768102926,
          -0.7955020650855917,
          -0.7800074908376591,
          -0.7640192603734715,
          -0.7475474924283546,
          -0.7306026117619911,
          -0.7131953425607115,
          -0.6953367016503207,
          -0.6770379915236779,
          -0.6583107931875218,
          -0.6391669588329868,
          -0.6196186043345293,
          -0.599678101581947,
          -0.5793580706503678,
          -0.5586713718131946,
          -0.5376310974029884,
          -0.5162505635255316,
          -0.4945433016322202,
          -0.4725230499562151,
          -0.45020374481767506,
          -0.4275995118036726,
          -0.4047246568282756,
          -0.38159365707855236,
          -0.3582211518521298,
          -0.3346219332922023,
          -0.31081093702577384,
          -0.28680323271109137,
          -0.2626140145002849,
          -0.2382585914231664,
          -0.21375237769837896,
          -0.189110882977918,
          -0.16434970253130976,
          -0.13948450737554757,
          -0.11453103435714483,
          -0.0895050761924689,
          -0.06442247147277236,
          -0.039299094640133904,
          -0.014150845940763053,
          0.011006358638061835,
          0.03615659744101778,
          0.061283953221313185,
          0.08637252321452688,
          0.11140642920322487,
          0.13636982756609814,
          0.16124691930514862,
          0.18602196004468996,
          0.21067926999572242,
          0.23520324387948768,
          0.25957836080381147,
          0.2837891940860943,
          0.3078204210166268,
          0.33165683255613626,
          0.3552833429613924,
          0.3786849993327471,
          0.4018469910776497,
          0.42475465928404466,
          0.44739350599782524,
          0.4697492033983675,
          0.4918076028664398,
          0.5135547439386481,
          0.5349768631428496,
          0.5560604027088469,
          0.5767920191489275,
          0.5971585917027853,
          0.6171472306414528,
          0.6367452854250595,
          0.6559403527091652,
          0.6747202841946913,
          0.6930731943163946,
          0.7109874677651009,
          0.7284517668388583,
          0.7454550386184347,
          0.7619865219625424,
          0.778035754318438,
          0.7935925783435144,
          0.8086471483337533,
          0.8231899364549446,
          0.837211738772709,
          0.8507036810775608,
          0.8636572245012589,
          0.8760641709209573,
          0.8879166681476713,
          0.8992072148958359,
          0.9099286655307551,
          0.9200742345909905,
          0.9296375010827755,
          0.9386124125437885,
          0.946993288873663,
          0.9547748259288528,
          0.9619520988795545,
          0.9685205653265591,
          0.9744760681760829,
          0.9798148382707288,
          0.9845334967749416,
          0.9886290573134221,
          0.9920989278611682,
          0.9949409123839285,
          0.9971532122280462,
          0.9987344272588004,
          0.9996835567465338,
          1.0
         ],
         "type": "scatter"
        }
       ],
       "layout": {
        "template": {
         "data": {
          "barpolar": [
           {
            "marker": {
             "line": {
              "color": "white",
              "width": 0.5
             },
             "pattern": {
              "fillmode": "overlay",
              "size": 10,
              "solidity": 0.2
             }
            },
            "type": "barpolar"
           }
          ],
          "bar": [
           {
            "error_x": {
             "color": "#2a3f5f"
            },
            "error_y": {
             "color": "#2a3f5f"
            },
            "marker": {
             "line": {
              "color": "white",
              "width": 0.5
             },
             "pattern": {
              "fillmode": "overlay",
              "size": 10,
              "solidity": 0.2
             }
            },
            "type": "bar"
           }
          ],
          "carpet": [
           {
            "aaxis": {
             "endlinecolor": "#2a3f5f",
             "gridcolor": "#C8D4E3",
             "linecolor": "#C8D4E3",
             "minorgridcolor": "#C8D4E3",
             "startlinecolor": "#2a3f5f"
            },
            "baxis": {
             "endlinecolor": "#2a3f5f",
             "gridcolor": "#C8D4E3",
             "linecolor": "#C8D4E3",
             "minorgridcolor": "#C8D4E3",
             "startlinecolor": "#2a3f5f"
            },
            "type": "carpet"
           }
          ],
          "choropleth": [
           {
            "colorbar": {
             "outlinewidth": 0,
             "ticks": ""
            },
            "type": "choropleth"
           }
          ],
          "contourcarpet": [
           {
            "colorbar": {
             "outlinewidth": 0,
             "ticks": ""
            },
            "type": "contourcarpet"
           }
          ],
          "contour": [
           {
            "colorbar": {
             "outlinewidth": 0,
             "ticks": ""
            },
            "colorscale": [
             [
              0.0,
              "#0d0887"
             ],
             [
              0.1111111111111111,
              "#46039f"
             ],
             [
              0.2222222222222222,
              "#7201a8"
             ],
             [
              0.3333333333333333,
              "#9c179e"
             ],
             [
              0.4444444444444444,
              "#bd3786"
             ],
             [
              0.5555555555555556,
              "#d8576b"
             ],
             [
              0.6666666666666666,
              "#ed7953"
             ],
             [
              0.7777777777777778,
              "#fb9f3a"
             ],
             [
              0.8888888888888888,
              "#fdca26"
             ],
             [
              1.0,
              "#f0f921"
             ]
            ],
            "type": "contour"
           }
          ],
          "heatmapgl": [
           {
            "colorbar": {
             "outlinewidth": 0,
             "ticks": ""
            },
            "colorscale": [
             [
              0.0,
              "#0d0887"
             ],
             [
              0.1111111111111111,
              "#46039f"
             ],
             [
              0.2222222222222222,
              "#7201a8"
             ],
             [
              0.3333333333333333,
              "#9c179e"
             ],
             [
              0.4444444444444444,
              "#bd3786"
             ],
             [
              0.5555555555555556,
              "#d8576b"
             ],
             [
              0.6666666666666666,
              "#ed7953"
             ],
             [
              0.7777777777777778,
              "#fb9f3a"
             ],
             [
              0.8888888888888888,
              "#fdca26"
             ],
             [
              1.0,
              "#f0f921"
             ]
            ],
            "type": "heatmapgl"
           }
          ],
          "heatmap": [
           {
            "colorbar": {
             "outlinewidth": 0,
             "ticks": ""
            },
            "colorscale": [
             [
              0.0,
              "#0d0887"
             ],
             [
              0.1111111111111111,
              "#46039f"
             ],
             [
              0.2222222222222222,
              "#7201a8"
             ],
             [
              0.3333333333333333,
              "#9c179e"
             ],
             [
              0.4444444444444444,
              "#bd3786"
             ],
             [
              0.5555555555555556,
              "#d8576b"
             ],
             [
              0.6666666666666666,
              "#ed7953"
             ],
             [
              0.7777777777777778,
              "#fb9f3a"
             ],
             [
              0.8888888888888888,
              "#fdca26"
             ],
             [
              1.0,
              "#f0f921"
             ]
            ],
            "type": "heatmap"
           }
          ],
          "histogram2dcontour": [
           {
            "colorbar": {
             "outlinewidth": 0,
             "ticks": ""
            },
            "colorscale": [
             [
              0.0,
              "#0d0887"
             ],
             [
              0.1111111111111111,
              "#46039f"
             ],
             [
              0.2222222222222222,
              "#7201a8"
             ],
             [
              0.3333333333333333,
              "#9c179e"
             ],
             [
              0.4444444444444444,
              "#bd3786"
             ],
             [
              0.5555555555555556,
              "#d8576b"
             ],
             [
              0.6666666666666666,
              "#ed7953"
             ],
             [
              0.7777777777777778,
              "#fb9f3a"
             ],
             [
              0.8888888888888888,
              "#fdca26"
             ],
             [
              1.0,
              "#f0f921"
             ]
            ],
            "type": "histogram2dcontour"
           }
          ],
          "histogram2d": [
           {
            "colorbar": {
             "outlinewidth": 0,
             "ticks": ""
            },
            "colorscale": [
             [
              0.0,
              "#0d0887"
             ],
             [
              0.1111111111111111,
              "#46039f"
             ],
             [
              0.2222222222222222,
              "#7201a8"
             ],
             [
              0.3333333333333333,
              "#9c179e"
             ],
             [
              0.4444444444444444,
              "#bd3786"
             ],
             [
              0.5555555555555556,
              "#d8576b"
             ],
             [
              0.6666666666666666,
              "#ed7953"
             ],
             [
              0.7777777777777778,
              "#fb9f3a"
             ],
             [
              0.8888888888888888,
              "#fdca26"
             ],
             [
              1.0,
              "#f0f921"
             ]
            ],
            "type": "histogram2d"
           }
          ],
          "histogram": [
           {
            "marker": {
             "pattern": {
              "fillmode": "overlay",
              "size": 10,
              "solidity": 0.2
             }
            },
            "type": "histogram"
           }
          ],
          "mesh3d": [
           {
            "colorbar": {
             "outlinewidth": 0,
             "ticks": ""
            },
            "type": "mesh3d"
           }
          ],
          "parcoords": [
           {
            "line": {
             "colorbar": {
              "outlinewidth": 0,
              "ticks": ""
             }
            },
            "type": "parcoords"
           }
          ],
          "pie": [
           {
            "automargin": true,
            "type": "pie"
           }
          ],
          "scatter3d": [
           {
            "line": {
             "colorbar": {
              "outlinewidth": 0,
              "ticks": ""
             }
            },
            "marker": {
             "colorbar": {
              "outlinewidth": 0,
              "ticks": ""
             }
            },
            "type": "scatter3d"
           }
          ],
          "scattercarpet": [
           {
            "marker": {
             "colorbar": {
              "outlinewidth": 0,
              "ticks": ""
             }
            },
            "type": "scattercarpet"
           }
          ],
          "scattergeo": [
           {
            "marker": {
             "colorbar": {
              "outlinewidth": 0,
              "ticks": ""
             }
            },
            "type": "scattergeo"
           }
          ],
          "scattergl": [
           {
            "marker": {
             "colorbar": {
              "outlinewidth": 0,
              "ticks": ""
             }
            },
            "type": "scattergl"
           }
          ],
          "scattermapbox": [
           {
            "marker": {
             "colorbar": {
              "outlinewidth": 0,
              "ticks": ""
             }
            },
            "type": "scattermapbox"
           }
          ],
          "scatterpolargl": [
           {
            "marker": {
             "colorbar": {
              "outlinewidth": 0,
              "ticks": ""
             }
            },
            "type": "scatterpolargl"
           }
          ],
          "scatterpolar": [
           {
            "marker": {
             "colorbar": {
              "outlinewidth": 0,
              "ticks": ""
             }
            },
            "type": "scatterpolar"
           }
          ],
          "scatter": [
           {
            "fillpattern": {
             "fillmode": "overlay",
             "size": 10,
             "solidity": 0.2
            },
            "type": "scatter"
           }
          ],
          "scatterternary": [
           {
            "marker": {
             "colorbar": {
              "outlinewidth": 0,
              "ticks": ""
             }
            },
            "type": "scatterternary"
           }
          ],
          "surface": [
           {
            "colorbar": {
             "outlinewidth": 0,
             "ticks": ""
            },
            "colorscale": [
             [
              0.0,
              "#0d0887"
             ],
             [
              0.1111111111111111,
              "#46039f"
             ],
             [
              0.2222222222222222,
              "#7201a8"
             ],
             [
              0.3333333333333333,
              "#9c179e"
             ],
             [
              0.4444444444444444,
              "#bd3786"
             ],
             [
              0.5555555555555556,
              "#d8576b"
             ],
             [
              0.6666666666666666,
              "#ed7953"
             ],
             [
              0.7777777777777778,
              "#fb9f3a"
             ],
             [
              0.8888888888888888,
              "#fdca26"
             ],
             [
              1.0,
              "#f0f921"
             ]
            ],
            "type": "surface"
           }
          ],
          "table": [
           {
            "cells": {
             "fill": {
              "color": "#EBF0F8"
             },
             "line": {
              "color": "white"
             }
            },
            "header": {
             "fill": {
              "color": "#C8D4E3"
             },
             "line": {
              "color": "white"
             }
            },
            "type": "table"
           }
          ]
         },
         "layout": {
          "annotationdefaults": {
           "arrowcolor": "#2a3f5f",
           "arrowhead": 0,
           "arrowwidth": 1
          },
          "autotypenumbers": "strict",
          "coloraxis": {
           "colorbar": {
            "outlinewidth": 0,
            "ticks": ""
           }
          },
          "colorscale": {
           "diverging": [
            [
             0,
             "#8e0152"
            ],
            [
             0.1,
             "#c51b7d"
            ],
            [
             0.2,
             "#de77ae"
            ],
            [
             0.3,
             "#f1b6da"
            ],
            [
             0.4,
             "#fde0ef"
            ],
            [
             0.5,
             "#f7f7f7"
            ],
            [
             0.6,
             "#e6f5d0"
            ],
            [
             0.7,
             "#b8e186"
            ],
            [
             0.8,
             "#7fbc41"
            ],
            [
             0.9,
             "#4d9221"
            ],
            [
             1,
             "#276419"
            ]
           ],
           "sequential": [
            [
             0.0,
             "#0d0887"
            ],
            [
             0.1111111111111111,
             "#46039f"
            ],
            [
             0.2222222222222222,
             "#7201a8"
            ],
            [
             0.3333333333333333,
             "#9c179e"
            ],
            [
             0.4444444444444444,
             "#bd3786"
            ],
            [
             0.5555555555555556,
             "#d8576b"
            ],
            [
             0.6666666666666666,
             "#ed7953"
            ],
            [
             0.7777777777777778,
             "#fb9f3a"
            ],
            [
             0.8888888888888888,
             "#fdca26"
            ],
            [
             1.0,
             "#f0f921"
            ]
           ],
           "sequentialminus": [
            [
             0.0,
             "#0d0887"
            ],
            [
             0.1111111111111111,
             "#46039f"
            ],
            [
             0.2222222222222222,
             "#7201a8"
            ],
            [
             0.3333333333333333,
             "#9c179e"
            ],
            [
             0.4444444444444444,
             "#bd3786"
            ],
            [
             0.5555555555555556,
             "#d8576b"
            ],
            [
             0.6666666666666666,
             "#ed7953"
            ],
            [
             0.7777777777777778,
             "#fb9f3a"
            ],
            [
             0.8888888888888888,
             "#fdca26"
            ],
            [
             1.0,
             "#f0f921"
            ]
           ]
          },
          "colorway": [
           "#636efa",
           "#EF553B",
           "#00cc96",
           "#ab63fa",
           "#FFA15A",
           "#19d3f3",
           "#FF6692",
           "#B6E880",
           "#FF97FF",
           "#FECB52"
          ],
          "font": {
           "color": "#2a3f5f"
          },
          "geo": {
           "bgcolor": "white",
           "lakecolor": "white",
           "landcolor": "white",
           "showlakes": true,
           "showland": true,
           "subunitcolor": "#C8D4E3"
          },
          "hoverlabel": {
           "align": "left"
          },
          "hovermode": "closest",
          "mapbox": {
           "style": "light"
          },
          "paper_bgcolor": "white",
          "plot_bgcolor": "white",
          "polar": {
           "angularaxis": {
            "gridcolor": "#EBF0F8",
            "linecolor": "#EBF0F8",
            "ticks": ""
           },
           "bgcolor": "white",
           "radialaxis": {
            "gridcolor": "#EBF0F8",
            "linecolor": "#EBF0F8",
            "ticks": ""
           }
          },
          "scene": {
           "xaxis": {
            "backgroundcolor": "white",
            "gridcolor": "#DFE8F3",
            "gridwidth": 2,
            "linecolor": "#EBF0F8",
            "showbackground": true,
            "ticks": "",
            "zerolinecolor": "#EBF0F8"
           },
           "yaxis": {
            "backgroundcolor": "white",
            "gridcolor": "#DFE8F3",
            "gridwidth": 2,
            "linecolor": "#EBF0F8",
            "showbackground": true,
            "ticks": "",
            "zerolinecolor": "#EBF0F8"
           },
           "zaxis": {
            "backgroundcolor": "white",
            "gridcolor": "#DFE8F3",
            "gridwidth": 2,
            "linecolor": "#EBF0F8",
            "showbackground": true,
            "ticks": "",
            "zerolinecolor": "#EBF0F8"
           }
          },
          "shapedefaults": {
           "line": {
            "color": "#2a3f5f"
           }
          },
          "ternary": {
           "aaxis": {
            "gridcolor": "#DFE8F3",
            "linecolor": "#A2B1C6",
            "ticks": ""
           },
           "baxis": {
            "gridcolor": "#DFE8F3",
            "linecolor": "#A2B1C6",
            "ticks": ""
           },
           "bgcolor": "white",
           "caxis": {
            "gridcolor": "#DFE8F3",
            "linecolor": "#A2B1C6",
            "ticks": ""
           }
          },
          "title": {
           "x": 0.05
          },
          "xaxis": {
           "automargin": true,
           "gridcolor": "#EBF0F8",
           "linecolor": "#EBF0F8",
           "ticks": "",
           "title": {
            "standoff": 15
           },
           "zerolinecolor": "#EBF0F8",
           "zerolinewidth": 2
          },
          "yaxis": {
           "automargin": true,
           "gridcolor": "#EBF0F8",
           "linecolor": "#EBF0F8",
           "ticks": "",
           "title": {
            "standoff": 15
           },
           "zerolinecolor": "#EBF0F8",
           "zerolinewidth": 2
          }
         }
        },
        "title": {
         "text": "Cosine Function (Points Only)"
        },
        "xaxis": {
         "title": {
          "text": "x"
         }
        },
        "yaxis": {
         "title": {
          "text": "cos(x)"
         }
        }
       },
       "config": {
        "plotlyServerURL": "https://plot.ly"
       }
      },
      "text/html": [
       "<div>                            <div id=\"5f08faaa-5242-4499-a49b-d7a3d7cf1574\" class=\"plotly-graph-div\" style=\"height:525px; width:100%;\"></div>            <script type=\"text/javascript\">                require([\"plotly\"], function(Plotly) {                    window.PLOTLYENV=window.PLOTLYENV || {};                                    if (document.getElementById(\"5f08faaa-5242-4499-a49b-d7a3d7cf1574\")) {                    Plotly.newPlot(                        \"5f08faaa-5242-4499-a49b-d7a3d7cf1574\",                        [{\"marker\":{\"color\":\"blue\",\"size\":1},\"mode\":\"markers\",\"name\":\"cos(x)\",\"x\":[0.0,0.05036621488721111,0.10073242977442222,0.15109864466163334,0.20146485954884444,0.25183107443605557,0.30219728932326667,0.3525635042104778,0.4029297190976889,0.4532959339849,0.5036621488721111,0.5540283637593222,0.6043945786465333,0.6547607935337444,0.7051270084209555,0.7554932233081666,0.8058594381953778,0.8562256530825889,0.9065918679698,0.9569580828570111,1.0073242977442223,1.0576905126314333,1.1080567275186444,1.1584229424058554,1.2087891572930667,1.2591553721802777,1.3095215870674888,1.3598878019547,1.410254016841911,1.4606202317291221,1.5109864466163332,1.5613526615035445,1.6117188763907555,1.6620850912779666,1.7124513061651778,1.7628175210523889,1.8131837359396,1.863549950826811,1.9139161657140222,1.9642823806012333,2.0146485954884445,2.0650148103756556,2.1153810252628666,2.1657472401500777,2.2161134550372887,2.2664796699245,2.316845884811711,2.3672120996989223,2.4175783145861334,2.4679445294733444,2.5183107443605555,2.5686769592477665,2.6190431741349776,2.6694093890221886,2.7197756039094,2.770141818796611,2.820508033683822,2.8708742485710332,2.9212404634582443,2.9716066783454553,3.0219728932326664,3.072339108119878,3.122705323007089,3.1730715378943,3.223437752781511,3.273803967668722,3.324170182555933,3.374536397443144,3.4249026123303556,3.4752688272175667,3.5256350421047777,3.576001256991989,3.6263674718792,3.676733686766411,3.727099901653622,3.7774661165408334,3.8278323314280445,3.8781985463152555,3.9285647612024666,3.9789309760896776,4.029297190976889,4.0796634058641,4.130029620751311,4.180395835638522,4.230762050525733,4.281128265412944,4.331494480300155,4.381860695187367,4.4322269100745775,4.482593124961789,4.532959339849,4.583325554736211,4.633691769623422,4.684057984510633,4.734424199397845,4.784790414285055,4.835156629172267,4.885522844059477,4.935889058946689,4.986255273833899,5.036621488721111,5.086987703608322,5.137353918495533,5.1877201333827445,5.238086348269955,5.288452563157167,5.338818778044377,5.389184992931589,5.4395512078188,5.489917422706011,5.540283637593222,5.590649852480433,5.641016067367644,5.691382282254855,5.7417484971420665,5.792114712029278,5.842480926916489,5.8928471418037,5.943213356690911,5.993579571578122,6.043945786465333,6.094312001352544,6.144678216239756,6.195044431126966,6.245410646014178,6.295776860901388,6.3461430757886,6.3965092906758105,6.446875505563022,6.4972417204502335,6.547607935337444,6.597974150224656,6.648340365111866,6.698706579999078,6.749072794886288,6.7994390097735,6.849805224660711,6.900171439547922,6.950537654435133,7.000903869322344,7.0512700842095555,7.101636299096766,7.152002513983978,7.202368728871189,7.2527349437584,7.303101158645611,7.353467373532822,7.403833588420033,7.454199803307244,7.504566018194455,7.554932233081667,7.605298447968877,7.655664662856089,7.7060308777432995,7.756397092630511,7.806763307517722,7.857129522404933,7.907495737292145,7.957861952179355,8.008228167066566,8.058594381953778,8.108960596840989,8.1593268117282,8.20969302661541,8.260059241502622,8.310425456389833,8.360791671277044,8.411157886164256,8.461524101051467,8.511890315938677,8.562256530825888,8.6126227457131,8.66298896060031,8.713355175487521,8.763721390374734,8.814087605261944,8.864453820149155,8.914820035036366,8.965186249923578,9.015552464810789,9.065918679698,9.116284894585212,9.166651109472422,9.217017324359633,9.267383539246843,9.317749754134056,9.368115969021266,9.418482183908477,9.46884839879569,9.5192146136829,9.56958082857011,9.619947043457321,9.670313258344533,9.720679473231744,9.771045688118955,9.821411903006167,9.871778117893378,9.922144332780588,9.972510547667799,10.022876762555011,10.073242977442222,10.123609192329432,10.173975407216645,10.224341622103855,10.274707836991066,10.325074051878277,10.375440266765489,10.4258064816527,10.47617269653991,10.526538911427123,10.576905126314333,10.627271341201544,10.677637556088754,10.728003770975967,10.778369985863177,10.828736200750388,10.8791024156376,10.929468630524811,10.979834845412022,11.030201060299232,11.080567275186445,11.130933490073655,11.181299704960866,11.231665919848078,11.282032134735289,11.3323983496225,11.38276456450971,11.433130779396922,11.483496994284133,11.533863209171344,11.584229424058556,11.634595638945767,11.684961853832977,11.735328068720188,11.7856942836074,11.83606049849461,11.886426713381821,11.936792928269034,11.987159143156244,12.037525358043455,12.087891572930666,12.138257787817878,12.188624002705089,12.238990217592299,12.289356432479511,12.339722647366722,12.390088862253933,12.440455077141143,12.490821292028356,12.541187506915566,12.591553721802777,12.64191993668999,12.6922861515772,12.74265236646441,12.793018581351621,12.843384796238833,12.893751011126044,12.944117226013255,12.994483440900467,13.044849655787678,13.095215870674888,13.145582085562099,13.195948300449311,13.246314515336522,13.296680730223732,13.347046945110945,13.397413159998155,13.447779374885366,13.498145589772577,13.548511804659789,13.598878019547,13.64924423443421,13.699610449321423,13.749976664208633,13.800342879095844,13.850709093983054,13.901075308870267,13.951441523757477,14.001807738644688,14.0521739535319,14.102540168419111,14.152906383306322,14.203272598193532,14.253638813080745,14.304005027967955,14.354371242855166,14.404737457742378,14.455103672629589,14.5054698875168,14.55583610240401,14.606202317291222,14.656568532178433,14.706934747065644,14.757300961952856,14.807667176840067,14.858033391727277,14.908399606614488,14.9587658215017,15.00913203638891,15.059498251276121,15.109864466163334,15.160230681050544,15.210596895937755,15.260963110824965,15.311329325712178,15.361695540599388,15.412061755486599,15.462427970373811,15.512794185261022,15.563160400148233,15.613526615035443,15.663892829922656,15.714259044809866,15.764625259697077,15.81499147458429,15.8653576894715,15.91572390435871,15.966090119245921,16.01645633413313,16.066822549020344,16.117188763907556,16.167554978794765,16.217921193681978,16.26828740856919,16.3186536234564,16.36901983834361,16.41938605323082,16.469752268118032,16.520118483005245,16.570484697892454,16.620850912779666,16.67121712766688,16.721583342554087,16.7719495574413,16.822315772328512,16.87268198721572,16.923048202102933,16.973414416990146,17.023780631877354,17.074146846764567,17.124513061651776,17.174879276538988,17.2252454914262,17.27561170631341,17.32597792120062,17.376344136087834,17.426710350975043,17.477076565862255,17.527442780749467,17.577808995636676,17.62817521052389,17.6785414254111,17.72890764029831,17.779273855185522,17.82964007007273,17.880006284959943,17.930372499847156,17.980738714734365,18.031104929621577,18.08147114450879,18.131837359396,18.18220357428321,18.232569789170423,18.282936004057632,18.333302218944844,18.383668433832057,18.434034648719265,18.484400863606478,18.534767078493687,18.5851332933809,18.63549950826811,18.68586572315532,18.736231938042533,18.786598152929745,18.836964367816954,18.887330582704166,18.93769679759138,18.988063012478587,19.0384292273658,19.088795442253012,19.13916165714022,19.189527872027433,19.239894086914642,19.290260301801855,19.340626516689067,19.390992731576276,19.441358946463488,19.4917251613507,19.54209137623791,19.59245759112512,19.642823806012334,19.693190020899543,19.743556235786755,19.793922450673968,19.844288665561177,19.89465488044839,19.945021095335598,19.99538731022281,20.045753525110023,20.09611973999723,20.146485954884444,20.196852169771656,20.247218384658865,20.297584599546077,20.34795081443329,20.3983170293205,20.44868324420771,20.499049459094923,20.549415673982132,20.599781888869344,20.650148103756553,20.700514318643766,20.750880533530978,20.801246748418187,20.8516129633054,20.90197917819261,20.95234539307982,21.002711607967033,21.053077822854245,21.103444037741454,21.153810252628666,21.20417646751588,21.254542682403088,21.3049088972903,21.35527511217751,21.40564132706472,21.456007541951934,21.506373756839142,21.556739971726355,21.607106186613567,21.657472401500776,21.70783861638799,21.7582048312752,21.80857104616241,21.858937261049622,21.909303475936834,21.959669690824043,22.010035905711256,22.060402120598464,22.110768335485677,22.16113455037289,22.211500765260098,22.26186698014731,22.312233195034523,22.36259940992173,22.412965624808944,22.463331839696156,22.513698054583365,22.564064269470578,22.61443048435779,22.664796699245,22.71516291413221,22.76552912901942,22.815895343906632,22.866261558793845,22.916627773681054,22.966993988568266,23.01736020345548,23.067726418342687,23.1180926332299,23.168458848117112,23.21882506300432,23.269191277891533,23.319557492778745,23.369923707665954,23.420289922553167,23.470656137440375,23.521022352327588,23.5713885672148,23.62175478210201,23.67212099698922,23.722487211876434,23.772853426763643,23.823219641650855,23.873585856538067,23.923952071425276,23.97431828631249,24.0246845011997,24.07505071608691,24.125416930974122,24.17578314586133,24.226149360748543,24.276515575635756,24.326881790522965,24.377248005410177,24.42761422029739,24.477980435184598,24.52834665007181,24.578712864959023,24.629079079846232,24.679445294733444,24.729811509620657,24.780177724507865,24.830543939395078,24.880910154282287,24.9312763691695,24.98164258405671,25.03200879894392,25.082375013831133,25.132741228718345],\"y\":[1.0,0.9996835567465339,0.9987344272588006,0.9971532122280464,0.9949409123839288,0.9920989278611685,0.9886290573134227,0.984533496774942,0.9798148382707295,0.9744760681760832,0.9685205653265598,0.9619520988795548,0.9547748259288535,0.9469932888736633,0.9386124125437894,0.9296375010827771,0.9200742345909914,0.9099286655307568,0.8992072148958368,0.887916668147673,0.8760641709209582,0.8636572245012606,0.8507036810775614,0.8372117387727107,0.8231899364549453,0.8086471483337551,0.7935925783435149,0.7780357543184395,0.7619865219625451,0.7454550386184362,0.7284517668388609,0.7109874677651024,0.6930731943163971,0.6747202841946927,0.6559403527091677,0.6367452854250606,0.6171472306414553,0.5971585917027863,0.5767920191489297,0.5560604027088476,0.5349768631428518,0.5135547439386516,0.4918076028664418,0.4697492033983709,0.4473935059978269,0.42475465928404793,0.4018469910776512,0.3786849993327503,0.35528334296139374,0.3316568325561391,0.30782042101662793,0.28378919408609693,0.25957836080381586,0.23520324387949015,0.21067926999572642,0.18602196004469224,0.16124691930515242,0.1363698275661,0.11140642920322849,0.08637252321452853,0.06128395322131638,0.036156597441019206,0.011006358638064812,-0.014150845940761853,-0.03929909464013115,-0.06442247147276806,-0.08950507619246638,-0.11453103435714077,-0.1394845073755453,-0.16434970253130593,-0.18911088297791617,-0.21375237769837538,-0.23825859142316483,-0.2626140145002818,-0.28680323271109,-0.310810937025771,-0.33462193329220136,-0.3582211518521272,-0.38159365707854837,-0.40472465682827324,-0.42759951180366895,-0.450203744817673,-0.47252304995621186,-0.4945433016322186,-0.5162505635255284,-0.5376310974029872,-0.5586713718131919,-0.5793580706503667,-0.5996781015819448,-0.6196186043345285,-0.6391669588329847,-0.6583107931875185,-0.6770379915236763,-0.6953367016503177,-0.7131953425607098,-0.7306026117619886,-0.7475474924283534,-0.7640192603734691,-0.7800074908376582,-0.7955020650855897,-0.8104931768102919,-0.8249713383394301,-0.8389273866399272,-0.8523524891171238,-0.865238149204808,-0.8775762117425776,-0.8893588681371302,-0.9005786613042182,-0.9112284903881356,-0.9213016152557539,-0.9307916607622618,-0.9396926207859083,-0.9479988620291954,-0.9557051275841167,-0.9628065402591843,-0.9692986056661355,-0.975177215064372,-0.9804386479613267,-0.9850795744671115,-0.9890970574019613,-0.992488554155135,-0.9952519182940991,-0.9973854009229761,-0.9988876517893978,-0.9997577201390606,-0.9999950553174459,-0.9995995071183217,-0.9985713258788059,-0.996911162320932,-0.9946200671398149,-0.9916994903386808,-0.9881512803111796,-0.9839776826715616,-0.979181338833458,-0.9737652843381669,-0.967732946933499,-0.9610881444044029,-0.9538350821567405,-0.9459783505557425,-0.9375229220208277,-0.9284741478786258,-0.9188377549761962,-0.9086198420565822,-0.8978268758989992,-0.8864656872260989,-0.8745434663808944,-0.8620677587760915,-0.849046460118698,-0.8354878114129367,-0.8214003937446254,-0.8067931228503245,-0.7916752434746857,-0.7760563235195791,-0.7599462479886977,-0.7433552127314704,-0.7262937179902474,-0.7087725617548385,-0.6908028329286112,-0.6723959043104729,-0.6535634253971795,-0.634317315010528,-0.6146697537540928,-0.5946331763042871,-0.5742202635406243,-0.5534439345201586,-0.5323173383011922,-0.5108538456214089,-0.4890670404357173,-0.4669707113191486,-0.4445788427402534,-0.4219056062105194,-0.39896535131541655,-0.37577259663273255,-0.3523420205439648,-0.32868845194456947,-0.30482686085895394,-0.28077234896614933,-0.25654014004216524,-0.2321455703250619,-0.2076040788088557,-0.18293119747238726,-0.15814254144934156,-0.1332537991456406,-0.10828072231046196,-0.08323911606717305,-0.05814482891047624,-0.0330137426761141,-0.007861762489468911,0.01729519330057657,0.04244120319614822,0.06756035262687816,0.09263674402202696,0.11765450687183807,0.1425978077717702,0.16745086044324545,0.19219793572457194,0.21682337152571898,0.24131158274063894,0.2656470711108758,0.28981443503420057,0.31379837931207794,0.33758372482979143,0.361155418163101,0.3844985411053488,0.4075983201089958,0.4304401356355976,0.4530095314083134,0.4752922235610892,0.49727410967872326,0.5189412777220956,0.5402800148329067,0.5612768160123647,0.5819183926683146,0.6021916810254089,0.6220838503929953,0.6415823112854881,0.6606747233900812,0.6793490033767694,0.6975933325457224,0.7153961643071813,0.7327462314891391,0.7496325534681824,0.7660444431189778,0.7819715135780128,0.7974036848172986,0.8123311900238854,0.826744581781146,0.8406347380479176,0.8539928679317206,0.8668105172523927,0.8790795738926286,0.890792272932028,0.9019412015614092,0.9125193037742757,0.9225198848324686,0.9319366155031737,0.9407635360646108,0.9489950600778585,0.9566259779224375,0.9636514600934084,0.9700670602579007,0.975868718069136,0.981052761736168,0.9856159103477083,0.9895552759485718,0.9928683653674237,0.9955530817946745,0.9976077261095226,0.9990309979553044,0.9998219965624732,0.9999802213186832,0.9995055720856215,0.9983983492623831,0.9966592535953529,0.994289385734713,0.9912902455378555,0.9876637311201434,0.9834121376536189,0.9785381559144198,0.9730448705798241,0.9669357582759984,0.9602146853776896,0.952885905561247,0.9449540571125286,0.9364241599913926,0.9273016126546327,0.9175921886393666,0.9073020329090445,0.896437657964382,0.8850059397216877,0.8730141131611886,0.8604697677481082,0.8473808426293968,0.8337556216091518,0.8196027279059118,0.8049311186951352,0.7897500794403265,0.7740692180163913,0.7578984586289417,0.7412480355334005,0.7241284865578805,0.7065506464339328,0.6885256399393928,0.670064874857658,0.6511800347578566,0.6318830716004724,0.612186198173114,0.5921018803612016,0.5716428292584793,0.5508219931223347,0.5296525491790214,0.5081478952839703,0.48632164144246715,0.4641876011960666,0.4417597828801838,0.4190523807584107,0.39607976603915773,0.37285647778030967,0.3493972136876513,0.32571682081289105,0.3018302861571574,0.27775272718593136,0.25349938226140567,0.22908560099833106,0.20452683454945125,0.17983862582668034,0.15503659966419847,0.13013645292970846,0.1051539445900992,0.08010488573780816,0.05500512958419429,0.029870561426253633,0.004717088593032691,-0.020439369621910786,-0.045582892035610355,-0.07069756565199363,-0.09576749573300279,-0.12077681585816072,-0.14570969796621086,-0.17055036237248902,-0.1952830877556692,-0.2198922211075767,-0.24436218763976586,-0.2686775006405933,-0.29282277127654904,-0.3167827183316413,-0.340542177878672,-0.36408611287628373,-0.38739962268569283,-0.4104679525011135,-0.4332765026878681,-0.45581083802230066,-0.47805669682763535,-0.4999999999999992,-0.5216268599188969,-0.5429235892364983,-0.5638767095401768,-0.5844729598828138,-0.6046993051754741,-0.6245429444371375,-0.6439913188962683,-0.6630321199390865,-0.6816532968995326,-0.6998430646859649,-0.7175899112397873,-0.7348826048212753,-0.7517102011179926,-0.7680620501712989,-0.783927803116565,-0.7992974187328293,-0.8141611697977519,-0.8285096492438412,-0.8423337761120617,-0.8556248012990465,-0.8683743130942925,-0.8805742425038144,-0.8922168683569035,-0.903294822192752,-0.9138010929238529,-0.9237290312732221,-0.9330723539826369,-0.9418251477892244,-0.9499818731678866,-0.9575373678371905,-0.9644868500265066,-0.9708259215023276,-0.9765505703518492,-0.9816571735220581,-0.9861424991127113,-0.9900037084217637,-0.9932383577419429,-0.9958443999073395,-0.9978201855890306,-0.9991644643389177,-0.9998763853811183,-0.999955498150411,-0.9994017525773914,-0.9982154991201609,-0.9963974885425265,-0.9939488714388522,-0.9908711975058637,-0.9871664145618658,-0.9828368673139949,-0.9778852958742853,-0.9723148340254892,-0.9661290072377483,-0.9593317304373705,-0.951927305529127,-0.9439204186736335,-0.9353161373215435,-0.9261199070064267,-0.9163375478983632,-0.9059752511204401,-0.8950395748304681,-0.8835374400704156,-0.8714761263861728,-0.8588632672204265,-0.8457068450815567,-0.8320151864916143,-0.8177969567165785,-0.8030611542822266,-0.7878171052790878,-0.7720744574600873,-0.7558431741346133,-0.7391335278628713,-0.7219560939545248,-0.7043217437757168,-0.6862416378687342,-0.6677272188886492,-0.648790204361418,-0.6294425792680167,-0.609696588459308,-0.5895647289064406,-0.5690597417916851,-0.5481946044447112,-0.5269825221294112,-0.5054369196864662,-0.4835714330369447,-0.46139990055231767,-0.43893635429633115,-0.4161950111443084,-0.39319026378547983,-0.36993667161404425,-0.34644895151472466,-0.32274196854865056,-0.2988307265454612,-0.27473035860758444,-0.25045611753270025,-0.22602336616045093,-0.2014475676495055,-0.17674427569114207,-0.1519291246655162,-0.12701781974687945,-0.10202612696398496,-0.07696986322198038,-0.051864886292102175,-0.026727084775506123,-0.001572368047586014,0.02358334381085534,0.04872413008921046,0.0738340795230701,0.09889730036424782,0.12389793043845473,0.14882014718424852,0.17364817766692972,0.19836630856101212,0.2229588960949763,0.24741037595200138,0.27170527312041143,0.29582821168760115,0.31976392457124386,0.3434972631816217,0.3670132070089637,0.3902968731297237,0.41333352562578207,0.43610858491061066,0.45860763695649037,0.48081644241696414,0.502720945638721,0.5243072835572309,0.5455617944704909,0.5664710266853329,0.5870217470308174,0.6072009492333305,0.6269958621480771,0.6463939578417678,0.6653829595213778,0.6839508493039641,0.7020858758226222,0.719776561663763,0.7370117106310208,0.7537804148311689,0.7700720615775806,0.7858763401068541,0.8011832481043567,0.8159830980345537,0.8302665232721198,0.8440244840299495,0.8572482730803158,0.8699295212655587,0.8820602027948112,0.893632640323412,0.9046395098117977,0.9150738451607857,0.9249290426203247,0.9341988649689195,0.9428774454610838,0.9509592915403249,0.9584392883153082,0.9653127017970029,0.9715751818947599,0.9772227651694252,0.9822518773417477,0.9866593355544919,0.9904423503868245,0.9935985276197029,0.9961258697511428,0.9980227772604111,0.99928804962034,0.9999208860571255,0.9999208860571255,0.9992880496203401,0.9980227772604112,0.9961258697511431,0.9935985276197031,0.9904423503868249,0.986659335554492,0.9822518773417482,0.9772227651694257,0.9715751818947604,0.9653127017970037,0.958439288315309,0.9509592915403258,0.9428774454610847,0.9341988649689204,0.9249290426203257,0.9150738451607868,0.904639509811799,0.8936326403234133,0.8820602027948117,0.86992952126556,0.8572482730803173,0.8440244840299509,0.8302665232721214,0.8159830980345554,0.8011832481043584,0.7858763401068558,0.7700720615775822,0.7537804148311708,0.7370117106310226,0.7197765616637649,0.7020858758226242,0.6839508493039661,0.6653829595213799,0.6463939578417699,0.6269958621480792,0.6072009492333327,0.5870217470308198,0.5664710266853351,0.5455617944704932,0.5243072835572332,0.5027209456387234,0.4808164424169666,0.4586076369564928,0.43610858491061316,0.4133335256257846,0.3902968731297263,0.3670132070089663,0.3434972631816243,0.31976392457124647,0.29582821168760376,0.27170527312041404,0.24741037595200407,0.22295889609497896,0.19836630856101484,0.17364817766693244,0.14882014718425127,0.1238979304384557,0.09889730036425057,0.07383407952307285,0.04872413008921322,0.0235833438108581,-0.001572368047583258,-0.026727084775503368,-0.05186488629209942,-0.07696986322197763,-0.10202612696398221,-0.12701781974687673,-0.15192912466551348,-0.17674427569113935,-0.20144756764950453,-0.22602336616044824,-0.2504561175326976,-0.27473035860758177,-0.29883072654545856,-0.32274196854864795,-0.3464489515147221,-0.3699366716140417,-0.3931902637854773,-0.41619501114430585,-0.43893635429632866,-0.4613999005523152,-0.4835714330369423,-0.5054369196864639,-0.5269825221294089,-0.5481946044447089,-0.5690597417916828,-0.5895647289064384,-0.6096965884593057,-0.6294425792680146,-0.648790204361416,-0.6677272188886471,-0.6862416378687322,-0.7043217437757149,-0.7219560939545229,-0.7391335278628695,-0.7558431741346114,-0.7720744574600856,-0.7878171052790861,-0.8030611542822249,-0.8177969567165769,-0.8320151864916128,-0.8457068450815551,-0.8588632672204252,-0.8714761263861714,-0.8835374400704142,-0.8950395748304669,-0.9059752511204389,-0.9163375478983627,-0.9261199070064255,-0.9353161373215425,-0.9439204186736325,-0.9519273055291261,-0.9593317304373697,-0.9661290072377475,-0.9723148340254886,-0.9778852958742847,-0.9828368673139944,-0.9871664145618654,-0.9908711975058634,-0.993948871438852,-0.9963974885425264,-0.9982154991201608,-0.9994017525773913,-0.999955498150411,-0.9998763853811184,-0.9991644643389178,-0.9978201855890309,-0.9958443999073398,-0.9932383577419432,-0.9900037084217641,-0.9861424991127118,-0.9816571735220586,-0.9765505703518499,-0.9708259215023278,-0.9644868500265072,-0.9575373678371912,-0.949981873167888,-0.9418251477892253,-0.9330723539826385,-0.9237290312732233,-0.9138010929238533,-0.9032948221927531,-0.892216868356904,-0.8805742425038158,-0.868374313094293,-0.8556248012990479,-0.8423337761120623,-0.8285096492438437,-0.8141611697977535,-0.7992974187328321,-0.7839278031165666,-0.7680620501713018,-0.7517102011179944,-0.734882604821276,-0.7175899112397892,-0.6998430646859656,-0.6816532968995346,-0.6630321199390872,-0.6439913188962703,-0.6245429444371396,-0.6046993051754778,-0.584472959882816,-0.5638767095401805,-0.5429235892365006,-0.5216268599189007,-0.5000000000000016,-0.47805669682763624,-0.4558108380223031,-0.433276502687869,-0.41046795250111606,-0.3873996226856938,-0.3640861128762863,-0.34054217787867463,-0.31678271833164556,-0.29282277127655165,-0.2686775006405977,-0.24436218763976852,-0.21989222110758114,-0.19528308775567188,-0.17055036237248997,-0.14570969796621358,-0.12077681585816169,-0.09576749573300641,-0.07069756565199549,-0.045582892035614,-0.020439369621912656,0.004717088593029046,0.029870561426251767,0.055005129584189766,0.08010488573780541,0.10515394459009471,0.13013645292970574,0.15503659966419753,0.17983862582667764,0.20452683454945028,0.22908560099832753,0.2534993822614039,0.27775272718592786,0.3018302861571556,0.3257168208128876,0.34939721368764953,0.37285647778030545,0.39607976603915523,0.41905238075840984,0.4417597828801813,0.4641876011960657,0.48632164144246476,0.5081478952839688,0.5296525491790183,0.5508219931223332,0.5716428292584763,0.5921018803612002,0.6121861981731112,0.631883071600471,0.6511800347578531,0.670064874857656,0.688525639939392,0.7065506464339308,0.7241284865578799,0.7412480355333986,0.7578984586289405,0.774069218016389,0.7897500794403254,0.8049311186951331,0.8196027279059107,0.8337556216091498,0.8473808426293954,0.8604697677481059,0.8730141131611873,0.8850059397216873,0.8964376579643808,0.9073020329090441,0.9175921886393655,0.927301612654632,0.9364241599913914,0.944954057112528,0.9528859055612459,0.9602146853776891,0.9669357582759974,0.9730448705798235,0.978538155914419,0.9834121376536183,0.9876637311201433,0.9912902455378552,0.9942893857347129,0.9966592535953527,0.998398349262383,0.9995055720856214,0.9999802213186832,0.9998219965624732,0.9990309979553045,0.9976077261095229,0.9955530817946747,0.9928683653674242,0.9895552759485722,0.9856159103477086,0.9810527617361685,0.9758687180691362,0.9700670602579013,0.963651460093409,0.9566259779224386,0.9489950600778592,0.940763536064612,0.9319366155031744,0.9225198848324699,0.9125193037742769,0.9019412015614111,0.8907922729320293,0.879079573892629,0.866810517252394,0.8539928679317211,0.8406347380479195,0.826744581781147,0.8123311900238877,0.7974036848172997,0.781971513578015,0.766044443118979,0.7496325534681848,0.732746231489141,0.7153961643071846,0.6975933325457244,0.6793490033767701,0.6606747233900833,0.6415823112854888,0.6220838503929982,0.6021916810254103,0.5819183926683175,0.5612768160123662,0.5402800148329097,0.5189412777220972,0.4972741096787272,0.47529222356109163,0.45300953140831746,0.4304401356356001,0.4075983201089967,0.3844985411053513,0.3611554181631019,0.3375837248297949,0.3137983793120797,0.28981443503420407,0.26564707111087765,0.2413115827406425,0.21682337152572081,0.1921979357245764,0.16745086044324817,0.1425978077717747,0.1176545068718408,0.09263674402202793,0.06756035262688091,0.0424412031961492,0.017295193300580214,-0.007861762489467043,-0.03301374267611046,-0.05814482891047437,-0.08323911606716941,-0.10828072231046011,-0.1332537991456361,-0.15814254144933884,-0.1829311974723828,-0.207604078808853,-0.23214557032506095,-0.2565401400421626,-0.2807723489661484,-0.30482686085895044,-0.3286884519445677,-0.35234202054396135,-0.3757725966327308,-0.39896535131541316,-0.42190560621051776,-0.44457884274024934,-0.4669707113191462,-0.48906704043571336,-0.5108538456214066,-0.5323173383011914,-0.5534439345201563,-0.5742202635406227,-0.5946331763042842,-0.6146697537540913,-0.6343173150105251,-0.653563425397178,-0.6723959043104698,-0.6908028329286096,-0.7087725617548356,-0.7262937179902456,-0.7433552127314698,-0.7599462479886959,-0.7760563235195784,-0.7916752434746838,-0.8067931228503236,-0.8214003937446236,-0.8354878114129357,-0.8490464601186961,-0.8620677587760907,-0.8745434663808925,-0.8864656872260978,-0.8978268758989975,-0.908619842056581,-0.9188377549761958,-0.9284741478786248,-0.9375229220208271,-0.9459783505557414,-0.9538350821567401,-0.9610881444044019,-0.9677329469334984,-0.973765284338166,-0.9791813388334576,-0.9839776826715608,-0.9881512803111793,-0.9916994903386802,-0.9946200671398147,-0.9969111623209319,-0.9985713258788058,-0.9995995071183216,-0.9999950553174458,-0.9997577201390606,-0.998887651789398,-0.9973854009229763,-0.9952519182940994,-0.9924885541551353,-0.989097057401962,-0.9850795744671118,-0.9804386479613275,-0.9751772150643727,-0.9692986056661357,-0.9628065402591851,-0.9557051275841172,-0.9479988620291964,-0.9396926207859089,-0.9307916607622632,-0.9213016152557546,-0.9112284903881371,-0.9005786613042192,-0.889358868137132,-0.8775762117425787,-0.8652381492048103,-0.8523524891171252,-0.8389273866399277,-0.8249713383394317,-0.8104931768102926,-0.7955020650855917,-0.7800074908376591,-0.7640192603734715,-0.7475474924283546,-0.7306026117619911,-0.7131953425607115,-0.6953367016503207,-0.6770379915236779,-0.6583107931875218,-0.6391669588329868,-0.6196186043345293,-0.599678101581947,-0.5793580706503678,-0.5586713718131946,-0.5376310974029884,-0.5162505635255316,-0.4945433016322202,-0.4725230499562151,-0.45020374481767506,-0.4275995118036726,-0.4047246568282756,-0.38159365707855236,-0.3582211518521298,-0.3346219332922023,-0.31081093702577384,-0.28680323271109137,-0.2626140145002849,-0.2382585914231664,-0.21375237769837896,-0.189110882977918,-0.16434970253130976,-0.13948450737554757,-0.11453103435714483,-0.0895050761924689,-0.06442247147277236,-0.039299094640133904,-0.014150845940763053,0.011006358638061835,0.03615659744101778,0.061283953221313185,0.08637252321452688,0.11140642920322487,0.13636982756609814,0.16124691930514862,0.18602196004468996,0.21067926999572242,0.23520324387948768,0.25957836080381147,0.2837891940860943,0.3078204210166268,0.33165683255613626,0.3552833429613924,0.3786849993327471,0.4018469910776497,0.42475465928404466,0.44739350599782524,0.4697492033983675,0.4918076028664398,0.5135547439386481,0.5349768631428496,0.5560604027088469,0.5767920191489275,0.5971585917027853,0.6171472306414528,0.6367452854250595,0.6559403527091652,0.6747202841946913,0.6930731943163946,0.7109874677651009,0.7284517668388583,0.7454550386184347,0.7619865219625424,0.778035754318438,0.7935925783435144,0.8086471483337533,0.8231899364549446,0.837211738772709,0.8507036810775608,0.8636572245012589,0.8760641709209573,0.8879166681476713,0.8992072148958359,0.9099286655307551,0.9200742345909905,0.9296375010827755,0.9386124125437885,0.946993288873663,0.9547748259288528,0.9619520988795545,0.9685205653265591,0.9744760681760829,0.9798148382707288,0.9845334967749416,0.9886290573134221,0.9920989278611682,0.9949409123839285,0.9971532122280462,0.9987344272588004,0.9996835567465338,1.0],\"type\":\"scatter\"}],                        {\"template\":{\"data\":{\"barpolar\":[{\"marker\":{\"line\":{\"color\":\"white\",\"width\":0.5},\"pattern\":{\"fillmode\":\"overlay\",\"size\":10,\"solidity\":0.2}},\"type\":\"barpolar\"}],\"bar\":[{\"error_x\":{\"color\":\"#2a3f5f\"},\"error_y\":{\"color\":\"#2a3f5f\"},\"marker\":{\"line\":{\"color\":\"white\",\"width\":0.5},\"pattern\":{\"fillmode\":\"overlay\",\"size\":10,\"solidity\":0.2}},\"type\":\"bar\"}],\"carpet\":[{\"aaxis\":{\"endlinecolor\":\"#2a3f5f\",\"gridcolor\":\"#C8D4E3\",\"linecolor\":\"#C8D4E3\",\"minorgridcolor\":\"#C8D4E3\",\"startlinecolor\":\"#2a3f5f\"},\"baxis\":{\"endlinecolor\":\"#2a3f5f\",\"gridcolor\":\"#C8D4E3\",\"linecolor\":\"#C8D4E3\",\"minorgridcolor\":\"#C8D4E3\",\"startlinecolor\":\"#2a3f5f\"},\"type\":\"carpet\"}],\"choropleth\":[{\"colorbar\":{\"outlinewidth\":0,\"ticks\":\"\"},\"type\":\"choropleth\"}],\"contourcarpet\":[{\"colorbar\":{\"outlinewidth\":0,\"ticks\":\"\"},\"type\":\"contourcarpet\"}],\"contour\":[{\"colorbar\":{\"outlinewidth\":0,\"ticks\":\"\"},\"colorscale\":[[0.0,\"#0d0887\"],[0.1111111111111111,\"#46039f\"],[0.2222222222222222,\"#7201a8\"],[0.3333333333333333,\"#9c179e\"],[0.4444444444444444,\"#bd3786\"],[0.5555555555555556,\"#d8576b\"],[0.6666666666666666,\"#ed7953\"],[0.7777777777777778,\"#fb9f3a\"],[0.8888888888888888,\"#fdca26\"],[1.0,\"#f0f921\"]],\"type\":\"contour\"}],\"heatmapgl\":[{\"colorbar\":{\"outlinewidth\":0,\"ticks\":\"\"},\"colorscale\":[[0.0,\"#0d0887\"],[0.1111111111111111,\"#46039f\"],[0.2222222222222222,\"#7201a8\"],[0.3333333333333333,\"#9c179e\"],[0.4444444444444444,\"#bd3786\"],[0.5555555555555556,\"#d8576b\"],[0.6666666666666666,\"#ed7953\"],[0.7777777777777778,\"#fb9f3a\"],[0.8888888888888888,\"#fdca26\"],[1.0,\"#f0f921\"]],\"type\":\"heatmapgl\"}],\"heatmap\":[{\"colorbar\":{\"outlinewidth\":0,\"ticks\":\"\"},\"colorscale\":[[0.0,\"#0d0887\"],[0.1111111111111111,\"#46039f\"],[0.2222222222222222,\"#7201a8\"],[0.3333333333333333,\"#9c179e\"],[0.4444444444444444,\"#bd3786\"],[0.5555555555555556,\"#d8576b\"],[0.6666666666666666,\"#ed7953\"],[0.7777777777777778,\"#fb9f3a\"],[0.8888888888888888,\"#fdca26\"],[1.0,\"#f0f921\"]],\"type\":\"heatmap\"}],\"histogram2dcontour\":[{\"colorbar\":{\"outlinewidth\":0,\"ticks\":\"\"},\"colorscale\":[[0.0,\"#0d0887\"],[0.1111111111111111,\"#46039f\"],[0.2222222222222222,\"#7201a8\"],[0.3333333333333333,\"#9c179e\"],[0.4444444444444444,\"#bd3786\"],[0.5555555555555556,\"#d8576b\"],[0.6666666666666666,\"#ed7953\"],[0.7777777777777778,\"#fb9f3a\"],[0.8888888888888888,\"#fdca26\"],[1.0,\"#f0f921\"]],\"type\":\"histogram2dcontour\"}],\"histogram2d\":[{\"colorbar\":{\"outlinewidth\":0,\"ticks\":\"\"},\"colorscale\":[[0.0,\"#0d0887\"],[0.1111111111111111,\"#46039f\"],[0.2222222222222222,\"#7201a8\"],[0.3333333333333333,\"#9c179e\"],[0.4444444444444444,\"#bd3786\"],[0.5555555555555556,\"#d8576b\"],[0.6666666666666666,\"#ed7953\"],[0.7777777777777778,\"#fb9f3a\"],[0.8888888888888888,\"#fdca26\"],[1.0,\"#f0f921\"]],\"type\":\"histogram2d\"}],\"histogram\":[{\"marker\":{\"pattern\":{\"fillmode\":\"overlay\",\"size\":10,\"solidity\":0.2}},\"type\":\"histogram\"}],\"mesh3d\":[{\"colorbar\":{\"outlinewidth\":0,\"ticks\":\"\"},\"type\":\"mesh3d\"}],\"parcoords\":[{\"line\":{\"colorbar\":{\"outlinewidth\":0,\"ticks\":\"\"}},\"type\":\"parcoords\"}],\"pie\":[{\"automargin\":true,\"type\":\"pie\"}],\"scatter3d\":[{\"line\":{\"colorbar\":{\"outlinewidth\":0,\"ticks\":\"\"}},\"marker\":{\"colorbar\":{\"outlinewidth\":0,\"ticks\":\"\"}},\"type\":\"scatter3d\"}],\"scattercarpet\":[{\"marker\":{\"colorbar\":{\"outlinewidth\":0,\"ticks\":\"\"}},\"type\":\"scattercarpet\"}],\"scattergeo\":[{\"marker\":{\"colorbar\":{\"outlinewidth\":0,\"ticks\":\"\"}},\"type\":\"scattergeo\"}],\"scattergl\":[{\"marker\":{\"colorbar\":{\"outlinewidth\":0,\"ticks\":\"\"}},\"type\":\"scattergl\"}],\"scattermapbox\":[{\"marker\":{\"colorbar\":{\"outlinewidth\":0,\"ticks\":\"\"}},\"type\":\"scattermapbox\"}],\"scatterpolargl\":[{\"marker\":{\"colorbar\":{\"outlinewidth\":0,\"ticks\":\"\"}},\"type\":\"scatterpolargl\"}],\"scatterpolar\":[{\"marker\":{\"colorbar\":{\"outlinewidth\":0,\"ticks\":\"\"}},\"type\":\"scatterpolar\"}],\"scatter\":[{\"fillpattern\":{\"fillmode\":\"overlay\",\"size\":10,\"solidity\":0.2},\"type\":\"scatter\"}],\"scatterternary\":[{\"marker\":{\"colorbar\":{\"outlinewidth\":0,\"ticks\":\"\"}},\"type\":\"scatterternary\"}],\"surface\":[{\"colorbar\":{\"outlinewidth\":0,\"ticks\":\"\"},\"colorscale\":[[0.0,\"#0d0887\"],[0.1111111111111111,\"#46039f\"],[0.2222222222222222,\"#7201a8\"],[0.3333333333333333,\"#9c179e\"],[0.4444444444444444,\"#bd3786\"],[0.5555555555555556,\"#d8576b\"],[0.6666666666666666,\"#ed7953\"],[0.7777777777777778,\"#fb9f3a\"],[0.8888888888888888,\"#fdca26\"],[1.0,\"#f0f921\"]],\"type\":\"surface\"}],\"table\":[{\"cells\":{\"fill\":{\"color\":\"#EBF0F8\"},\"line\":{\"color\":\"white\"}},\"header\":{\"fill\":{\"color\":\"#C8D4E3\"},\"line\":{\"color\":\"white\"}},\"type\":\"table\"}]},\"layout\":{\"annotationdefaults\":{\"arrowcolor\":\"#2a3f5f\",\"arrowhead\":0,\"arrowwidth\":1},\"autotypenumbers\":\"strict\",\"coloraxis\":{\"colorbar\":{\"outlinewidth\":0,\"ticks\":\"\"}},\"colorscale\":{\"diverging\":[[0,\"#8e0152\"],[0.1,\"#c51b7d\"],[0.2,\"#de77ae\"],[0.3,\"#f1b6da\"],[0.4,\"#fde0ef\"],[0.5,\"#f7f7f7\"],[0.6,\"#e6f5d0\"],[0.7,\"#b8e186\"],[0.8,\"#7fbc41\"],[0.9,\"#4d9221\"],[1,\"#276419\"]],\"sequential\":[[0.0,\"#0d0887\"],[0.1111111111111111,\"#46039f\"],[0.2222222222222222,\"#7201a8\"],[0.3333333333333333,\"#9c179e\"],[0.4444444444444444,\"#bd3786\"],[0.5555555555555556,\"#d8576b\"],[0.6666666666666666,\"#ed7953\"],[0.7777777777777778,\"#fb9f3a\"],[0.8888888888888888,\"#fdca26\"],[1.0,\"#f0f921\"]],\"sequentialminus\":[[0.0,\"#0d0887\"],[0.1111111111111111,\"#46039f\"],[0.2222222222222222,\"#7201a8\"],[0.3333333333333333,\"#9c179e\"],[0.4444444444444444,\"#bd3786\"],[0.5555555555555556,\"#d8576b\"],[0.6666666666666666,\"#ed7953\"],[0.7777777777777778,\"#fb9f3a\"],[0.8888888888888888,\"#fdca26\"],[1.0,\"#f0f921\"]]},\"colorway\":[\"#636efa\",\"#EF553B\",\"#00cc96\",\"#ab63fa\",\"#FFA15A\",\"#19d3f3\",\"#FF6692\",\"#B6E880\",\"#FF97FF\",\"#FECB52\"],\"font\":{\"color\":\"#2a3f5f\"},\"geo\":{\"bgcolor\":\"white\",\"lakecolor\":\"white\",\"landcolor\":\"white\",\"showlakes\":true,\"showland\":true,\"subunitcolor\":\"#C8D4E3\"},\"hoverlabel\":{\"align\":\"left\"},\"hovermode\":\"closest\",\"mapbox\":{\"style\":\"light\"},\"paper_bgcolor\":\"white\",\"plot_bgcolor\":\"white\",\"polar\":{\"angularaxis\":{\"gridcolor\":\"#EBF0F8\",\"linecolor\":\"#EBF0F8\",\"ticks\":\"\"},\"bgcolor\":\"white\",\"radialaxis\":{\"gridcolor\":\"#EBF0F8\",\"linecolor\":\"#EBF0F8\",\"ticks\":\"\"}},\"scene\":{\"xaxis\":{\"backgroundcolor\":\"white\",\"gridcolor\":\"#DFE8F3\",\"gridwidth\":2,\"linecolor\":\"#EBF0F8\",\"showbackground\":true,\"ticks\":\"\",\"zerolinecolor\":\"#EBF0F8\"},\"yaxis\":{\"backgroundcolor\":\"white\",\"gridcolor\":\"#DFE8F3\",\"gridwidth\":2,\"linecolor\":\"#EBF0F8\",\"showbackground\":true,\"ticks\":\"\",\"zerolinecolor\":\"#EBF0F8\"},\"zaxis\":{\"backgroundcolor\":\"white\",\"gridcolor\":\"#DFE8F3\",\"gridwidth\":2,\"linecolor\":\"#EBF0F8\",\"showbackground\":true,\"ticks\":\"\",\"zerolinecolor\":\"#EBF0F8\"}},\"shapedefaults\":{\"line\":{\"color\":\"#2a3f5f\"}},\"ternary\":{\"aaxis\":{\"gridcolor\":\"#DFE8F3\",\"linecolor\":\"#A2B1C6\",\"ticks\":\"\"},\"baxis\":{\"gridcolor\":\"#DFE8F3\",\"linecolor\":\"#A2B1C6\",\"ticks\":\"\"},\"bgcolor\":\"white\",\"caxis\":{\"gridcolor\":\"#DFE8F3\",\"linecolor\":\"#A2B1C6\",\"ticks\":\"\"}},\"title\":{\"x\":0.05},\"xaxis\":{\"automargin\":true,\"gridcolor\":\"#EBF0F8\",\"linecolor\":\"#EBF0F8\",\"ticks\":\"\",\"title\":{\"standoff\":15},\"zerolinecolor\":\"#EBF0F8\",\"zerolinewidth\":2},\"yaxis\":{\"automargin\":true,\"gridcolor\":\"#EBF0F8\",\"linecolor\":\"#EBF0F8\",\"ticks\":\"\",\"title\":{\"standoff\":15},\"zerolinecolor\":\"#EBF0F8\",\"zerolinewidth\":2}}},\"title\":{\"text\":\"Cosine Function (Points Only)\"},\"xaxis\":{\"title\":{\"text\":\"x\"}},\"yaxis\":{\"title\":{\"text\":\"cos(x)\"}}},                        {\"responsive\": true}                    ).then(function(){\n",
       "                            \n",
       "var gd = document.getElementById('5f08faaa-5242-4499-a49b-d7a3d7cf1574');\n",
       "var x = new MutationObserver(function (mutations, observer) {{\n",
       "        var display = window.getComputedStyle(gd).display;\n",
       "        if (!display || display === 'none') {{\n",
       "            console.log([gd, 'removed!']);\n",
       "            Plotly.purge(gd);\n",
       "            observer.disconnect();\n",
       "        }}\n",
       "}});\n",
       "\n",
       "// Listen for the removal of the full notebook cells\n",
       "var notebookContainer = gd.closest('#notebook-container');\n",
       "if (notebookContainer) {{\n",
       "    x.observe(notebookContainer, {childList: true});\n",
       "}}\n",
       "\n",
       "// Listen for the clearing of the current output cell\n",
       "var outputEl = gd.closest('.output');\n",
       "if (outputEl) {{\n",
       "    x.observe(outputEl, {childList: true});\n",
       "}}\n",
       "\n",
       "                        })                };                });            </script>        </div>"
      ]
     },
     "metadata": {},
     "output_type": "display_data"
    }
   ],
   "execution_count": 10
  },
  {
   "metadata": {
    "ExecuteTime": {
     "end_time": "2024-09-09T14:20:10.675678Z",
     "start_time": "2024-09-09T14:20:10.619424Z"
    }
   },
   "cell_type": "code",
   "source": [
    "import numpy as np\n",
    "import plotly.graph_objects as go\n",
    "\n",
    "# Generate values for x between 0 and 2π using linspace\n",
    "x = np.linspace(0, 5 * np.pi, 100)\n",
    "y_original = np.cos(x)\n",
    "y_noisy = y + np.random.randn(100)*0.2\n",
    "\n",
    "n = len(y_noisy)\n",
    "Y = np.fft.fft(y_noisy)\n",
    "np.put(Y, range(5, n), 0.0)\n",
    "ifft = np.fft.ifft(Y).real\n",
    "\n",
    "fig = go.Figure()\n",
    "\n",
    "# Add a scatter trace for cos(x) with points only\n",
    "fig.add_trace(go.Scatter(x=x, y=y_noisy, mode='markers', name='Signal + Noise', marker=dict(color='red', size=4)))\n",
    "fig.add_trace(go.Scatter(x=x, y=y_original, mode='lines', name='Original Signal', line=dict(color='blue')))\n",
    "fig.add_trace(go.Scatter(x=x,y=ifft, mode='lines', name='IFFT', line=dict(color='green')))\n",
    "# Add titles and labels\n",
    "fig.update_layout(title='',\n",
    "                  xaxis_title='x',\n",
    "                  yaxis_title='cos(x)',\n",
    "                  template='plotly_white')\n",
    "\n",
    "# Show the plot\n",
    "fig.show()\n"
   ],
   "id": "b505db63734ab361",
   "outputs": [
    {
     "data": {
      "application/vnd.plotly.v1+json": {
       "data": [
        {
         "marker": {
          "color": "red",
          "size": 4
         },
         "mode": "markers",
         "name": "Signal + Noise",
         "x": [
          0.0,
          0.15866629563584814,
          0.3173325912716963,
          0.47599888690754444,
          0.6346651825433925,
          0.7933314781792407,
          0.9519977738150889,
          1.1106640694509369,
          1.269330365086785,
          1.4279966607226333,
          1.5866629563584813,
          1.7453292519943295,
          1.9039955476301778,
          2.0626618432660258,
          2.2213281389018737,
          2.379994434537722,
          2.53866073017357,
          2.697327025809418,
          2.8559933214452666,
          3.0146596170811146,
          3.1733259127169626,
          3.331992208352811,
          3.490658503988659,
          3.649324799624507,
          3.8079910952603555,
          3.9666573908962035,
          4.1253236865320515,
          4.2839899821679,
          4.4426562778037475,
          4.601322573439596,
          4.759988869075444,
          4.918655164711292,
          5.07732146034714,
          5.235987755982989,
          5.394654051618836,
          5.553320347254685,
          5.711986642890533,
          5.870652938526381,
          6.029319234162229,
          6.187985529798078,
          6.346651825433925,
          6.505318121069774,
          6.663984416705622,
          6.82265071234147,
          6.981317007977318,
          7.139983303613167,
          7.298649599249014,
          7.457315894884863,
          7.615982190520711,
          7.774648486156559,
          7.933314781792407,
          8.091981077428255,
          8.250647373064103,
          8.409313668699951,
          8.5679799643358,
          8.726646259971648,
          8.885312555607495,
          9.043978851243343,
          9.202645146879192,
          9.36131144251504,
          9.519977738150889,
          9.678644033786737,
          9.837310329422584,
          9.995976625058432,
          10.15464292069428,
          10.31330921633013,
          10.471975511965978,
          10.630641807601824,
          10.789308103237673,
          10.947974398873521,
          11.10664069450937,
          11.265306990145218,
          11.423973285781067,
          11.582639581416913,
          11.741305877052762,
          11.89997217268861,
          12.058638468324459,
          12.217304763960307,
          12.375971059596155,
          12.534637355232002,
          12.69330365086785,
          12.851969946503699,
          13.010636242139547,
          13.169302537775396,
          13.327968833411244,
          13.486635129047091,
          13.64530142468294,
          13.803967720318788,
          13.962634015954636,
          14.121300311590485,
          14.279966607226333,
          14.43863290286218,
          14.597299198498028,
          14.755965494133877,
          14.914631789769725,
          15.073298085405574,
          15.231964381041422,
          15.390630676677269,
          15.549296972313117,
          15.707963267948966
         ],
         "y": [
          0.7545009189993785,
          0.9885622211299817,
          0.912821941715291,
          0.797376499924288,
          0.9736030396805269,
          0.7131907341660405,
          0.34173109787781863,
          0.15830291638392074,
          0.5261075719059641,
          0.30505486240987845,
          -0.18134112591612983,
          -0.035137534618369076,
          -0.25941013421376347,
          -0.4700375064392339,
          -0.795026914715272,
          -1.1521884455561051,
          -0.9489002452958282,
          -0.9920888050965366,
          -0.8906975979985854,
          -1.284739473278324,
          -1.259255623178825,
          -0.7828373375707507,
          -0.6242308748330518,
          -0.6886720989107507,
          -0.8691761565019162,
          -0.7814627594362216,
          -0.4241773836829874,
          -0.296635941744978,
          -0.3205154362661531,
          0.01953914864782992,
          -0.06755032495755944,
          0.040463046344532266,
          -0.13492319562258503,
          0.45602377931328636,
          0.5482155342362798,
          0.9647606544286703,
          0.923475629666594,
          0.8907290850335464,
          0.8630202788397997,
          0.7900295784533948,
          0.7599873125339062,
          1.0026355511979255,
          0.9761474737420393,
          0.8978068531320826,
          0.9583746155247985,
          0.24776537481626654,
          0.3612516849632903,
          0.21991702159597434,
          0.29696898883356326,
          0.20889642792547175,
          0.27050317989663075,
          -0.401069146132799,
          -0.2826716735743155,
          -0.3938373502997867,
          -0.6177994206881938,
          -0.914764690947932,
          -0.8972039585295659,
          -0.8825927015492616,
          -1.0885310752044006,
          -0.8287631274247985,
          -0.8731294641322087,
          -0.6535011712649976,
          -1.056616276269783,
          -0.5939121501151166,
          -0.9030196973843517,
          -0.8268629378544439,
          -0.24930145103907597,
          -0.6451888412620594,
          -0.08846063665238484,
          0.12316333433866228,
          0.3796880071959976,
          -0.07012629815284382,
          0.7456279409303841,
          0.3973815025781578,
          1.025218206423361,
          0.8584492886042452,
          0.9756454978929886,
          1.182552189588183,
          0.7652012037138546,
          1.5959051494095635,
          1.0770740809016581,
          1.1537568932253224,
          0.8803927328153672,
          0.802935885393046,
          0.8295673828486609,
          0.811660573524972,
          0.25579599744804243,
          0.4293491363873751,
          -0.04780952747919481,
          -0.09260516087350337,
          -0.05267019315691618,
          -0.018529384047277664,
          -0.32510117550239076,
          -0.46052288950558506,
          -0.6958255710796362,
          -0.7081659557302131,
          -0.7398786681426083,
          -1.1618123413393506,
          -1.0542756107869125,
          -1.1028564430414256
         ],
         "type": "scatter"
        },
        {
         "line": {
          "color": "blue"
         },
         "mode": "lines",
         "name": "Original Signal",
         "x": [
          0.0,
          0.15866629563584814,
          0.3173325912716963,
          0.47599888690754444,
          0.6346651825433925,
          0.7933314781792407,
          0.9519977738150889,
          1.1106640694509369,
          1.269330365086785,
          1.4279966607226333,
          1.5866629563584813,
          1.7453292519943295,
          1.9039955476301778,
          2.0626618432660258,
          2.2213281389018737,
          2.379994434537722,
          2.53866073017357,
          2.697327025809418,
          2.8559933214452666,
          3.0146596170811146,
          3.1733259127169626,
          3.331992208352811,
          3.490658503988659,
          3.649324799624507,
          3.8079910952603555,
          3.9666573908962035,
          4.1253236865320515,
          4.2839899821679,
          4.4426562778037475,
          4.601322573439596,
          4.759988869075444,
          4.918655164711292,
          5.07732146034714,
          5.235987755982989,
          5.394654051618836,
          5.553320347254685,
          5.711986642890533,
          5.870652938526381,
          6.029319234162229,
          6.187985529798078,
          6.346651825433925,
          6.505318121069774,
          6.663984416705622,
          6.82265071234147,
          6.981317007977318,
          7.139983303613167,
          7.298649599249014,
          7.457315894884863,
          7.615982190520711,
          7.774648486156559,
          7.933314781792407,
          8.091981077428255,
          8.250647373064103,
          8.409313668699951,
          8.5679799643358,
          8.726646259971648,
          8.885312555607495,
          9.043978851243343,
          9.202645146879192,
          9.36131144251504,
          9.519977738150889,
          9.678644033786737,
          9.837310329422584,
          9.995976625058432,
          10.15464292069428,
          10.31330921633013,
          10.471975511965978,
          10.630641807601824,
          10.789308103237673,
          10.947974398873521,
          11.10664069450937,
          11.265306990145218,
          11.423973285781067,
          11.582639581416913,
          11.741305877052762,
          11.89997217268861,
          12.058638468324459,
          12.217304763960307,
          12.375971059596155,
          12.534637355232002,
          12.69330365086785,
          12.851969946503699,
          13.010636242139547,
          13.169302537775396,
          13.327968833411244,
          13.486635129047091,
          13.64530142468294,
          13.803967720318788,
          13.962634015954636,
          14.121300311590485,
          14.279966607226333,
          14.43863290286218,
          14.597299198498028,
          14.755965494133877,
          14.914631789769725,
          15.073298085405574,
          15.231964381041422,
          15.390630676677269,
          15.549296972313117,
          15.707963267948966
         ],
         "y": [
          1.0,
          0.9874388886763943,
          0.9500711177409454,
          0.8888354486549235,
          0.8052702575310586,
          0.7014748877063213,
          0.5800569095711982,
          0.44406661260577424,
          0.2969203753282749,
          0.14231483827328512,
          -0.015865963834807807,
          -0.1736481776669303,
          -0.32706796331742166,
          -0.4722710747726826,
          -0.6056096871376665,
          -0.7237340381050702,
          -0.8236765814298327,
          -0.9029265382866211,
          -0.9594929736144974,
          -0.9919548128307953,
          -0.9994965423831852,
          -0.9819286972627067,
          -0.9396926207859084,
          -0.873849377069785,
          -0.7860530947427874,
          -0.6785094115571322,
          -0.5539200638661105,
          -0.4154150130018864,
          -0.2664738136900355,
          -0.11083819990101122,
          0.04758191582374238,
          0.20480666806519018,
          0.35688622159187167,
          0.5000000000000001,
          0.6305526670845221,
          0.7452644496757546,
          0.8412535328311812,
          0.9161084574320694,
          0.9679487013963562,
          0.9954719225730846,
          0.9979866764718844,
          0.975429786885407,
          0.9283679330160726,
          0.8579834132349773,
          0.7660444431189781,
          0.654860733945285,
          0.5272254676105028,
          0.3863451256931288,
          0.2357589355094271,
          0.07924995685678891,
          -0.0792499568567883,
          -0.2357589355094265,
          -0.38634512569312823,
          -0.5272254676105023,
          -0.6548607339452852,
          -0.7660444431189783,
          -0.8579834132349765,
          -0.9283679330160723,
          -0.9754297868854069,
          -0.9979866764718844,
          -0.9954719225730846,
          -0.9679487013963561,
          -0.91610845743207,
          -0.8412535328311815,
          -0.745264449675755,
          -0.6305526670845226,
          -0.49999999999999983,
          -0.35688622159187305,
          -0.20480666806519165,
          -0.04758191582374299,
          0.11083819990101061,
          0.2664738136900349,
          0.4154150130018866,
          0.5539200638661093,
          0.6785094115571315,
          0.7860530947427871,
          0.8738493770697848,
          0.9396926207859083,
          0.9819286972627067,
          0.9994965423831851,
          0.9919548128307955,
          0.9594929736144976,
          0.9029265382866214,
          0.8236765814298328,
          0.72373403810507,
          0.6056096871376676,
          0.47227107477268354,
          0.32706796331742227,
          0.1736481776669307,
          0.015865963834807977,
          -0.1423148382732854,
          -0.2969203753282737,
          -0.4440666126057733,
          -0.5800569095711977,
          -0.701474887706321,
          -0.8052702575310586,
          -0.8888354486549236,
          -0.950071117740945,
          -0.9874388886763942,
          -1.0
         ],
         "type": "scatter"
        },
        {
         "line": {
          "color": "green"
         },
         "mode": "lines",
         "name": "IFFT",
         "x": [
          0.0,
          0.15866629563584814,
          0.3173325912716963,
          0.47599888690754444,
          0.6346651825433925,
          0.7933314781792407,
          0.9519977738150889,
          1.1106640694509369,
          1.269330365086785,
          1.4279966607226333,
          1.5866629563584813,
          1.7453292519943295,
          1.9039955476301778,
          2.0626618432660258,
          2.2213281389018737,
          2.379994434537722,
          2.53866073017357,
          2.697327025809418,
          2.8559933214452666,
          3.0146596170811146,
          3.1733259127169626,
          3.331992208352811,
          3.490658503988659,
          3.649324799624507,
          3.8079910952603555,
          3.9666573908962035,
          4.1253236865320515,
          4.2839899821679,
          4.4426562778037475,
          4.601322573439596,
          4.759988869075444,
          4.918655164711292,
          5.07732146034714,
          5.235987755982989,
          5.394654051618836,
          5.553320347254685,
          5.711986642890533,
          5.870652938526381,
          6.029319234162229,
          6.187985529798078,
          6.346651825433925,
          6.505318121069774,
          6.663984416705622,
          6.82265071234147,
          6.981317007977318,
          7.139983303613167,
          7.298649599249014,
          7.457315894884863,
          7.615982190520711,
          7.774648486156559,
          7.933314781792407,
          8.091981077428255,
          8.250647373064103,
          8.409313668699951,
          8.5679799643358,
          8.726646259971648,
          8.885312555607495,
          9.043978851243343,
          9.202645146879192,
          9.36131144251504,
          9.519977738150889,
          9.678644033786737,
          9.837310329422584,
          9.995976625058432,
          10.15464292069428,
          10.31330921633013,
          10.471975511965978,
          10.630641807601824,
          10.789308103237673,
          10.947974398873521,
          11.10664069450937,
          11.265306990145218,
          11.423973285781067,
          11.582639581416913,
          11.741305877052762,
          11.89997217268861,
          12.058638468324459,
          12.217304763960307,
          12.375971059596155,
          12.534637355232002,
          12.69330365086785,
          12.851969946503699,
          13.010636242139547,
          13.169302537775396,
          13.327968833411244,
          13.486635129047091,
          13.64530142468294,
          13.803967720318788,
          13.962634015954636,
          14.121300311590485,
          14.279966607226333,
          14.43863290286218,
          14.597299198498028,
          14.755965494133877,
          14.914631789769725,
          15.073298085405574,
          15.231964381041422,
          15.390630676677269,
          15.549296972313117,
          15.707963267948966
         ],
         "y": [
          0.027196698859452875,
          0.08767681916037175,
          0.1418886130499635,
          0.18629576125158828,
          0.21790213616589768,
          0.23440840377643754,
          0.23433065361889852,
          0.21707497890610009,
          0.182964405665007,
          0.13321722812944356,
          0.06987849316085033,
          -0.004291065825090916,
          -0.08596206127585741,
          -0.17141098526944235,
          -0.25671240544406215,
          -0.33793818920824975,
          -0.41135294494551344,
          -0.473595309619238,
          -0.5218357351198851,
          -0.5539029609289948,
          -0.5683733087666121,
          -0.5646191732839962,
          -0.5428154736041483,
          -0.5039052288252719,
          -0.4495276838117825,
          -0.3819144078174306,
          -0.3037604045465351,
          -0.2180784203931418,
          -0.12804526046587988,
          -0.03684899578152631,
          0.05245451966764823,
          0.13706836250418283,
          0.214558404672513,
          0.28292995162911033,
          0.3406746833473384,
          0.38678741207080874,
          0.42075410335195756,
          0.44251436399806926,
          0.4524030725622909,
          0.45107692624230183,
          0.4394323400524743,
          0.41852132747806564,
          0.38947171578609074,
          0.35341733441861095,
          0.311442721086344,
          0.26454550170822105,
          0.21361802049483455,
          0.15944814038888933,
          0.102737520956378,
          0.04413422591947413,
          -0.01572468058873507,
          -0.07616573631854678,
          -0.1364325079353348,
          -0.1956454681556406,
          -0.25277350605249554,
          -0.3066213988060638,
          -0.3558363637681126,
          -0.39893532864387427,
          -0.43435290747360356,
          -0.46050836638153614,
          -0.4758882264136492,
          -0.4791396990143194,
          -0.4691689898267796,
          -0.445237727526125,
          -0.40705044109360067,
          -0.35482615729072436,
          -0.28934782447402174,
          -0.2119843613516837,
          -0.12468162088153613,
          -0.029920363692791285,
          0.06935865678310575,
          0.16986030853772513,
          0.26806717252279955,
          0.36039204209140435,
          0.443343222476006,
          0.5136938990944823,
          0.5686462174992492,
          0.6059806418706389,
          0.6241816524593972,
          0.6225318895848254,
          0.6011684023454118,
          0.5610966317369558,
          0.5041600406719513,
          0.4329657667582753,
          0.35076917373021915,
          0.2613225657005741,
          0.1686954609839013,
          0.07707556852691369,
          -0.00943913919689133,
          -0.08704618849752248,
          -0.15243108294579163,
          -0.2029359628211926,
          -0.23669510190704274,
          -0.2527296342183541,
          -0.2509960882497091,
          -0.2323858170738998,
          -0.1986751060605031,
          -0.15242846152851827,
          -0.09686017635112176,
          -0.03566158243951875
         ],
         "type": "scatter"
        }
       ],
       "layout": {
        "template": {
         "data": {
          "barpolar": [
           {
            "marker": {
             "line": {
              "color": "white",
              "width": 0.5
             },
             "pattern": {
              "fillmode": "overlay",
              "size": 10,
              "solidity": 0.2
             }
            },
            "type": "barpolar"
           }
          ],
          "bar": [
           {
            "error_x": {
             "color": "#2a3f5f"
            },
            "error_y": {
             "color": "#2a3f5f"
            },
            "marker": {
             "line": {
              "color": "white",
              "width": 0.5
             },
             "pattern": {
              "fillmode": "overlay",
              "size": 10,
              "solidity": 0.2
             }
            },
            "type": "bar"
           }
          ],
          "carpet": [
           {
            "aaxis": {
             "endlinecolor": "#2a3f5f",
             "gridcolor": "#C8D4E3",
             "linecolor": "#C8D4E3",
             "minorgridcolor": "#C8D4E3",
             "startlinecolor": "#2a3f5f"
            },
            "baxis": {
             "endlinecolor": "#2a3f5f",
             "gridcolor": "#C8D4E3",
             "linecolor": "#C8D4E3",
             "minorgridcolor": "#C8D4E3",
             "startlinecolor": "#2a3f5f"
            },
            "type": "carpet"
           }
          ],
          "choropleth": [
           {
            "colorbar": {
             "outlinewidth": 0,
             "ticks": ""
            },
            "type": "choropleth"
           }
          ],
          "contourcarpet": [
           {
            "colorbar": {
             "outlinewidth": 0,
             "ticks": ""
            },
            "type": "contourcarpet"
           }
          ],
          "contour": [
           {
            "colorbar": {
             "outlinewidth": 0,
             "ticks": ""
            },
            "colorscale": [
             [
              0.0,
              "#0d0887"
             ],
             [
              0.1111111111111111,
              "#46039f"
             ],
             [
              0.2222222222222222,
              "#7201a8"
             ],
             [
              0.3333333333333333,
              "#9c179e"
             ],
             [
              0.4444444444444444,
              "#bd3786"
             ],
             [
              0.5555555555555556,
              "#d8576b"
             ],
             [
              0.6666666666666666,
              "#ed7953"
             ],
             [
              0.7777777777777778,
              "#fb9f3a"
             ],
             [
              0.8888888888888888,
              "#fdca26"
             ],
             [
              1.0,
              "#f0f921"
             ]
            ],
            "type": "contour"
           }
          ],
          "heatmapgl": [
           {
            "colorbar": {
             "outlinewidth": 0,
             "ticks": ""
            },
            "colorscale": [
             [
              0.0,
              "#0d0887"
             ],
             [
              0.1111111111111111,
              "#46039f"
             ],
             [
              0.2222222222222222,
              "#7201a8"
             ],
             [
              0.3333333333333333,
              "#9c179e"
             ],
             [
              0.4444444444444444,
              "#bd3786"
             ],
             [
              0.5555555555555556,
              "#d8576b"
             ],
             [
              0.6666666666666666,
              "#ed7953"
             ],
             [
              0.7777777777777778,
              "#fb9f3a"
             ],
             [
              0.8888888888888888,
              "#fdca26"
             ],
             [
              1.0,
              "#f0f921"
             ]
            ],
            "type": "heatmapgl"
           }
          ],
          "heatmap": [
           {
            "colorbar": {
             "outlinewidth": 0,
             "ticks": ""
            },
            "colorscale": [
             [
              0.0,
              "#0d0887"
             ],
             [
              0.1111111111111111,
              "#46039f"
             ],
             [
              0.2222222222222222,
              "#7201a8"
             ],
             [
              0.3333333333333333,
              "#9c179e"
             ],
             [
              0.4444444444444444,
              "#bd3786"
             ],
             [
              0.5555555555555556,
              "#d8576b"
             ],
             [
              0.6666666666666666,
              "#ed7953"
             ],
             [
              0.7777777777777778,
              "#fb9f3a"
             ],
             [
              0.8888888888888888,
              "#fdca26"
             ],
             [
              1.0,
              "#f0f921"
             ]
            ],
            "type": "heatmap"
           }
          ],
          "histogram2dcontour": [
           {
            "colorbar": {
             "outlinewidth": 0,
             "ticks": ""
            },
            "colorscale": [
             [
              0.0,
              "#0d0887"
             ],
             [
              0.1111111111111111,
              "#46039f"
             ],
             [
              0.2222222222222222,
              "#7201a8"
             ],
             [
              0.3333333333333333,
              "#9c179e"
             ],
             [
              0.4444444444444444,
              "#bd3786"
             ],
             [
              0.5555555555555556,
              "#d8576b"
             ],
             [
              0.6666666666666666,
              "#ed7953"
             ],
             [
              0.7777777777777778,
              "#fb9f3a"
             ],
             [
              0.8888888888888888,
              "#fdca26"
             ],
             [
              1.0,
              "#f0f921"
             ]
            ],
            "type": "histogram2dcontour"
           }
          ],
          "histogram2d": [
           {
            "colorbar": {
             "outlinewidth": 0,
             "ticks": ""
            },
            "colorscale": [
             [
              0.0,
              "#0d0887"
             ],
             [
              0.1111111111111111,
              "#46039f"
             ],
             [
              0.2222222222222222,
              "#7201a8"
             ],
             [
              0.3333333333333333,
              "#9c179e"
             ],
             [
              0.4444444444444444,
              "#bd3786"
             ],
             [
              0.5555555555555556,
              "#d8576b"
             ],
             [
              0.6666666666666666,
              "#ed7953"
             ],
             [
              0.7777777777777778,
              "#fb9f3a"
             ],
             [
              0.8888888888888888,
              "#fdca26"
             ],
             [
              1.0,
              "#f0f921"
             ]
            ],
            "type": "histogram2d"
           }
          ],
          "histogram": [
           {
            "marker": {
             "pattern": {
              "fillmode": "overlay",
              "size": 10,
              "solidity": 0.2
             }
            },
            "type": "histogram"
           }
          ],
          "mesh3d": [
           {
            "colorbar": {
             "outlinewidth": 0,
             "ticks": ""
            },
            "type": "mesh3d"
           }
          ],
          "parcoords": [
           {
            "line": {
             "colorbar": {
              "outlinewidth": 0,
              "ticks": ""
             }
            },
            "type": "parcoords"
           }
          ],
          "pie": [
           {
            "automargin": true,
            "type": "pie"
           }
          ],
          "scatter3d": [
           {
            "line": {
             "colorbar": {
              "outlinewidth": 0,
              "ticks": ""
             }
            },
            "marker": {
             "colorbar": {
              "outlinewidth": 0,
              "ticks": ""
             }
            },
            "type": "scatter3d"
           }
          ],
          "scattercarpet": [
           {
            "marker": {
             "colorbar": {
              "outlinewidth": 0,
              "ticks": ""
             }
            },
            "type": "scattercarpet"
           }
          ],
          "scattergeo": [
           {
            "marker": {
             "colorbar": {
              "outlinewidth": 0,
              "ticks": ""
             }
            },
            "type": "scattergeo"
           }
          ],
          "scattergl": [
           {
            "marker": {
             "colorbar": {
              "outlinewidth": 0,
              "ticks": ""
             }
            },
            "type": "scattergl"
           }
          ],
          "scattermapbox": [
           {
            "marker": {
             "colorbar": {
              "outlinewidth": 0,
              "ticks": ""
             }
            },
            "type": "scattermapbox"
           }
          ],
          "scatterpolargl": [
           {
            "marker": {
             "colorbar": {
              "outlinewidth": 0,
              "ticks": ""
             }
            },
            "type": "scatterpolargl"
           }
          ],
          "scatterpolar": [
           {
            "marker": {
             "colorbar": {
              "outlinewidth": 0,
              "ticks": ""
             }
            },
            "type": "scatterpolar"
           }
          ],
          "scatter": [
           {
            "fillpattern": {
             "fillmode": "overlay",
             "size": 10,
             "solidity": 0.2
            },
            "type": "scatter"
           }
          ],
          "scatterternary": [
           {
            "marker": {
             "colorbar": {
              "outlinewidth": 0,
              "ticks": ""
             }
            },
            "type": "scatterternary"
           }
          ],
          "surface": [
           {
            "colorbar": {
             "outlinewidth": 0,
             "ticks": ""
            },
            "colorscale": [
             [
              0.0,
              "#0d0887"
             ],
             [
              0.1111111111111111,
              "#46039f"
             ],
             [
              0.2222222222222222,
              "#7201a8"
             ],
             [
              0.3333333333333333,
              "#9c179e"
             ],
             [
              0.4444444444444444,
              "#bd3786"
             ],
             [
              0.5555555555555556,
              "#d8576b"
             ],
             [
              0.6666666666666666,
              "#ed7953"
             ],
             [
              0.7777777777777778,
              "#fb9f3a"
             ],
             [
              0.8888888888888888,
              "#fdca26"
             ],
             [
              1.0,
              "#f0f921"
             ]
            ],
            "type": "surface"
           }
          ],
          "table": [
           {
            "cells": {
             "fill": {
              "color": "#EBF0F8"
             },
             "line": {
              "color": "white"
             }
            },
            "header": {
             "fill": {
              "color": "#C8D4E3"
             },
             "line": {
              "color": "white"
             }
            },
            "type": "table"
           }
          ]
         },
         "layout": {
          "annotationdefaults": {
           "arrowcolor": "#2a3f5f",
           "arrowhead": 0,
           "arrowwidth": 1
          },
          "autotypenumbers": "strict",
          "coloraxis": {
           "colorbar": {
            "outlinewidth": 0,
            "ticks": ""
           }
          },
          "colorscale": {
           "diverging": [
            [
             0,
             "#8e0152"
            ],
            [
             0.1,
             "#c51b7d"
            ],
            [
             0.2,
             "#de77ae"
            ],
            [
             0.3,
             "#f1b6da"
            ],
            [
             0.4,
             "#fde0ef"
            ],
            [
             0.5,
             "#f7f7f7"
            ],
            [
             0.6,
             "#e6f5d0"
            ],
            [
             0.7,
             "#b8e186"
            ],
            [
             0.8,
             "#7fbc41"
            ],
            [
             0.9,
             "#4d9221"
            ],
            [
             1,
             "#276419"
            ]
           ],
           "sequential": [
            [
             0.0,
             "#0d0887"
            ],
            [
             0.1111111111111111,
             "#46039f"
            ],
            [
             0.2222222222222222,
             "#7201a8"
            ],
            [
             0.3333333333333333,
             "#9c179e"
            ],
            [
             0.4444444444444444,
             "#bd3786"
            ],
            [
             0.5555555555555556,
             "#d8576b"
            ],
            [
             0.6666666666666666,
             "#ed7953"
            ],
            [
             0.7777777777777778,
             "#fb9f3a"
            ],
            [
             0.8888888888888888,
             "#fdca26"
            ],
            [
             1.0,
             "#f0f921"
            ]
           ],
           "sequentialminus": [
            [
             0.0,
             "#0d0887"
            ],
            [
             0.1111111111111111,
             "#46039f"
            ],
            [
             0.2222222222222222,
             "#7201a8"
            ],
            [
             0.3333333333333333,
             "#9c179e"
            ],
            [
             0.4444444444444444,
             "#bd3786"
            ],
            [
             0.5555555555555556,
             "#d8576b"
            ],
            [
             0.6666666666666666,
             "#ed7953"
            ],
            [
             0.7777777777777778,
             "#fb9f3a"
            ],
            [
             0.8888888888888888,
             "#fdca26"
            ],
            [
             1.0,
             "#f0f921"
            ]
           ]
          },
          "colorway": [
           "#636efa",
           "#EF553B",
           "#00cc96",
           "#ab63fa",
           "#FFA15A",
           "#19d3f3",
           "#FF6692",
           "#B6E880",
           "#FF97FF",
           "#FECB52"
          ],
          "font": {
           "color": "#2a3f5f"
          },
          "geo": {
           "bgcolor": "white",
           "lakecolor": "white",
           "landcolor": "white",
           "showlakes": true,
           "showland": true,
           "subunitcolor": "#C8D4E3"
          },
          "hoverlabel": {
           "align": "left"
          },
          "hovermode": "closest",
          "mapbox": {
           "style": "light"
          },
          "paper_bgcolor": "white",
          "plot_bgcolor": "white",
          "polar": {
           "angularaxis": {
            "gridcolor": "#EBF0F8",
            "linecolor": "#EBF0F8",
            "ticks": ""
           },
           "bgcolor": "white",
           "radialaxis": {
            "gridcolor": "#EBF0F8",
            "linecolor": "#EBF0F8",
            "ticks": ""
           }
          },
          "scene": {
           "xaxis": {
            "backgroundcolor": "white",
            "gridcolor": "#DFE8F3",
            "gridwidth": 2,
            "linecolor": "#EBF0F8",
            "showbackground": true,
            "ticks": "",
            "zerolinecolor": "#EBF0F8"
           },
           "yaxis": {
            "backgroundcolor": "white",
            "gridcolor": "#DFE8F3",
            "gridwidth": 2,
            "linecolor": "#EBF0F8",
            "showbackground": true,
            "ticks": "",
            "zerolinecolor": "#EBF0F8"
           },
           "zaxis": {
            "backgroundcolor": "white",
            "gridcolor": "#DFE8F3",
            "gridwidth": 2,
            "linecolor": "#EBF0F8",
            "showbackground": true,
            "ticks": "",
            "zerolinecolor": "#EBF0F8"
           }
          },
          "shapedefaults": {
           "line": {
            "color": "#2a3f5f"
           }
          },
          "ternary": {
           "aaxis": {
            "gridcolor": "#DFE8F3",
            "linecolor": "#A2B1C6",
            "ticks": ""
           },
           "baxis": {
            "gridcolor": "#DFE8F3",
            "linecolor": "#A2B1C6",
            "ticks": ""
           },
           "bgcolor": "white",
           "caxis": {
            "gridcolor": "#DFE8F3",
            "linecolor": "#A2B1C6",
            "ticks": ""
           }
          },
          "title": {
           "x": 0.05
          },
          "xaxis": {
           "automargin": true,
           "gridcolor": "#EBF0F8",
           "linecolor": "#EBF0F8",
           "ticks": "",
           "title": {
            "standoff": 15
           },
           "zerolinecolor": "#EBF0F8",
           "zerolinewidth": 2
          },
          "yaxis": {
           "automargin": true,
           "gridcolor": "#EBF0F8",
           "linecolor": "#EBF0F8",
           "ticks": "",
           "title": {
            "standoff": 15
           },
           "zerolinecolor": "#EBF0F8",
           "zerolinewidth": 2
          }
         }
        },
        "title": {
         "text": ""
        },
        "xaxis": {
         "title": {
          "text": "x"
         }
        },
        "yaxis": {
         "title": {
          "text": "cos(x)"
         }
        }
       },
       "config": {
        "plotlyServerURL": "https://plot.ly"
       }
      },
      "text/html": [
       "<div>                            <div id=\"cfeade26-7850-4bae-95f9-176f6f87e9a4\" class=\"plotly-graph-div\" style=\"height:525px; width:100%;\"></div>            <script type=\"text/javascript\">                require([\"plotly\"], function(Plotly) {                    window.PLOTLYENV=window.PLOTLYENV || {};                                    if (document.getElementById(\"cfeade26-7850-4bae-95f9-176f6f87e9a4\")) {                    Plotly.newPlot(                        \"cfeade26-7850-4bae-95f9-176f6f87e9a4\",                        [{\"marker\":{\"color\":\"red\",\"size\":4},\"mode\":\"markers\",\"name\":\"Signal + Noise\",\"x\":[0.0,0.15866629563584814,0.3173325912716963,0.47599888690754444,0.6346651825433925,0.7933314781792407,0.9519977738150889,1.1106640694509369,1.269330365086785,1.4279966607226333,1.5866629563584813,1.7453292519943295,1.9039955476301778,2.0626618432660258,2.2213281389018737,2.379994434537722,2.53866073017357,2.697327025809418,2.8559933214452666,3.0146596170811146,3.1733259127169626,3.331992208352811,3.490658503988659,3.649324799624507,3.8079910952603555,3.9666573908962035,4.1253236865320515,4.2839899821679,4.4426562778037475,4.601322573439596,4.759988869075444,4.918655164711292,5.07732146034714,5.235987755982989,5.394654051618836,5.553320347254685,5.711986642890533,5.870652938526381,6.029319234162229,6.187985529798078,6.346651825433925,6.505318121069774,6.663984416705622,6.82265071234147,6.981317007977318,7.139983303613167,7.298649599249014,7.457315894884863,7.615982190520711,7.774648486156559,7.933314781792407,8.091981077428255,8.250647373064103,8.409313668699951,8.5679799643358,8.726646259971648,8.885312555607495,9.043978851243343,9.202645146879192,9.36131144251504,9.519977738150889,9.678644033786737,9.837310329422584,9.995976625058432,10.15464292069428,10.31330921633013,10.471975511965978,10.630641807601824,10.789308103237673,10.947974398873521,11.10664069450937,11.265306990145218,11.423973285781067,11.582639581416913,11.741305877052762,11.89997217268861,12.058638468324459,12.217304763960307,12.375971059596155,12.534637355232002,12.69330365086785,12.851969946503699,13.010636242139547,13.169302537775396,13.327968833411244,13.486635129047091,13.64530142468294,13.803967720318788,13.962634015954636,14.121300311590485,14.279966607226333,14.43863290286218,14.597299198498028,14.755965494133877,14.914631789769725,15.073298085405574,15.231964381041422,15.390630676677269,15.549296972313117,15.707963267948966],\"y\":[0.7545009189993785,0.9885622211299817,0.912821941715291,0.797376499924288,0.9736030396805269,0.7131907341660405,0.34173109787781863,0.15830291638392074,0.5261075719059641,0.30505486240987845,-0.18134112591612983,-0.035137534618369076,-0.25941013421376347,-0.4700375064392339,-0.795026914715272,-1.1521884455561051,-0.9489002452958282,-0.9920888050965366,-0.8906975979985854,-1.284739473278324,-1.259255623178825,-0.7828373375707507,-0.6242308748330518,-0.6886720989107507,-0.8691761565019162,-0.7814627594362216,-0.4241773836829874,-0.296635941744978,-0.3205154362661531,0.01953914864782992,-0.06755032495755944,0.040463046344532266,-0.13492319562258503,0.45602377931328636,0.5482155342362798,0.9647606544286703,0.923475629666594,0.8907290850335464,0.8630202788397997,0.7900295784533948,0.7599873125339062,1.0026355511979255,0.9761474737420393,0.8978068531320826,0.9583746155247985,0.24776537481626654,0.3612516849632903,0.21991702159597434,0.29696898883356326,0.20889642792547175,0.27050317989663075,-0.401069146132799,-0.2826716735743155,-0.3938373502997867,-0.6177994206881938,-0.914764690947932,-0.8972039585295659,-0.8825927015492616,-1.0885310752044006,-0.8287631274247985,-0.8731294641322087,-0.6535011712649976,-1.056616276269783,-0.5939121501151166,-0.9030196973843517,-0.8268629378544439,-0.24930145103907597,-0.6451888412620594,-0.08846063665238484,0.12316333433866228,0.3796880071959976,-0.07012629815284382,0.7456279409303841,0.3973815025781578,1.025218206423361,0.8584492886042452,0.9756454978929886,1.182552189588183,0.7652012037138546,1.5959051494095635,1.0770740809016581,1.1537568932253224,0.8803927328153672,0.802935885393046,0.8295673828486609,0.811660573524972,0.25579599744804243,0.4293491363873751,-0.04780952747919481,-0.09260516087350337,-0.05267019315691618,-0.018529384047277664,-0.32510117550239076,-0.46052288950558506,-0.6958255710796362,-0.7081659557302131,-0.7398786681426083,-1.1618123413393506,-1.0542756107869125,-1.1028564430414256],\"type\":\"scatter\"},{\"line\":{\"color\":\"blue\"},\"mode\":\"lines\",\"name\":\"Original Signal\",\"x\":[0.0,0.15866629563584814,0.3173325912716963,0.47599888690754444,0.6346651825433925,0.7933314781792407,0.9519977738150889,1.1106640694509369,1.269330365086785,1.4279966607226333,1.5866629563584813,1.7453292519943295,1.9039955476301778,2.0626618432660258,2.2213281389018737,2.379994434537722,2.53866073017357,2.697327025809418,2.8559933214452666,3.0146596170811146,3.1733259127169626,3.331992208352811,3.490658503988659,3.649324799624507,3.8079910952603555,3.9666573908962035,4.1253236865320515,4.2839899821679,4.4426562778037475,4.601322573439596,4.759988869075444,4.918655164711292,5.07732146034714,5.235987755982989,5.394654051618836,5.553320347254685,5.711986642890533,5.870652938526381,6.029319234162229,6.187985529798078,6.346651825433925,6.505318121069774,6.663984416705622,6.82265071234147,6.981317007977318,7.139983303613167,7.298649599249014,7.457315894884863,7.615982190520711,7.774648486156559,7.933314781792407,8.091981077428255,8.250647373064103,8.409313668699951,8.5679799643358,8.726646259971648,8.885312555607495,9.043978851243343,9.202645146879192,9.36131144251504,9.519977738150889,9.678644033786737,9.837310329422584,9.995976625058432,10.15464292069428,10.31330921633013,10.471975511965978,10.630641807601824,10.789308103237673,10.947974398873521,11.10664069450937,11.265306990145218,11.423973285781067,11.582639581416913,11.741305877052762,11.89997217268861,12.058638468324459,12.217304763960307,12.375971059596155,12.534637355232002,12.69330365086785,12.851969946503699,13.010636242139547,13.169302537775396,13.327968833411244,13.486635129047091,13.64530142468294,13.803967720318788,13.962634015954636,14.121300311590485,14.279966607226333,14.43863290286218,14.597299198498028,14.755965494133877,14.914631789769725,15.073298085405574,15.231964381041422,15.390630676677269,15.549296972313117,15.707963267948966],\"y\":[1.0,0.9874388886763943,0.9500711177409454,0.8888354486549235,0.8052702575310586,0.7014748877063213,0.5800569095711982,0.44406661260577424,0.2969203753282749,0.14231483827328512,-0.015865963834807807,-0.1736481776669303,-0.32706796331742166,-0.4722710747726826,-0.6056096871376665,-0.7237340381050702,-0.8236765814298327,-0.9029265382866211,-0.9594929736144974,-0.9919548128307953,-0.9994965423831852,-0.9819286972627067,-0.9396926207859084,-0.873849377069785,-0.7860530947427874,-0.6785094115571322,-0.5539200638661105,-0.4154150130018864,-0.2664738136900355,-0.11083819990101122,0.04758191582374238,0.20480666806519018,0.35688622159187167,0.5000000000000001,0.6305526670845221,0.7452644496757546,0.8412535328311812,0.9161084574320694,0.9679487013963562,0.9954719225730846,0.9979866764718844,0.975429786885407,0.9283679330160726,0.8579834132349773,0.7660444431189781,0.654860733945285,0.5272254676105028,0.3863451256931288,0.2357589355094271,0.07924995685678891,-0.0792499568567883,-0.2357589355094265,-0.38634512569312823,-0.5272254676105023,-0.6548607339452852,-0.7660444431189783,-0.8579834132349765,-0.9283679330160723,-0.9754297868854069,-0.9979866764718844,-0.9954719225730846,-0.9679487013963561,-0.91610845743207,-0.8412535328311815,-0.745264449675755,-0.6305526670845226,-0.49999999999999983,-0.35688622159187305,-0.20480666806519165,-0.04758191582374299,0.11083819990101061,0.2664738136900349,0.4154150130018866,0.5539200638661093,0.6785094115571315,0.7860530947427871,0.8738493770697848,0.9396926207859083,0.9819286972627067,0.9994965423831851,0.9919548128307955,0.9594929736144976,0.9029265382866214,0.8236765814298328,0.72373403810507,0.6056096871376676,0.47227107477268354,0.32706796331742227,0.1736481776669307,0.015865963834807977,-0.1423148382732854,-0.2969203753282737,-0.4440666126057733,-0.5800569095711977,-0.701474887706321,-0.8052702575310586,-0.8888354486549236,-0.950071117740945,-0.9874388886763942,-1.0],\"type\":\"scatter\"},{\"line\":{\"color\":\"green\"},\"mode\":\"lines\",\"name\":\"IFFT\",\"x\":[0.0,0.15866629563584814,0.3173325912716963,0.47599888690754444,0.6346651825433925,0.7933314781792407,0.9519977738150889,1.1106640694509369,1.269330365086785,1.4279966607226333,1.5866629563584813,1.7453292519943295,1.9039955476301778,2.0626618432660258,2.2213281389018737,2.379994434537722,2.53866073017357,2.697327025809418,2.8559933214452666,3.0146596170811146,3.1733259127169626,3.331992208352811,3.490658503988659,3.649324799624507,3.8079910952603555,3.9666573908962035,4.1253236865320515,4.2839899821679,4.4426562778037475,4.601322573439596,4.759988869075444,4.918655164711292,5.07732146034714,5.235987755982989,5.394654051618836,5.553320347254685,5.711986642890533,5.870652938526381,6.029319234162229,6.187985529798078,6.346651825433925,6.505318121069774,6.663984416705622,6.82265071234147,6.981317007977318,7.139983303613167,7.298649599249014,7.457315894884863,7.615982190520711,7.774648486156559,7.933314781792407,8.091981077428255,8.250647373064103,8.409313668699951,8.5679799643358,8.726646259971648,8.885312555607495,9.043978851243343,9.202645146879192,9.36131144251504,9.519977738150889,9.678644033786737,9.837310329422584,9.995976625058432,10.15464292069428,10.31330921633013,10.471975511965978,10.630641807601824,10.789308103237673,10.947974398873521,11.10664069450937,11.265306990145218,11.423973285781067,11.582639581416913,11.741305877052762,11.89997217268861,12.058638468324459,12.217304763960307,12.375971059596155,12.534637355232002,12.69330365086785,12.851969946503699,13.010636242139547,13.169302537775396,13.327968833411244,13.486635129047091,13.64530142468294,13.803967720318788,13.962634015954636,14.121300311590485,14.279966607226333,14.43863290286218,14.597299198498028,14.755965494133877,14.914631789769725,15.073298085405574,15.231964381041422,15.390630676677269,15.549296972313117,15.707963267948966],\"y\":[0.027196698859452875,0.08767681916037175,0.1418886130499635,0.18629576125158828,0.21790213616589768,0.23440840377643754,0.23433065361889852,0.21707497890610009,0.182964405665007,0.13321722812944356,0.06987849316085033,-0.004291065825090916,-0.08596206127585741,-0.17141098526944235,-0.25671240544406215,-0.33793818920824975,-0.41135294494551344,-0.473595309619238,-0.5218357351198851,-0.5539029609289948,-0.5683733087666121,-0.5646191732839962,-0.5428154736041483,-0.5039052288252719,-0.4495276838117825,-0.3819144078174306,-0.3037604045465351,-0.2180784203931418,-0.12804526046587988,-0.03684899578152631,0.05245451966764823,0.13706836250418283,0.214558404672513,0.28292995162911033,0.3406746833473384,0.38678741207080874,0.42075410335195756,0.44251436399806926,0.4524030725622909,0.45107692624230183,0.4394323400524743,0.41852132747806564,0.38947171578609074,0.35341733441861095,0.311442721086344,0.26454550170822105,0.21361802049483455,0.15944814038888933,0.102737520956378,0.04413422591947413,-0.01572468058873507,-0.07616573631854678,-0.1364325079353348,-0.1956454681556406,-0.25277350605249554,-0.3066213988060638,-0.3558363637681126,-0.39893532864387427,-0.43435290747360356,-0.46050836638153614,-0.4758882264136492,-0.4791396990143194,-0.4691689898267796,-0.445237727526125,-0.40705044109360067,-0.35482615729072436,-0.28934782447402174,-0.2119843613516837,-0.12468162088153613,-0.029920363692791285,0.06935865678310575,0.16986030853772513,0.26806717252279955,0.36039204209140435,0.443343222476006,0.5136938990944823,0.5686462174992492,0.6059806418706389,0.6241816524593972,0.6225318895848254,0.6011684023454118,0.5610966317369558,0.5041600406719513,0.4329657667582753,0.35076917373021915,0.2613225657005741,0.1686954609839013,0.07707556852691369,-0.00943913919689133,-0.08704618849752248,-0.15243108294579163,-0.2029359628211926,-0.23669510190704274,-0.2527296342183541,-0.2509960882497091,-0.2323858170738998,-0.1986751060605031,-0.15242846152851827,-0.09686017635112176,-0.03566158243951875],\"type\":\"scatter\"}],                        {\"template\":{\"data\":{\"barpolar\":[{\"marker\":{\"line\":{\"color\":\"white\",\"width\":0.5},\"pattern\":{\"fillmode\":\"overlay\",\"size\":10,\"solidity\":0.2}},\"type\":\"barpolar\"}],\"bar\":[{\"error_x\":{\"color\":\"#2a3f5f\"},\"error_y\":{\"color\":\"#2a3f5f\"},\"marker\":{\"line\":{\"color\":\"white\",\"width\":0.5},\"pattern\":{\"fillmode\":\"overlay\",\"size\":10,\"solidity\":0.2}},\"type\":\"bar\"}],\"carpet\":[{\"aaxis\":{\"endlinecolor\":\"#2a3f5f\",\"gridcolor\":\"#C8D4E3\",\"linecolor\":\"#C8D4E3\",\"minorgridcolor\":\"#C8D4E3\",\"startlinecolor\":\"#2a3f5f\"},\"baxis\":{\"endlinecolor\":\"#2a3f5f\",\"gridcolor\":\"#C8D4E3\",\"linecolor\":\"#C8D4E3\",\"minorgridcolor\":\"#C8D4E3\",\"startlinecolor\":\"#2a3f5f\"},\"type\":\"carpet\"}],\"choropleth\":[{\"colorbar\":{\"outlinewidth\":0,\"ticks\":\"\"},\"type\":\"choropleth\"}],\"contourcarpet\":[{\"colorbar\":{\"outlinewidth\":0,\"ticks\":\"\"},\"type\":\"contourcarpet\"}],\"contour\":[{\"colorbar\":{\"outlinewidth\":0,\"ticks\":\"\"},\"colorscale\":[[0.0,\"#0d0887\"],[0.1111111111111111,\"#46039f\"],[0.2222222222222222,\"#7201a8\"],[0.3333333333333333,\"#9c179e\"],[0.4444444444444444,\"#bd3786\"],[0.5555555555555556,\"#d8576b\"],[0.6666666666666666,\"#ed7953\"],[0.7777777777777778,\"#fb9f3a\"],[0.8888888888888888,\"#fdca26\"],[1.0,\"#f0f921\"]],\"type\":\"contour\"}],\"heatmapgl\":[{\"colorbar\":{\"outlinewidth\":0,\"ticks\":\"\"},\"colorscale\":[[0.0,\"#0d0887\"],[0.1111111111111111,\"#46039f\"],[0.2222222222222222,\"#7201a8\"],[0.3333333333333333,\"#9c179e\"],[0.4444444444444444,\"#bd3786\"],[0.5555555555555556,\"#d8576b\"],[0.6666666666666666,\"#ed7953\"],[0.7777777777777778,\"#fb9f3a\"],[0.8888888888888888,\"#fdca26\"],[1.0,\"#f0f921\"]],\"type\":\"heatmapgl\"}],\"heatmap\":[{\"colorbar\":{\"outlinewidth\":0,\"ticks\":\"\"},\"colorscale\":[[0.0,\"#0d0887\"],[0.1111111111111111,\"#46039f\"],[0.2222222222222222,\"#7201a8\"],[0.3333333333333333,\"#9c179e\"],[0.4444444444444444,\"#bd3786\"],[0.5555555555555556,\"#d8576b\"],[0.6666666666666666,\"#ed7953\"],[0.7777777777777778,\"#fb9f3a\"],[0.8888888888888888,\"#fdca26\"],[1.0,\"#f0f921\"]],\"type\":\"heatmap\"}],\"histogram2dcontour\":[{\"colorbar\":{\"outlinewidth\":0,\"ticks\":\"\"},\"colorscale\":[[0.0,\"#0d0887\"],[0.1111111111111111,\"#46039f\"],[0.2222222222222222,\"#7201a8\"],[0.3333333333333333,\"#9c179e\"],[0.4444444444444444,\"#bd3786\"],[0.5555555555555556,\"#d8576b\"],[0.6666666666666666,\"#ed7953\"],[0.7777777777777778,\"#fb9f3a\"],[0.8888888888888888,\"#fdca26\"],[1.0,\"#f0f921\"]],\"type\":\"histogram2dcontour\"}],\"histogram2d\":[{\"colorbar\":{\"outlinewidth\":0,\"ticks\":\"\"},\"colorscale\":[[0.0,\"#0d0887\"],[0.1111111111111111,\"#46039f\"],[0.2222222222222222,\"#7201a8\"],[0.3333333333333333,\"#9c179e\"],[0.4444444444444444,\"#bd3786\"],[0.5555555555555556,\"#d8576b\"],[0.6666666666666666,\"#ed7953\"],[0.7777777777777778,\"#fb9f3a\"],[0.8888888888888888,\"#fdca26\"],[1.0,\"#f0f921\"]],\"type\":\"histogram2d\"}],\"histogram\":[{\"marker\":{\"pattern\":{\"fillmode\":\"overlay\",\"size\":10,\"solidity\":0.2}},\"type\":\"histogram\"}],\"mesh3d\":[{\"colorbar\":{\"outlinewidth\":0,\"ticks\":\"\"},\"type\":\"mesh3d\"}],\"parcoords\":[{\"line\":{\"colorbar\":{\"outlinewidth\":0,\"ticks\":\"\"}},\"type\":\"parcoords\"}],\"pie\":[{\"automargin\":true,\"type\":\"pie\"}],\"scatter3d\":[{\"line\":{\"colorbar\":{\"outlinewidth\":0,\"ticks\":\"\"}},\"marker\":{\"colorbar\":{\"outlinewidth\":0,\"ticks\":\"\"}},\"type\":\"scatter3d\"}],\"scattercarpet\":[{\"marker\":{\"colorbar\":{\"outlinewidth\":0,\"ticks\":\"\"}},\"type\":\"scattercarpet\"}],\"scattergeo\":[{\"marker\":{\"colorbar\":{\"outlinewidth\":0,\"ticks\":\"\"}},\"type\":\"scattergeo\"}],\"scattergl\":[{\"marker\":{\"colorbar\":{\"outlinewidth\":0,\"ticks\":\"\"}},\"type\":\"scattergl\"}],\"scattermapbox\":[{\"marker\":{\"colorbar\":{\"outlinewidth\":0,\"ticks\":\"\"}},\"type\":\"scattermapbox\"}],\"scatterpolargl\":[{\"marker\":{\"colorbar\":{\"outlinewidth\":0,\"ticks\":\"\"}},\"type\":\"scatterpolargl\"}],\"scatterpolar\":[{\"marker\":{\"colorbar\":{\"outlinewidth\":0,\"ticks\":\"\"}},\"type\":\"scatterpolar\"}],\"scatter\":[{\"fillpattern\":{\"fillmode\":\"overlay\",\"size\":10,\"solidity\":0.2},\"type\":\"scatter\"}],\"scatterternary\":[{\"marker\":{\"colorbar\":{\"outlinewidth\":0,\"ticks\":\"\"}},\"type\":\"scatterternary\"}],\"surface\":[{\"colorbar\":{\"outlinewidth\":0,\"ticks\":\"\"},\"colorscale\":[[0.0,\"#0d0887\"],[0.1111111111111111,\"#46039f\"],[0.2222222222222222,\"#7201a8\"],[0.3333333333333333,\"#9c179e\"],[0.4444444444444444,\"#bd3786\"],[0.5555555555555556,\"#d8576b\"],[0.6666666666666666,\"#ed7953\"],[0.7777777777777778,\"#fb9f3a\"],[0.8888888888888888,\"#fdca26\"],[1.0,\"#f0f921\"]],\"type\":\"surface\"}],\"table\":[{\"cells\":{\"fill\":{\"color\":\"#EBF0F8\"},\"line\":{\"color\":\"white\"}},\"header\":{\"fill\":{\"color\":\"#C8D4E3\"},\"line\":{\"color\":\"white\"}},\"type\":\"table\"}]},\"layout\":{\"annotationdefaults\":{\"arrowcolor\":\"#2a3f5f\",\"arrowhead\":0,\"arrowwidth\":1},\"autotypenumbers\":\"strict\",\"coloraxis\":{\"colorbar\":{\"outlinewidth\":0,\"ticks\":\"\"}},\"colorscale\":{\"diverging\":[[0,\"#8e0152\"],[0.1,\"#c51b7d\"],[0.2,\"#de77ae\"],[0.3,\"#f1b6da\"],[0.4,\"#fde0ef\"],[0.5,\"#f7f7f7\"],[0.6,\"#e6f5d0\"],[0.7,\"#b8e186\"],[0.8,\"#7fbc41\"],[0.9,\"#4d9221\"],[1,\"#276419\"]],\"sequential\":[[0.0,\"#0d0887\"],[0.1111111111111111,\"#46039f\"],[0.2222222222222222,\"#7201a8\"],[0.3333333333333333,\"#9c179e\"],[0.4444444444444444,\"#bd3786\"],[0.5555555555555556,\"#d8576b\"],[0.6666666666666666,\"#ed7953\"],[0.7777777777777778,\"#fb9f3a\"],[0.8888888888888888,\"#fdca26\"],[1.0,\"#f0f921\"]],\"sequentialminus\":[[0.0,\"#0d0887\"],[0.1111111111111111,\"#46039f\"],[0.2222222222222222,\"#7201a8\"],[0.3333333333333333,\"#9c179e\"],[0.4444444444444444,\"#bd3786\"],[0.5555555555555556,\"#d8576b\"],[0.6666666666666666,\"#ed7953\"],[0.7777777777777778,\"#fb9f3a\"],[0.8888888888888888,\"#fdca26\"],[1.0,\"#f0f921\"]]},\"colorway\":[\"#636efa\",\"#EF553B\",\"#00cc96\",\"#ab63fa\",\"#FFA15A\",\"#19d3f3\",\"#FF6692\",\"#B6E880\",\"#FF97FF\",\"#FECB52\"],\"font\":{\"color\":\"#2a3f5f\"},\"geo\":{\"bgcolor\":\"white\",\"lakecolor\":\"white\",\"landcolor\":\"white\",\"showlakes\":true,\"showland\":true,\"subunitcolor\":\"#C8D4E3\"},\"hoverlabel\":{\"align\":\"left\"},\"hovermode\":\"closest\",\"mapbox\":{\"style\":\"light\"},\"paper_bgcolor\":\"white\",\"plot_bgcolor\":\"white\",\"polar\":{\"angularaxis\":{\"gridcolor\":\"#EBF0F8\",\"linecolor\":\"#EBF0F8\",\"ticks\":\"\"},\"bgcolor\":\"white\",\"radialaxis\":{\"gridcolor\":\"#EBF0F8\",\"linecolor\":\"#EBF0F8\",\"ticks\":\"\"}},\"scene\":{\"xaxis\":{\"backgroundcolor\":\"white\",\"gridcolor\":\"#DFE8F3\",\"gridwidth\":2,\"linecolor\":\"#EBF0F8\",\"showbackground\":true,\"ticks\":\"\",\"zerolinecolor\":\"#EBF0F8\"},\"yaxis\":{\"backgroundcolor\":\"white\",\"gridcolor\":\"#DFE8F3\",\"gridwidth\":2,\"linecolor\":\"#EBF0F8\",\"showbackground\":true,\"ticks\":\"\",\"zerolinecolor\":\"#EBF0F8\"},\"zaxis\":{\"backgroundcolor\":\"white\",\"gridcolor\":\"#DFE8F3\",\"gridwidth\":2,\"linecolor\":\"#EBF0F8\",\"showbackground\":true,\"ticks\":\"\",\"zerolinecolor\":\"#EBF0F8\"}},\"shapedefaults\":{\"line\":{\"color\":\"#2a3f5f\"}},\"ternary\":{\"aaxis\":{\"gridcolor\":\"#DFE8F3\",\"linecolor\":\"#A2B1C6\",\"ticks\":\"\"},\"baxis\":{\"gridcolor\":\"#DFE8F3\",\"linecolor\":\"#A2B1C6\",\"ticks\":\"\"},\"bgcolor\":\"white\",\"caxis\":{\"gridcolor\":\"#DFE8F3\",\"linecolor\":\"#A2B1C6\",\"ticks\":\"\"}},\"title\":{\"x\":0.05},\"xaxis\":{\"automargin\":true,\"gridcolor\":\"#EBF0F8\",\"linecolor\":\"#EBF0F8\",\"ticks\":\"\",\"title\":{\"standoff\":15},\"zerolinecolor\":\"#EBF0F8\",\"zerolinewidth\":2},\"yaxis\":{\"automargin\":true,\"gridcolor\":\"#EBF0F8\",\"linecolor\":\"#EBF0F8\",\"ticks\":\"\",\"title\":{\"standoff\":15},\"zerolinecolor\":\"#EBF0F8\",\"zerolinewidth\":2}}},\"title\":{\"text\":\"\"},\"xaxis\":{\"title\":{\"text\":\"x\"}},\"yaxis\":{\"title\":{\"text\":\"cos(x)\"}}},                        {\"responsive\": true}                    ).then(function(){\n",
       "                            \n",
       "var gd = document.getElementById('cfeade26-7850-4bae-95f9-176f6f87e9a4');\n",
       "var x = new MutationObserver(function (mutations, observer) {{\n",
       "        var display = window.getComputedStyle(gd).display;\n",
       "        if (!display || display === 'none') {{\n",
       "            console.log([gd, 'removed!']);\n",
       "            Plotly.purge(gd);\n",
       "            observer.disconnect();\n",
       "        }}\n",
       "}});\n",
       "\n",
       "// Listen for the removal of the full notebook cells\n",
       "var notebookContainer = gd.closest('#notebook-container');\n",
       "if (notebookContainer) {{\n",
       "    x.observe(notebookContainer, {childList: true});\n",
       "}}\n",
       "\n",
       "// Listen for the clearing of the current output cell\n",
       "var outputEl = gd.closest('.output');\n",
       "if (outputEl) {{\n",
       "    x.observe(outputEl, {childList: true});\n",
       "}}\n",
       "\n",
       "                        })                };                });            </script>        </div>"
      ]
     },
     "metadata": {},
     "output_type": "display_data"
    }
   ],
   "execution_count": 47
  },
  {
   "metadata": {
    "ExecuteTime": {
     "end_time": "2024-09-09T14:13:27.038321Z",
     "start_time": "2024-09-09T14:13:27.004795Z"
    }
   },
   "cell_type": "code",
   "source": [
    "\n",
    "len(ifft)\n",
    "\n",
    "    "
   ],
   "id": "4497a8ac757a818c",
   "outputs": [
    {
     "data": {
      "text/plain": [
       "100"
      ]
     },
     "execution_count": 35,
     "metadata": {},
     "output_type": "execute_result"
    }
   ],
   "execution_count": 35
  },
  {
   "metadata": {
    "ExecuteTime": {
     "end_time": "2024-09-09T14:13:06.913075Z",
     "start_time": "2024-09-09T14:13:06.901178Z"
    }
   },
   "cell_type": "code",
   "source": "print(type(ifft))",
   "id": "bba1d1542d32c30d",
   "outputs": [
    {
     "name": "stdout",
     "output_type": "stream",
     "text": [
      "<class 'numpy.ndarray'>\n"
     ]
    }
   ],
   "execution_count": 34
  },
  {
   "metadata": {},
   "cell_type": "code",
   "outputs": [],
   "execution_count": null,
   "source": "",
   "id": "909bb42c112346ec"
  }
 ],
 "metadata": {
  "kernelspec": {
   "display_name": "Python 3",
   "language": "python",
   "name": "python3"
  },
  "language_info": {
   "codemirror_mode": {
    "name": "ipython",
    "version": 2
   },
   "file_extension": ".py",
   "mimetype": "text/x-python",
   "name": "python",
   "nbconvert_exporter": "python",
   "pygments_lexer": "ipython2",
   "version": "2.7.6"
  }
 },
 "nbformat": 4,
 "nbformat_minor": 5
}
